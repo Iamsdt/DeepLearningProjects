{
  "nbformat": 4,
  "nbformat_minor": 0,
  "metadata": {
    "colab": {
      "name": "Book Review Classifier.ipynb",
      "provenance": []
    },
    "kernelspec": {
      "name": "python3",
      "display_name": "Python 3"
    },
    "accelerator": "GPU"
  },
  "cells": [
    {
      "cell_type": "code",
      "metadata": {
        "id": "_--Ws8cpei7F",
        "colab_type": "code",
        "colab": {
          "base_uri": "https://localhost:8080/",
          "height": 35
        },
        "outputId": "a1581277-0539-45a2-af8f-8955fee33d7d"
      },
      "source": [
        "%tensorflow_version 2.x"
      ],
      "execution_count": null,
      "outputs": [
        {
          "output_type": "stream",
          "text": [
            "TensorFlow 2.x selected.\n"
          ],
          "name": "stdout"
        }
      ]
    },
    {
      "cell_type": "markdown",
      "metadata": {
        "id": "gHsau77bY7ml",
        "colab_type": "text"
      },
      "source": [
        "## Download Data"
      ]
    },
    {
      "cell_type": "code",
      "metadata": {
        "id": "dkAxjfB1en9K",
        "colab_type": "code",
        "colab": {
          "base_uri": "https://localhost:8080/",
          "height": 217
        },
        "outputId": "0ec1010f-cd95-43f9-952a-56dc0e45c8d7"
      },
      "source": [
        "!wget http://snap.stanford.edu/data/amazon/productGraph/categoryFiles/reviews_Books_10.json.gz"
      ],
      "execution_count": null,
      "outputs": [
        {
          "output_type": "stream",
          "text": [
            "--2020-02-19 14:34:07--  http://snap.stanford.edu/data/amazon/productGraph/categoryFiles/reviews_Books_10.json.gz\n",
            "Resolving snap.stanford.edu (snap.stanford.edu)... 171.64.75.80\n",
            "Connecting to snap.stanford.edu (snap.stanford.edu)|171.64.75.80|:80... connected.\n",
            "HTTP request sent, awaiting response... 200 OK\n",
            "Length: 1936272238 (1.8G) [application/x-gzip]\n",
            "Saving to: ‘reviews_Books_10.json.gz’\n",
            "\n",
            "reviews_Books_10.js 100%[===================>]   1.80G  4.06MB/s    in 10m 4s  \n",
            "\n",
            "2020-02-19 14:44:12 (3.06 MB/s) - ‘reviews_Books_10.json.gz’ saved [1936272238/1936272238]\n",
            "\n"
          ],
          "name": "stdout"
        }
      ]
    },
    {
      "cell_type": "markdown",
      "metadata": {
        "id": "5eFUyH4RY_Sa",
        "colab_type": "text"
      },
      "source": [
        "### Extract Data"
      ]
    },
    {
      "cell_type": "code",
      "metadata": {
        "id": "muhIo_2keoAD",
        "colab_type": "code",
        "colab": {}
      },
      "source": [
        "# extract json file\n",
        "!gunzip reviews_Books_10.json.gz"
      ],
      "execution_count": null,
      "outputs": []
    },
    {
      "cell_type": "markdown",
      "metadata": {
        "id": "ncX6hW54ZBwU",
        "colab_type": "text"
      },
      "source": [
        "## Process Data\n",
        "The file is a huge json file, size around 5.5 GB\n",
        "\n",
        "contains **5M** review\n",
        "\n",
        "So, the file will be splited and saved a pickle file"
      ]
    },
    {
      "cell_type": "code",
      "metadata": {
        "id": "h-5QIdUueoF5",
        "colab_type": "code",
        "colab": {}
      },
      "source": [
        "# read json file\n",
        "infile = open('reviews_Books_10.json', 'r')"
      ],
      "execution_count": null,
      "outputs": []
    },
    {
      "cell_type": "code",
      "metadata": {
        "id": "euGe2YCmgHa3",
        "colab_type": "code",
        "colab": {}
      },
      "source": [
        "# base path for saved file\n",
        "path = 'dataNew/'"
      ],
      "execution_count": null,
      "outputs": []
    },
    {
      "cell_type": "code",
      "metadata": {
        "id": "p8bJBtLQo1dz",
        "colab_type": "code",
        "colab": {
          "base_uri": "https://localhost:8080/",
          "height": 35
        },
        "outputId": "dcb15015-6d53-45c5-e86a-8a473b535be4"
      },
      "source": [
        "!mkdir '$path'"
      ],
      "execution_count": null,
      "outputs": [
        {
          "output_type": "stream",
          "text": [
            "mkdir: cannot create directory ‘dataNew/’: File exists\n"
          ],
          "name": "stdout"
        }
      ]
    },
    {
      "cell_type": "markdown",
      "metadata": {
        "id": "LCccF1ru0Hw7",
        "colab_type": "text"
      },
      "source": [
        "#### Export function\n",
        "This function convert JSON file to pickle as a data frame\n",
        "\n",
        "This dataset is highly imbalanced datasets. So to balance this dataset. First, the lowest number of data will find out for a particular class among the data frame. This value will be multiplied by the ratio. For example,\n",
        "```\n",
        "number * ratio => number\n",
        "\n",
        "2000 * 1.0 => 2000\n",
        "\n",
        "2000 * 1.5 => 3000\n",
        "```\n",
        "In this way, the sliced number will be calculated. Only from the lowest class, all the data will be collected and from the rest of the classes, the only calculated sliced size of data will be sliced and saved as a pickle."
      ]
    },
    {
      "cell_type": "code",
      "metadata": {
        "id": "lgmIwbRKeoJB",
        "colab_type": "code",
        "colab": {}
      },
      "source": [
        "from sklearn.utils import shuffle\n",
        "\n",
        "def export(review, overall, summary, i, ratio=1.0):\n",
        "  \"\"\"\n",
        "    This function take 3 columns list and index number and also ration\n",
        "    here, i is used to to save file as unique name\n",
        "    and ratio is how much data is take, default is 1.0\n",
        "  \"\"\"\n",
        "  # create dict\n",
        "  di = {\n",
        "      \"Review\": review,\n",
        "      \"Overall\":overall,\n",
        "      \"Summary\": summary\n",
        "  }\n",
        "  # Create Dataframe\n",
        "  df = pd.DataFrame(di)\n",
        "\n",
        "  # get lowest valus contains by a single class\n",
        "  v = list(df.Overall.value_counts(ascending=True))[0]\n",
        "  # multiply with ratio\n",
        "  v *= ratio \n",
        "\n",
        "  on = df[df.Overall==1.0][:v]\n",
        "  tw = df[df.Overall==2.0][:v]\n",
        "  th = df[df.Overall==3.0][:v]\n",
        "  fo = df[df.Overall==4.0][:v]\n",
        "  fi = df[df.Overall==5.0][:v]\n",
        "\n",
        "  temp = pd.concat([on, tw, th, fo, fi])\n",
        "  #shuffle data\n",
        "  temp = shuffle(temp)\n",
        "\n",
        "  #reindex\n",
        "  temp.reset_index(drop=True, inplace=False)\n",
        "  print(\"Saved file on: \", temp.shape)\n",
        "  # Save as pickle\n",
        "  temp.to_pickle(path+str(i)+\".pickle\")"
      ],
      "execution_count": null,
      "outputs": []
    },
    {
      "cell_type": "code",
      "metadata": {
        "id": "3584hMCYeoD4",
        "colab_type": "code",
        "colab": {}
      },
      "source": [
        "import re\n",
        "# remove html tags data\n",
        "def preprocess_text(text):\n",
        "    # Removing html tags\n",
        "    TAG_RE = re.compile(r'<[^>]+>')\n",
        "    sentence = TAG_RE.sub('', text)\n",
        "    return sentence"
      ],
      "execution_count": null,
      "outputs": []
    },
    {
      "cell_type": "code",
      "metadata": {
        "id": "WoAsNsP8e3km",
        "colab_type": "code",
        "colab": {
          "base_uri": "https://localhost:8080/",
          "height": 1000
        },
        "outputId": "a44227a5-8b9a-4fb3-c79d-31aa31f54a53"
      },
      "source": [
        "import json\n",
        "import pandas as pd\n",
        "\n",
        "review = []\n",
        "overall = []\n",
        "summary = []\n",
        "\n",
        "for i, row in enumerate(infile):\n",
        "  data = json.loads(row)\n",
        "  text = preprocess_text(data['reviewText'])\n",
        "  review.append(text)\n",
        "  overall.append(data['overall'])\n",
        "  summary.append(data['summary'])\n",
        "\n",
        "  #split after 50000 entry\n",
        "  # clean previous data\n",
        "  if len(review) > 100000:\n",
        "    print(\"Batch:\", i)\n",
        "    export(review, overall, summary, \"Data \"+str(i))\n",
        "    review.clear()\n",
        "    overall.clear()\n",
        "    summary.clear()"
      ],
      "execution_count": null,
      "outputs": [
        {
          "output_type": "stream",
          "text": [
            "Batch: 100000\n",
            "Saved file on:  (23515, 3)\n",
            "Batch: 200001\n",
            "Saved file on:  (20290, 3)\n",
            "Batch: 300002\n",
            "Saved file on:  (19000, 3)\n",
            "Batch: 400003\n",
            "Saved file on:  (16125, 3)\n",
            "Batch: 500004\n",
            "Saved file on:  (17595, 3)\n",
            "Batch: 600005\n",
            "Saved file on:  (22660, 3)\n",
            "Batch: 700006\n",
            "Saved file on:  (15700, 3)\n",
            "Batch: 800007\n",
            "Saved file on:  (19620, 3)\n",
            "Batch: 900008\n",
            "Saved file on:  (16930, 3)\n",
            "Batch: 1000009\n",
            "Saved file on:  (15845, 3)\n",
            "Batch: 1100010\n",
            "Saved file on:  (13405, 3)\n",
            "Batch: 1200011\n",
            "Saved file on:  (16475, 3)\n",
            "Batch: 1300012\n",
            "Saved file on:  (18885, 3)\n",
            "Batch: 1400013\n",
            "Saved file on:  (12690, 3)\n",
            "Batch: 1500014\n",
            "Saved file on:  (14130, 3)\n",
            "Batch: 1600015\n",
            "Saved file on:  (16065, 3)\n",
            "Batch: 1700016\n",
            "Saved file on:  (17965, 3)\n",
            "Batch: 1800017\n",
            "Saved file on:  (10540, 3)\n",
            "Batch: 1900018\n",
            "Saved file on:  (10700, 3)\n",
            "Batch: 2000019\n",
            "Saved file on:  (13160, 3)\n",
            "Batch: 2100020\n",
            "Saved file on:  (14845, 3)\n",
            "Batch: 2200021\n",
            "Saved file on:  (16575, 3)\n",
            "Batch: 2300022\n",
            "Saved file on:  (13045, 3)\n",
            "Batch: 2400023\n",
            "Saved file on:  (11990, 3)\n",
            "Batch: 2500024\n",
            "Saved file on:  (12045, 3)\n",
            "Batch: 2600025\n",
            "Saved file on:  (11040, 3)\n",
            "Batch: 2700026\n",
            "Saved file on:  (8735, 3)\n",
            "Batch: 2800027\n",
            "Saved file on:  (7255, 3)\n",
            "Batch: 2900028\n",
            "Saved file on:  (16415, 3)\n",
            "Batch: 3000029\n",
            "Saved file on:  (12155, 3)\n",
            "Batch: 3100030\n",
            "Saved file on:  (10520, 3)\n",
            "Batch: 3200031\n",
            "Saved file on:  (12885, 3)\n",
            "Batch: 3300032\n",
            "Saved file on:  (19160, 3)\n",
            "Batch: 3400033\n",
            "Saved file on:  (16205, 3)\n",
            "Batch: 3500034\n",
            "Saved file on:  (15000, 3)\n",
            "Batch: 3600035\n",
            "Saved file on:  (13435, 3)\n",
            "Batch: 3700036\n",
            "Saved file on:  (11500, 3)\n",
            "Batch: 3800037\n",
            "Saved file on:  (10775, 3)\n",
            "Batch: 3900038\n",
            "Saved file on:  (9230, 3)\n",
            "Batch: 4000039\n",
            "Saved file on:  (6535, 3)\n"
          ],
          "name": "stdout"
        }
      ]
    },
    {
      "cell_type": "code",
      "metadata": {
        "id": "-paqno_AUauY",
        "colab_type": "code",
        "colab": {
          "base_uri": "https://localhost:8080/",
          "height": 35
        },
        "outputId": "86548694-09eb-448b-d443-e446992dc71e"
      },
      "source": [
        "len(review)"
      ],
      "execution_count": null,
      "outputs": [
        {
          "output_type": "execute_result",
          "data": {
            "text/plain": [
              "1863"
            ]
          },
          "metadata": {
            "tags": []
          },
          "execution_count": 9
        }
      ]
    },
    {
      "cell_type": "markdown",
      "metadata": {
        "id": "Gy5-eJLlq9iT",
        "colab_type": "text"
      },
      "source": [
        "### Create a test file for testing"
      ]
    },
    {
      "cell_type": "code",
      "metadata": {
        "id": "a3GPhU_cn9Xq",
        "colab_type": "code",
        "colab": {
          "base_uri": "https://localhost:8080/",
          "height": 35
        },
        "outputId": "819c583e-a175-4758-d496-1c1031681365"
      },
      "source": [
        "di = {\n",
        "      \"Review\": review,\n",
        "      \"Overall\":overall,\n",
        "      \"Summary\": summary\n",
        "}\n",
        "# Create Dataframe\n",
        "df = pd.DataFrame(di)\n",
        "\n",
        "df.to_pickle(\"Test.pickle\")"
      ],
      "execution_count": null,
      "outputs": [
        {
          "output_type": "stream",
          "text": [
            "Saved file on:  (30, 3)\n"
          ],
          "name": "stdout"
        }
      ]
    },
    {
      "cell_type": "markdown",
      "metadata": {
        "id": "ocwksFHLe6QO",
        "colab_type": "text"
      },
      "source": [
        "### Clean memory"
      ]
    },
    {
      "cell_type": "code",
      "metadata": {
        "id": "YFI339pIe5wm",
        "colab_type": "code",
        "colab": {}
      },
      "source": [
        "del review\n",
        "del overall\n",
        "del summary\n",
        "del infile"
      ],
      "execution_count": null,
      "outputs": []
    },
    {
      "cell_type": "markdown",
      "metadata": {
        "id": "7ByqeAR2UuqJ",
        "colab_type": "text"
      },
      "source": [
        "### Check final data size"
      ]
    },
    {
      "cell_type": "code",
      "metadata": {
        "id": "Y5oouCpWUtU0",
        "colab_type": "code",
        "colab": {
          "base_uri": "https://localhost:8080/",
          "height": 35
        },
        "outputId": "92a21a2c-f464-4bbd-d752-77d1af27ad4f"
      },
      "source": [
        "import glob\n",
        "\n",
        "count = 0\n",
        "\n",
        "for i, d in enumerate(glob.glob(path+'Data *.pickle')):\n",
        "  df = pd.read_pickle(d)\n",
        "  count += df.shape[0]\n",
        " \n",
        "print(\"Final Size: \", count)"
      ],
      "execution_count": null,
      "outputs": [
        {
          "output_type": "stream",
          "text": [
            "Final Size:  580640\n"
          ],
          "name": "stdout"
        }
      ]
    },
    {
      "cell_type": "markdown",
      "metadata": {
        "id": "mkwXSvohYwdl",
        "colab_type": "text"
      },
      "source": [
        "## Test Sample"
      ]
    },
    {
      "cell_type": "code",
      "metadata": {
        "id": "H15lHxnFfJcH",
        "colab_type": "code",
        "colab": {}
      },
      "source": [
        "test = pd.read_pickle(path+\"Data 100000.pickle\")"
      ],
      "execution_count": null,
      "outputs": []
    },
    {
      "cell_type": "code",
      "metadata": {
        "id": "FbvmVfbgfL76",
        "colab_type": "code",
        "colab": {
          "base_uri": "https://localhost:8080/",
          "height": 198
        },
        "outputId": "32801399-234c-4ce6-cb8d-4284b84df4f6"
      },
      "source": [
        "test.head()"
      ],
      "execution_count": null,
      "outputs": [
        {
          "output_type": "execute_result",
          "data": {
            "text/html": [
              "<div>\n",
              "<style scoped>\n",
              "    .dataframe tbody tr th:only-of-type {\n",
              "        vertical-align: middle;\n",
              "    }\n",
              "\n",
              "    .dataframe tbody tr th {\n",
              "        vertical-align: top;\n",
              "    }\n",
              "\n",
              "    .dataframe thead th {\n",
              "        text-align: right;\n",
              "    }\n",
              "</style>\n",
              "<table border=\"1\" class=\"dataframe\">\n",
              "  <thead>\n",
              "    <tr style=\"text-align: right;\">\n",
              "      <th></th>\n",
              "      <th>index</th>\n",
              "      <th>Review</th>\n",
              "      <th>Overall</th>\n",
              "      <th>Summary</th>\n",
              "    </tr>\n",
              "  </thead>\n",
              "  <tbody>\n",
              "    <tr>\n",
              "      <th>0</th>\n",
              "      <td>0</td>\n",
              "      <td>many convoluted story lines that just don't co...</td>\n",
              "      <td>1.0</td>\n",
              "      <td>waste of money, this story has been told before</td>\n",
              "    </tr>\n",
              "    <tr>\n",
              "      <th>1</th>\n",
              "      <td>1</td>\n",
              "      <td>I loved it.  I would recommend that before rea...</td>\n",
              "      <td>5.0</td>\n",
              "      <td>Great Start</td>\n",
              "    </tr>\n",
              "    <tr>\n",
              "      <th>2</th>\n",
              "      <td>2</td>\n",
              "      <td>I think it would be hard for any book to live ...</td>\n",
              "      <td>4.0</td>\n",
              "      <td>Well written enjoyable read...</td>\n",
              "    </tr>\n",
              "    <tr>\n",
              "      <th>3</th>\n",
              "      <td>3</td>\n",
              "      <td>Overall, I feel like I am reading an angel ver...</td>\n",
              "      <td>1.0</td>\n",
              "      <td>Angel Twilight</td>\n",
              "    </tr>\n",
              "    <tr>\n",
              "      <th>4</th>\n",
              "      <td>4</td>\n",
              "      <td>I absolutely loved the first half of 13 to Lif...</td>\n",
              "      <td>3.0</td>\n",
              "      <td>Good story...lost me about midway.</td>\n",
              "    </tr>\n",
              "  </tbody>\n",
              "</table>\n",
              "</div>"
            ],
            "text/plain": [
              "   index  ...                                          Summary\n",
              "0      0  ...  waste of money, this story has been told before\n",
              "1      1  ...                                      Great Start\n",
              "2      2  ...                   Well written enjoyable read...\n",
              "3      3  ...                                   Angel Twilight\n",
              "4      4  ...               Good story...lost me about midway.\n",
              "\n",
              "[5 rows x 4 columns]"
            ]
          },
          "metadata": {
            "tags": []
          },
          "execution_count": 28
        }
      ]
    },
    {
      "cell_type": "code",
      "metadata": {
        "id": "tXzXeTbvfL-z",
        "colab_type": "code",
        "colab": {
          "base_uri": "https://localhost:8080/",
          "height": 163
        },
        "outputId": "3c128b72-9aa2-4037-f08c-395ced22d74d"
      },
      "source": [
        "test.info()"
      ],
      "execution_count": null,
      "outputs": [
        {
          "output_type": "stream",
          "text": [
            "<class 'pandas.core.frame.DataFrame'>\n",
            "Int64Index: 23515 entries, 12 to 10398\n",
            "Data columns (total 3 columns):\n",
            "Review     23515 non-null object\n",
            "Overall    23515 non-null float64\n",
            "Summary    23515 non-null object\n",
            "dtypes: float64(1), object(2)\n",
            "memory usage: 734.8+ KB\n"
          ],
          "name": "stdout"
        }
      ]
    },
    {
      "cell_type": "code",
      "metadata": {
        "id": "zF1w0nJhYexl",
        "colab_type": "code",
        "colab": {
          "base_uri": "https://localhost:8080/",
          "height": 126
        },
        "outputId": "fccaa0db-27a6-46c1-aec9-d5be6642a1dd"
      },
      "source": [
        "test.Overall.value_counts()"
      ],
      "execution_count": null,
      "outputs": [
        {
          "output_type": "execute_result",
          "data": {
            "text/plain": [
              "5.0    4703\n",
              "4.0    4703\n",
              "3.0    4703\n",
              "2.0    4703\n",
              "1.0    4703\n",
              "Name: Overall, dtype: int64"
            ]
          },
          "metadata": {
            "tags": []
          },
          "execution_count": 31
        }
      ]
    },
    {
      "cell_type": "code",
      "metadata": {
        "id": "HRvI3beGfMBz",
        "colab_type": "code",
        "colab": {
          "base_uri": "https://localhost:8080/",
          "height": 283
        },
        "outputId": "170e99a9-4d7f-4820-f146-ed7c0f881211"
      },
      "source": [
        "test.Overall.hist()"
      ],
      "execution_count": null,
      "outputs": [
        {
          "output_type": "execute_result",
          "data": {
            "text/plain": [
              "<matplotlib.axes._subplots.AxesSubplot at 0x7fdb231dde80>"
            ]
          },
          "metadata": {
            "tags": []
          },
          "execution_count": 30
        },
        {
          "output_type": "display_data",
          "data": {
            "image/png": "[encoded data removed]",
            "text/plain": [
              "<Figure size 432x288 with 1 Axes>"
            ]
          },
          "metadata": {
            "tags": []
          }
        }
      ]
    },
    {
      "cell_type": "code",
      "metadata": {
        "id": "edOwJ_LcfSMM",
        "colab_type": "code",
        "colab": {}
      },
      "source": [
        "del test"
      ],
      "execution_count": null,
      "outputs": []
    },
    {
      "cell_type": "markdown",
      "metadata": {
        "id": "xuzxP6oVfbXC",
        "colab_type": "text"
      },
      "source": [
        "## Tokenizer\n",
        "The file are splited into several parts, so all file will be open and create tokenizer for all the files"
      ]
    },
    {
      "cell_type": "code",
      "metadata": {
        "id": "xnKfnIxIfa_a",
        "colab_type": "code",
        "colab": {
          "base_uri": "https://localhost:8080/",
          "height": 35
        },
        "outputId": "aa81f084-c42c-402f-95aa-aaf69eb613b0"
      },
      "source": [
        "from keras.preprocessing.text import Tokenizer\n",
        "from string import punctuation\n",
        "\n",
        "# The maximum number of words to be used. (most frequent)\n",
        "MAX_NB_WORDS = 1000\n",
        "\n",
        "tokenizer = Tokenizer(num_words=MAX_NB_WORDS, lower=True)"
      ],
      "execution_count": null,
      "outputs": [
        {
          "output_type": "stream",
          "text": [
            "Using TensorFlow backend.\n"
          ],
          "name": "stderr"
        }
      ]
    },
    {
      "cell_type": "code",
      "metadata": {
        "id": "RGGvLPAufqZY",
        "colab_type": "code",
        "colab": {
          "base_uri": "https://localhost:8080/",
          "height": 35
        },
        "outputId": "34659701-420b-404b-be7c-750534614444"
      },
      "source": [
        "import glob\n",
        "import pandas as pd\n",
        "\n",
        "for i, d in enumerate(glob.glob(path+'Data *.pickle')):\n",
        "  df = pd.read_pickle(d)\n",
        "  li = list(df.Review.values)\n",
        "  tokenizer.fit_on_texts(li)\n",
        "\n",
        "print(\"Totla number of unique words: \", len(tokenizer.word_index))"
      ],
      "execution_count": null,
      "outputs": [
        {
          "output_type": "stream",
          "text": [
            "Totla number of unique words:  384290\n"
          ],
          "name": "stdout"
        }
      ]
    },
    {
      "cell_type": "code",
      "metadata": {
        "id": "TJ8jbTnsfrTC",
        "colab_type": "code",
        "colab": {}
      },
      "source": [
        "import pickle\n",
        "# Save Tokenizer\n",
        "def save_token(tokenizer):\n",
        "  with open(path+'token.pickle', 'wb') as f:\n",
        "      pickle.dump(tokenizer, f, protocol=pickle.HIGHEST_PROTOCOL)\n",
        "\n",
        "\n",
        "def load_token():\n",
        "  with open(path+'token.pickle', 'rb') as handle:\n",
        "    token = pickle.load(handle)\n",
        "  return token"
      ],
      "execution_count": null,
      "outputs": []
    },
    {
      "cell_type": "markdown",
      "metadata": {
        "id": "1g1zAPgX4TwF",
        "colab_type": "text"
      },
      "source": [
        "Save tokenizer for further uses"
      ]
    },
    {
      "cell_type": "code",
      "metadata": {
        "id": "4sfvgAGep8xS",
        "colab_type": "code",
        "colab": {}
      },
      "source": [
        "save_token(tokenizer)"
      ],
      "execution_count": null,
      "outputs": []
    },
    {
      "cell_type": "markdown",
      "metadata": {
        "id": "Y1duT2XfcXem",
        "colab_type": "text"
      },
      "source": [
        "## Train with a single pickle file"
      ]
    },
    {
      "cell_type": "code",
      "metadata": {
        "id": "lP-Qtzr2gnvI",
        "colab_type": "code",
        "colab": {}
      },
      "source": [
        "from keras.preprocessing.sequence import pad_sequences\n",
        "\n",
        "# Max number of words in each complaint.\n",
        "MAX_SEQUENCE_LENGTH = 150\n",
        "\n",
        "def padded(list_of_text):\n",
        "  X = tokenizer.texts_to_sequences(list_of_text)\n",
        "  X = pad_sequences(X, maxlen=MAX_SEQUENCE_LENGTH, padding='post', truncating='post')\n",
        "  return X"
      ],
      "execution_count": null,
      "outputs": []
    },
    {
      "cell_type": "markdown",
      "metadata": {
        "id": "zJe5Ij6soSkb",
        "colab_type": "text"
      },
      "source": [
        "### Test with first pickle"
      ]
    },
    {
      "cell_type": "code",
      "metadata": {
        "id": "EWpxQXeToL8U",
        "colab_type": "code",
        "colab": {
          "base_uri": "https://localhost:8080/",
          "height": 35
        },
        "outputId": "ffc741e5-58a9-4742-80b2-1b229634de99"
      },
      "source": [
        "li = glob.glob(path+'Data *.pickle')\n",
        "fname = li[0]\n",
        "fname"
      ],
      "execution_count": null,
      "outputs": [
        {
          "output_type": "execute_result",
          "data": {
            "text/plain": [
              "'dataNew/Data 700006.pickle'"
            ]
          },
          "metadata": {
            "tags": []
          },
          "execution_count": 10
        }
      ]
    },
    {
      "cell_type": "markdown",
      "metadata": {
        "id": "nuGgx1vPclxV",
        "colab_type": "text"
      },
      "source": [
        "### Analysis first file"
      ]
    },
    {
      "cell_type": "code",
      "metadata": {
        "id": "SXfqj-mNodaJ",
        "colab_type": "code",
        "colab": {
          "base_uri": "https://localhost:8080/",
          "height": 198
        },
        "outputId": "b80215a2-14ba-4ccc-f6d2-87e1b382491d"
      },
      "source": [
        "df = pd.read_pickle(fname)\n",
        "df.head()"
      ],
      "execution_count": null,
      "outputs": [
        {
          "output_type": "execute_result",
          "data": {
            "text/html": [
              "<div>\n",
              "<style scoped>\n",
              "    .dataframe tbody tr th:only-of-type {\n",
              "        vertical-align: middle;\n",
              "    }\n",
              "\n",
              "    .dataframe tbody tr th {\n",
              "        vertical-align: top;\n",
              "    }\n",
              "\n",
              "    .dataframe thead th {\n",
              "        text-align: right;\n",
              "    }\n",
              "</style>\n",
              "<table border=\"1\" class=\"dataframe\">\n",
              "  <thead>\n",
              "    <tr style=\"text-align: right;\">\n",
              "      <th></th>\n",
              "      <th>Review</th>\n",
              "      <th>Overall</th>\n",
              "      <th>Summary</th>\n",
              "    </tr>\n",
              "  </thead>\n",
              "  <tbody>\n",
              "    <tr>\n",
              "      <th>38</th>\n",
              "      <td>I had high expectations for this novel.  First...</td>\n",
              "      <td>1.0</td>\n",
              "      <td>Extremely Disappointing</td>\n",
              "    </tr>\n",
              "    <tr>\n",
              "      <th>77</th>\n",
              "      <td>There are certain expectations of romance fict...</td>\n",
              "      <td>1.0</td>\n",
              "      <td>no conflict, no drama, no grey moment = no story</td>\n",
              "    </tr>\n",
              "    <tr>\n",
              "      <th>86</th>\n",
              "      <td>Checked out the first 2 books in the series fr...</td>\n",
              "      <td>1.0</td>\n",
              "      <td>Third time broke the charm</td>\n",
              "    </tr>\n",
              "    <tr>\n",
              "      <th>87</th>\n",
              "      <td>I've always been a huge Nora Roberts fan but l...</td>\n",
              "      <td>1.0</td>\n",
              "      <td>BORING</td>\n",
              "    </tr>\n",
              "    <tr>\n",
              "      <th>128</th>\n",
              "      <td>I'm very disappointed in the publisher's choic...</td>\n",
              "      <td>1.0</td>\n",
              "      <td>Not on Kindle - Won't buy it</td>\n",
              "    </tr>\n",
              "  </tbody>\n",
              "</table>\n",
              "</div>"
            ],
            "text/plain": [
              "                                                Review  ...                                           Summary\n",
              "38   I had high expectations for this novel.  First...  ...                           Extremely Disappointing\n",
              "77   There are certain expectations of romance fict...  ...  no conflict, no drama, no grey moment = no story\n",
              "86   Checked out the first 2 books in the series fr...  ...                        Third time broke the charm\n",
              "87   I've always been a huge Nora Roberts fan but l...  ...                                            BORING\n",
              "128  I'm very disappointed in the publisher's choic...  ...                      Not on Kindle - Won't buy it\n",
              "\n",
              "[5 rows x 3 columns]"
            ]
          },
          "metadata": {
            "tags": []
          },
          "execution_count": 11
        }
      ]
    },
    {
      "cell_type": "code",
      "metadata": {
        "id": "cJBZA9SEohBg",
        "colab_type": "code",
        "colab": {
          "base_uri": "https://localhost:8080/",
          "height": 163
        },
        "outputId": "c03801db-c67f-4f73-8389-ad87e695b25d"
      },
      "source": [
        "df.info()"
      ],
      "execution_count": null,
      "outputs": [
        {
          "output_type": "stream",
          "text": [
            "<class 'pandas.core.frame.DataFrame'>\n",
            "Int64Index: 15700 entries, 38 to 6486\n",
            "Data columns (total 3 columns):\n",
            "Review     15700 non-null object\n",
            "Overall    15700 non-null float64\n",
            "Summary    15700 non-null object\n",
            "dtypes: float64(1), object(2)\n",
            "memory usage: 490.6+ KB\n"
          ],
          "name": "stdout"
        }
      ]
    },
    {
      "cell_type": "code",
      "metadata": {
        "id": "mrczVef_Bn-9",
        "colab_type": "code",
        "colab": {
          "base_uri": "https://localhost:8080/",
          "height": 126
        },
        "outputId": "358740de-79ca-4996-ddae-534c34f2bbf6"
      },
      "source": [
        "df.Overall.value_counts()"
      ],
      "execution_count": null,
      "outputs": [
        {
          "output_type": "execute_result",
          "data": {
            "text/plain": [
              "5.0    3140\n",
              "4.0    3140\n",
              "3.0    3140\n",
              "2.0    3140\n",
              "1.0    3140\n",
              "Name: Overall, dtype: int64"
            ]
          },
          "metadata": {
            "tags": []
          },
          "execution_count": 13
        }
      ]
    },
    {
      "cell_type": "markdown",
      "metadata": {
        "id": "qkn3NGcYqMds",
        "colab_type": "text"
      },
      "source": [
        "### Remove short review"
      ]
    },
    {
      "cell_type": "code",
      "metadata": {
        "id": "Fvq1spZlaSMw",
        "colab_type": "code",
        "colab": {
          "base_uri": "https://localhost:8080/",
          "height": 54
        },
        "outputId": "7275306c-ed3f-40af-fb61-c220652ef853"
      },
      "source": [
        "print(\"Before removing short review\")\n",
        "print(len(min(df.Review)))\n",
        "print(len(max(df.Review)))\n",
        "\n",
        "\n",
        "con = df.Review.apply(lambda x: len(x.split()) > 10)\n",
        "df = df[con]\n",
        "\n",
        "print(\"\\nAfter remove short review\")\n",
        "print(len(min(df.Review)))\n",
        "print(len(max(df.Review)))"
      ],
      "execution_count": null,
      "outputs": [
        {
          "output_type": "stream",
          "text": [
            "491\n",
            "2109\n"
          ],
          "name": "stdout"
        }
      ]
    },
    {
      "cell_type": "markdown",
      "metadata": {
        "id": "Eyi_hf2Wc1yU",
        "colab_type": "text"
      },
      "source": [
        "### Encode Review and label"
      ]
    },
    {
      "cell_type": "code",
      "metadata": {
        "id": "V8UrxIdUbpqx",
        "colab_type": "code",
        "colab": {
          "base_uri": "https://localhost:8080/",
          "height": 35
        },
        "outputId": "a438e5b3-1d8d-4ce4-b324-c1ca748d57d4"
      },
      "source": [
        "X = padded(df.Review.values)\n",
        "print(\"Ecoded Review Shape: \", X.shape)"
      ],
      "execution_count": null,
      "outputs": [
        {
          "output_type": "stream",
          "text": [
            "Ecoded Review Shape:  (15687, 150)\n"
          ],
          "name": "stdout"
        }
      ]
    },
    {
      "cell_type": "code",
      "metadata": {
        "id": "nLNEbEnkq3JW",
        "colab_type": "code",
        "colab": {}
      },
      "source": [
        "from sklearn import preprocessing\n",
        "import keras\n",
        "\n",
        "label = df.Overall.values\n",
        "\n",
        "le = preprocessing.LabelEncoder()\n",
        "le.fit(label)\n",
        "\n",
        "def encode(le, labels):\n",
        "    enc = le.transform(labels)\n",
        "    return keras.utils.to_categorical(enc)\n",
        "\n",
        "def decode(le, one_hot):\n",
        "    dec = np.argmax(one_hot, axis=1)\n",
        "    return le.inverse_transform(dec)\n",
        "\n",
        "#Encode label\n",
        "y_enc = encode(le, label)"
      ],
      "execution_count": null,
      "outputs": []
    },
    {
      "cell_type": "code",
      "metadata": {
        "id": "UOHWzMsTsg6c",
        "colab_type": "code",
        "colab": {
          "base_uri": "https://localhost:8080/",
          "height": 328
        },
        "outputId": "74d73d99-f38f-40eb-cece-68876d788bc9"
      },
      "source": [
        "print(\"Actual review:\", review[20])\n",
        "print(\"Review len: \", len(review[20].split()))\n",
        "print(\"Encoded label:\", y_enc[20])\n",
        "print(\"Ecoded Review: \", X[20])"
      ],
      "execution_count": null,
      "outputs": [
        {
          "output_type": "stream",
          "text": [
            "Actual review: Warning - Contains SpoilersI have been a faithful reader of this series since it began. I loved the series, notice past tense. Up until this book, I really did love the books. After Bullet, though, I am done. I will not read another one and I truly would love if I could undo reading this one but I can't and it taints every one of the previous books. The reason I loved the books so was that I felt the connection between Anita and Jean Claude, my two favorite characters. Now, I feel betrayed by Jean Claude having sex with another woman, having sex with another man. I felt the love and romance between Anita and Jean Claude. Now all I feel is disgust. They both deserve each other.\n",
            "Review len:  129\n",
            "Encoded label: [1. 0. 0. 0. 0.]\n",
            "Ecoded Review:  [    6    54   317  1412    14    10   107    68     9     7   135    39\n",
            "    48   404    79  2536  3077     2    13   355     4   528   367   822\n",
            "    39   781   867     2   260     6  1453    46    54    80     4  1113\n",
            "   564   145   467    20    10    12    32    10   117   267     6    13\n",
            "   243   387     3 16601     8    37   520   107     6    13 20295  5594\n",
            "     2    61    67   375     1    29  3867   219  9356     4   503   193\n",
            "  1885  4825  1152     2  4534    20     1  7012     5   104  1164  1225\n",
            "   142     1  3123     5  4784 30619 11366    39 44077  9521     1   202\n",
            "   416    20     1  1225    15   162   503 10749 16846     2 32133  1826\n",
            "     1 17495   176   147     2   575  9356  2753     2 21487    24     1\n",
            "  6228  4842   313    15     1   234     5    60  1992  2253  1394     2\n",
            "   316  1065  4753  5871 17495   227     1   176   605     3   114     4\n",
            "   428    18     4  8629  6638    16]\n"
          ],
          "name": "stdout"
        }
      ]
    },
    {
      "cell_type": "markdown",
      "metadata": {
        "id": "Jl2uDaxvc7wT",
        "colab_type": "text"
      },
      "source": [
        "### Prepare Datasets"
      ]
    },
    {
      "cell_type": "code",
      "metadata": {
        "id": "gQ_8sGyeyn_m",
        "colab_type": "code",
        "colab": {
          "base_uri": "https://localhost:8080/",
          "height": 54
        },
        "outputId": "bac5b18f-8ed5-4f11-cdc2-605a98bf9838"
      },
      "source": [
        "from sklearn.model_selection import train_test_split\n",
        "\n",
        "X_train, X_test, y_train, y_test = train_test_split(X, y_enc, test_size=0.05)\n",
        "\n",
        "print(\"Train input shape: \",X_train.shape)\n",
        "print(\"Test input shape: \",X_test.shape)"
      ],
      "execution_count": null,
      "outputs": [
        {
          "output_type": "stream",
          "text": [
            "Train input shape:  (14902, 150)\n",
            "Test input shape:  (785, 150)\n"
          ],
          "name": "stdout"
        }
      ]
    },
    {
      "cell_type": "markdown",
      "metadata": {
        "id": "yDroLjXsdCsJ",
        "colab_type": "text"
      },
      "source": [
        "### Test with simple model"
      ]
    },
    {
      "cell_type": "code",
      "metadata": {
        "id": "Jb8g9lN4zpWH",
        "colab_type": "code",
        "colab": {
          "base_uri": "https://localhost:8080/",
          "height": 326
        },
        "outputId": "77833730-e0cb-4420-9052-b753c2094d09"
      },
      "source": [
        "from tensorflow.keras.layers import Dense, Embedding, LSTM, SpatialDropout1D\n",
        "from tensorflow.keras.models import Sequential\n",
        "\n",
        "EMBEDDING_DIM = 100\n",
        "\n",
        "model = Sequential()\n",
        "model.add(Embedding(len(tokenizer.word_index)+1, EMBEDDING_DIM, input_shape=(X_train.shape[1], )))\n",
        "model.add(LSTM(units=128, activation='tanh', recurrent_dropout=0.2, return_sequences=True),)\n",
        "model.add(LSTM(units=256, activation='tanh', recurrent_dropout=0.2),)\n",
        "model.add(Dense(1, activation='sigmoid'))\n",
        "\n",
        "print(model.summary())"
      ],
      "execution_count": null,
      "outputs": [
        {
          "output_type": "stream",
          "text": [
            "Model: \"sequential_5\"\n",
            "_________________________________________________________________\n",
            "Layer (type)                 Output Shape              Param #   \n",
            "=================================================================\n",
            "embedding_5 (Embedding)      (None, 150, 100)          38429100  \n",
            "_________________________________________________________________\n",
            "lstm_6 (LSTM)                (None, 150, 128)          117248    \n",
            "_________________________________________________________________\n",
            "lstm_7 (LSTM)                (None, 256)               394240    \n",
            "_________________________________________________________________\n",
            "dense_6 (Dense)              (None, 5)                 1285      \n",
            "=================================================================\n",
            "Total params: 38,941,873\n",
            "Trainable params: 38,941,873\n",
            "Non-trainable params: 0\n",
            "_________________________________________________________________\n",
            "None\n"
          ],
          "name": "stdout"
        }
      ]
    },
    {
      "cell_type": "code",
      "metadata": {
        "id": "A7AFMpXt0APD",
        "colab_type": "code",
        "colab": {}
      },
      "source": [
        "from tensorflow.keras.optimizers import Adam\n",
        "from tensorflow.keras.losses import CategoricalCrossentropy, SparseCategoricalCrossentropy\n",
        "\n",
        "opt = Adam(learning_rate=0.001)\n",
        "loss = CategoricalCrossentropy()\n",
        "\n",
        "model.compile(loss=loss, optimizer=opt, metrics=['accuracy'])"
      ],
      "execution_count": null,
      "outputs": []
    },
    {
      "cell_type": "code",
      "metadata": {
        "id": "Yq0KE_aS0C5A",
        "colab_type": "code",
        "colab": {
          "base_uri": "https://localhost:8080/",
          "height": 165
        },
        "outputId": "2ec709ce-5115-40cd-a8a6-441808f7543a"
      },
      "source": [
        "epochs = 3\n",
        "batch_size = 128\n",
        "\n",
        "history = model.fit(X_train, y_train, epochs=epochs, batch_size=batch_size,validation_split=0.1)"
      ],
      "execution_count": null,
      "outputs": [
        {
          "output_type": "stream",
          "text": [
            "Train on 13411 samples, validate on 1491 samples\n",
            "Epoch 1/3\n",
            "13411/13411 [==============================] - 109s 8ms/sample - loss: 1.5737 - accuracy: 0.2542 - val_loss: 1.8248 - val_accuracy: 0.2300\n",
            "Epoch 2/3\n",
            "13411/13411 [==============================] - 102s 8ms/sample - loss: 1.5596 - accuracy: 0.2615 - val_loss: 1.5881 - val_accuracy: 0.2368\n",
            "Epoch 3/3\n",
            "13411/13411 [==============================] - 103s 8ms/sample - loss: 1.5512 - accuracy: 0.2657 - val_loss: 1.5580 - val_accuracy: 0.2891\n"
          ],
          "name": "stdout"
        }
      ]
    },
    {
      "cell_type": "code",
      "metadata": {
        "id": "5sQje-81gV4H",
        "colab_type": "code",
        "colab": {}
      },
      "source": [
        "model.save(\"model.h5\")"
      ],
      "execution_count": null,
      "outputs": []
    },
    {
      "cell_type": "markdown",
      "metadata": {
        "id": "wBCBS4fndyIY",
        "colab_type": "text"
      },
      "source": [
        "### Test"
      ]
    },
    {
      "cell_type": "code",
      "metadata": {
        "id": "xAcz6pCkzi13",
        "colab_type": "code",
        "colab": {}
      },
      "source": [
        "model.evaluate(X_test, y_test)"
      ],
      "execution_count": null,
      "outputs": []
    },
    {
      "cell_type": "code",
      "metadata": {
        "id": "d54a3bmt84YT",
        "colab_type": "code",
        "colab": {}
      },
      "source": [
        "import numpy as np\n",
        "\n",
        "def predict(s):\n",
        "  p = padded([s])\n",
        "  out = model.predict(p)\n",
        "  return np.argmax(p)\n"
      ],
      "execution_count": null,
      "outputs": []
    },
    {
      "cell_type": "code",
      "metadata": {
        "id": "dujCCYS3z7ky",
        "colab_type": "code",
        "colab": {}
      },
      "source": [
        "s = df.Review[100]\n",
        "predict(s)"
      ],
      "execution_count": null,
      "outputs": []
    },
    {
      "cell_type": "markdown",
      "metadata": {
        "id": "NJrAr4PkCe73",
        "colab_type": "text"
      },
      "source": [
        "## Run batch test"
      ]
    },
    {
      "cell_type": "markdown",
      "metadata": {
        "id": "SlOhDPtg4_J5",
        "colab_type": "text"
      },
      "source": [
        "#### Helper function"
      ]
    },
    {
      "cell_type": "code",
      "metadata": {
        "id": "vt2cVeyEf97g",
        "colab_type": "code",
        "colab": {}
      },
      "source": [
        "def remove_short_review(df):\n",
        "  con = df.Review.apply(lambda x: len(x.split()) > 10)\n",
        "  return df[con]"
      ],
      "execution_count": null,
      "outputs": []
    },
    {
      "cell_type": "code",
      "metadata": {
        "id": "s5anKSxWg4eS",
        "colab_type": "code",
        "colab": {}
      },
      "source": [
        "from sklearn import preprocessing\n",
        "import keras\n",
        "\n",
        "def encode(review, label):\n",
        "  # encode x\n",
        "  x = padded(review)\n",
        "  \n",
        "  #encode y\n",
        "  le = preprocessing.LabelEncoder()\n",
        "  le.fit(label)\n",
        "  enc = le.transform(label)\n",
        "  y = keras.utils.to_categorical(enc)\n",
        "\n",
        "  return x, y"
      ],
      "execution_count": null,
      "outputs": []
    },
    {
      "cell_type": "code",
      "metadata": {
        "id": "zaPDfdcuiFcB",
        "colab_type": "code",
        "colab": {}
      },
      "source": [
        "import tensorflow as tf\n",
        "\n",
        "def load_model(path):\n",
        "  return tf.keras.models.load_model(path)\n",
        "\n",
        "def train(model, X, y, epochs=3, batch_size=128, valid=0.1):\n",
        "  history = model.fit(X, y, epochs=epochs, batch_size=batch_size,validation_split=valid)\n",
        "  return model, history\n",
        "\n",
        "def save_model(model, path):\n",
        "  model.save(path)"
      ],
      "execution_count": null,
      "outputs": []
    },
    {
      "cell_type": "code",
      "metadata": {
        "id": "SVDlmuZnhmGs",
        "colab_type": "code",
        "colab": {}
      },
      "source": [
        "def process_train(fname, path, epochs=3, batch_size=128, valid=0.1, model_path='model.h5'):\n",
        "  df=pd.read_pickle(fname)\n",
        "  print(\"###################################################\")\n",
        "  print(\"Start processing  :\", fname)\n",
        "  \n",
        "  # remove sort review\n",
        "  df = remove_short_review(df)\n",
        "\n",
        "  # encode review\n",
        "  X, y = encode(df.Review, df.Overall)\n",
        "  print(\"Data encoding complete\")\n",
        "  print(\"Review shape: \", X.shape)\n",
        "  print(\"Lable.shape: \", y.shape)\n",
        "  \n",
        "  # laod model\n",
        "  model = load_model(model_path)\n",
        "  print(\"Model loaded\")\n",
        "  \n",
        "  # train\n",
        "  model, history = train(model, X, y, epochs=epochs, batch_size=batch_size, valid=valid)\n",
        "  \n",
        "  # save model\n",
        "  print(\"saving model at: \", model_path)\n",
        "  save_model(model, model_path)\n",
        "  \n",
        "  print(\"End process for: \", fname)\n",
        "  print(\"###################################################\")\n",
        "  return history"
      ],
      "execution_count": null,
      "outputs": []
    },
    {
      "cell_type": "code",
      "metadata": {
        "id": "6xSZL4JUrJ_g",
        "colab_type": "code",
        "colab": {}
      },
      "source": [
        "def save_list(var, path=\"\"):\n",
        "  with open(path+'completed.pickle', 'wb') as f:\n",
        "      pickle.dump(var, f, protocol=pickle.HIGHEST_PROTOCOL)\n",
        "\n",
        "\n",
        "def load_list(path=\"\"):\n",
        "  with open(path+'completed.pickle', 'rb') as handle:\n",
        "    var = pickle.load(handle)\n",
        "  return var"
      ],
      "execution_count": null,
      "outputs": []
    },
    {
      "cell_type": "code",
      "metadata": {
        "id": "JE2NK7W7sUS7",
        "colab_type": "code",
        "colab": {}
      },
      "source": [
        "import os\n",
        "\n",
        "def start_training(path, ext='Data *.pickle', epochs=3, batch_size=128, valid=0.1, model_path='model.h5'):\n",
        "  # check model\n",
        "  if !os.path.exists(model_path):\n",
        "    raise Exception(\"Model did not found\")\n",
        "\n",
        "  completed = []\n",
        "  history = []\n",
        "\n",
        "  # load tokenizer\n",
        "  tokenizer = load_token(path)\n",
        "\n",
        "  if os.path.exists(path+'completed.pickle'):\n",
        "    completed = load_list(path)\n",
        "\n",
        "  # check all file\n",
        "  li = glob.glob(path+\"/\"+ext)\n",
        "  # start lopping through file name\n",
        "  for i in li:\n",
        "    if i in completed:\n",
        "      continue\n",
        "      \n",
        "    # process\n",
        "    h = process_train(i, path, epochs=epochs, batch_size=batch_size, valid=valid, model_path=model_path)\n",
        "    history.append(h)\n",
        "    # save completed list\n",
        "    completed.append(i)\n",
        "    # save_list\n",
        "    save_list(completed)\n",
        "  \n",
        "\n",
        "  return history"
      ],
      "execution_count": null,
      "outputs": []
    },
    {
      "cell_type": "markdown",
      "metadata": {
        "id": "ctS0ouVi5C7X",
        "colab_type": "text"
      },
      "source": [
        "### Run test"
      ]
    },
    {
      "cell_type": "code",
      "metadata": {
        "id": "ZOKuWpvawtCA",
        "colab_type": "code",
        "colab": {}
      },
      "source": [
        "start_training(\"dataNew\")"
      ],
      "execution_count": null,
      "outputs": []
    }
  ]
}