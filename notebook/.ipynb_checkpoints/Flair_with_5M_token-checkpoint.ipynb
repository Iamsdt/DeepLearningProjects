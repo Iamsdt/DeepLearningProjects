{
 "cells": [
  {
   "cell_type": "code",
   "execution_count": null,
   "metadata": {
    "colab": {
     "base_uri": "https://localhost:8080/",
     "height": 309
    },
    "colab_type": "code",
    "id": "s4mDMHXIHqau",
    "outputId": "077c9311-2c57-4262-db5b-aa0e08091d53"
   },
   "outputs": [
    {
     "name": "stdout",
     "output_type": "stream",
     "text": [
      "--2020-06-19 07:31:55--  https://github.com/gouthamcm/recruit/raw/master/Entity%20Recognition%20in%20Resumes.tsv\n",
      "Resolving github.com (github.com)... 13.250.177.223\n",
      "Connecting to github.com (github.com)|13.250.177.223|:443... connected.\n",
      "HTTP request sent, awaiting response... 302 Found\n",
      "Location: https://raw.githubusercontent.com/gouthamcm/recruit/master/Entity%20Recognition%20in%20Resumes.tsv [following]\n",
      "--2020-06-19 07:31:55--  https://raw.githubusercontent.com/gouthamcm/recruit/master/Entity%20Recognition%20in%20Resumes.tsv\n",
      "Resolving raw.githubusercontent.com (raw.githubusercontent.com)... 151.101.0.133, 151.101.64.133, 151.101.128.133, ...\n",
      "Connecting to raw.githubusercontent.com (raw.githubusercontent.com)|151.101.0.133|:443... connected.\n",
      "HTTP request sent, awaiting response... 200 OK\n",
      "Length: 56131561 (54M) [text/plain]\n",
      "Saving to: ‘Entity Recognition in Resumes.tsv’\n",
      "\n",
      "Entity Recognition  100%[===================>]  53.53M   160MB/s    in 0.3s    \n",
      "\n",
      "2020-06-19 07:32:01 (160 MB/s) - ‘Entity Recognition in Resumes.tsv’ saved [56131561/56131561]\n",
      "\n"
     ]
    }
   ],
   "source": [
    "# !wget https://github.com/gouthamcm/recruit/raw/master/Entity%20Recognition%20in%20Resumes.tsv"
   ]
  },
  {
   "cell_type": "code",
   "execution_count": null,
   "metadata": {
    "colab": {},
    "colab_type": "code",
    "id": "l8omy81ZHwbe"
   },
   "outputs": [],
   "source": [
    "# import pandas as pd\n",
    "\n",
    "# df = pd.read_csv('/content/Entity Recognition in Resumes.tsv', sep='\\t')"
   ]
  },
  {
   "cell_type": "code",
   "execution_count": null,
   "metadata": {
    "colab": {
     "base_uri": "https://localhost:8080/",
     "height": 204
    },
    "colab_type": "code",
    "id": "Lagp5c9_H1k8",
    "outputId": "4f2c1039-cd35-4587-8ff2-26ff306c20b6"
   },
   "outputs": [
    {
     "data": {
      "text/html": [
       "<div>\n",
       "<style scoped>\n",
       "    .dataframe tbody tr th:only-of-type {\n",
       "        vertical-align: middle;\n",
       "    }\n",
       "\n",
       "    .dataframe tbody tr th {\n",
       "        vertical-align: top;\n",
       "    }\n",
       "\n",
       "    .dataframe thead th {\n",
       "        text-align: right;\n",
       "    }\n",
       "</style>\n",
       "<table border=\"1\" class=\"dataframe\">\n",
       "  <thead>\n",
       "    <tr style=\"text-align: right;\">\n",
       "      <th></th>\n",
       "      <th>Abhishek</th>\n",
       "      <th>Name</th>\n",
       "    </tr>\n",
       "  </thead>\n",
       "  <tbody>\n",
       "    <tr>\n",
       "      <th>0</th>\n",
       "      <td>Jha</td>\n",
       "      <td>Name</td>\n",
       "    </tr>\n",
       "    <tr>\n",
       "      <th>1</th>\n",
       "      <td>Application</td>\n",
       "      <td>Designation</td>\n",
       "    </tr>\n",
       "    <tr>\n",
       "      <th>2</th>\n",
       "      <td>Development</td>\n",
       "      <td>Designation</td>\n",
       "    </tr>\n",
       "    <tr>\n",
       "      <th>3</th>\n",
       "      <td>Associate</td>\n",
       "      <td>Designation</td>\n",
       "    </tr>\n",
       "    <tr>\n",
       "      <th>4</th>\n",
       "      <td>-</td>\n",
       "      <td>O</td>\n",
       "    </tr>\n",
       "  </tbody>\n",
       "</table>\n",
       "</div>"
      ],
      "text/plain": [
       "      Abhishek         Name\n",
       "0          Jha         Name\n",
       "1  Application  Designation\n",
       "2  Development  Designation\n",
       "3    Associate  Designation\n",
       "4            -            O"
      ]
     },
     "execution_count": 3,
     "metadata": {
      "tags": []
     },
     "output_type": "execute_result"
    }
   ],
   "source": [
    "# df.head()"
   ]
  },
  {
   "cell_type": "code",
   "execution_count": null,
   "metadata": {
    "colab": {
     "base_uri": "https://localhost:8080/",
     "height": 66,
     "referenced_widgets": [
      "c4615bd468924704ba62b77551fba9a8",
      "75d5ddf216b249078ef866d4dc3972c5",
      "2e20c91aeb77405c917c976472d39433",
      "24db4c170be54426834e5a7a46157305",
      "1fa05fb1555640ddba04a716fb52156c",
      "bc4ed92277a64343aa42ea0a9f1ef749",
      "14a872a5204244ea94584f6ffb4fb445",
      "49f0df09abf44cc196d3c76e6f0c24c3"
     ]
    },
    "colab_type": "code",
    "id": "rrY2MhrDIAec",
    "outputId": "3e2a267a-a428-44d6-b9fd-e08e1a2b7bee"
   },
   "outputs": [
    {
     "data": {
      "application/vnd.jupyter.widget-view+json": {
       "model_id": "c4615bd468924704ba62b77551fba9a8",
       "version_major": 2,
       "version_minor": 0
      },
      "text/plain": [
       "HBox(children=(FloatProgress(value=1.0, bar_style='info', max=1.0), HTML(value='')))"
      ]
     },
     "metadata": {
      "tags": []
     },
     "output_type": "display_data"
    },
    {
     "name": "stdout",
     "output_type": "stream",
     "text": [
      "\n"
     ]
    }
   ],
   "source": [
    "# from tqdm.notebook import tqdm\n",
    "\n",
    "# ids = []\n",
    "\n",
    "# for i, text in tqdm(enumerate(df.Abhishek)):\n",
    "#     if not str(text).strip():\n",
    "#         ids.append(i)"
   ]
  },
  {
   "cell_type": "code",
   "execution_count": null,
   "metadata": {
    "colab": {
     "base_uri": "https://localhost:8080/",
     "height": 34
    },
    "colab_type": "code",
    "id": "sruuPOlFICP5",
    "outputId": "8d834902-fa0d-453e-d729-361bcad6a2df"
   },
   "outputs": [
    {
     "data": {
      "text/plain": [
       "74"
      ]
     },
     "execution_count": 5,
     "metadata": {
      "tags": []
     },
     "output_type": "execute_result"
    }
   ],
   "source": [
    "len(ids)"
   ]
  },
  {
   "cell_type": "code",
   "execution_count": null,
   "metadata": {
    "colab": {},
    "colab_type": "code",
    "id": "4eQLUnX9IEKt"
   },
   "outputs": [],
   "source": [
    "# data =  df.drop(index=ids)"
   ]
  },
  {
   "cell_type": "code",
   "execution_count": null,
   "metadata": {
    "colab": {
     "base_uri": "https://localhost:8080/",
     "height": 34
    },
    "colab_type": "code",
    "id": "41MPpwYNIT4G",
    "outputId": "2fee3cab-1fe7-4bae-efe9-3796ff118e49"
   },
   "outputs": [
    {
     "data": {
      "text/plain": [
       "((5329848, 2), (5329922, 2))"
      ]
     },
     "execution_count": 7,
     "metadata": {
      "tags": []
     },
     "output_type": "execute_result"
    }
   ],
   "source": [
    "data.shape, df.shape"
   ]
  },
  {
   "cell_type": "code",
   "execution_count": null,
   "metadata": {
    "colab": {},
    "colab_type": "code",
    "id": "QiXeEGP3I3Ml"
   },
   "outputs": [],
   "source": [
    "# data.Name.replace(to_replace='Can Relocate to', value='Relocate to', regex=False, inplace=True)\n",
    "# data.Name.replace(to_replace='des', value='Designation', regex=False, inplace=True)\n",
    "# data.Name.replace(to_replace='abc', value='O', regex=False, inplace=True)\n",
    "# data.Name.replace(to_replace='work experience', value='Years of Experience', regex=False, inplace=True)\n",
    "# data.Name.replace(to_replace='College Name', value='College', regex=False, inplace=True)\n",
    "# data.Name.replace(to_replace='University', value='College', regex=False, inplace=True)\n",
    "# data.Name.replace(to_replace='state', value='Location', regex=False, inplace=True)\n",
    "# data.Name.replace(to_replace='Links', value='links', regex=False, inplace=True)"
   ]
  },
  {
   "cell_type": "code",
   "execution_count": null,
   "metadata": {
    "colab": {
     "base_uri": "https://localhost:8080/",
     "height": 204
    },
    "colab_type": "code",
    "id": "U-8mk8mYI6t1",
    "outputId": "5f6255d8-12e2-4dd9-e7ab-dcbb96a293a6"
   },
   "outputs": [
    {
     "data": {
      "text/html": [
       "<div>\n",
       "<style scoped>\n",
       "    .dataframe tbody tr th:only-of-type {\n",
       "        vertical-align: middle;\n",
       "    }\n",
       "\n",
       "    .dataframe tbody tr th {\n",
       "        vertical-align: top;\n",
       "    }\n",
       "\n",
       "    .dataframe thead th {\n",
       "        text-align: right;\n",
       "    }\n",
       "</style>\n",
       "<table border=\"1\" class=\"dataframe\">\n",
       "  <thead>\n",
       "    <tr style=\"text-align: right;\">\n",
       "      <th></th>\n",
       "      <th>Abhishek</th>\n",
       "      <th>Name</th>\n",
       "    </tr>\n",
       "  </thead>\n",
       "  <tbody>\n",
       "    <tr>\n",
       "      <th>928</th>\n",
       "      <td>.</td>\n",
       "      <td>O</td>\n",
       "    </tr>\n",
       "    <tr>\n",
       "      <th>3063</th>\n",
       "      <td>.</td>\n",
       "      <td>O</td>\n",
       "    </tr>\n",
       "    <tr>\n",
       "      <th>5746</th>\n",
       "      <td>.</td>\n",
       "      <td>O</td>\n",
       "    </tr>\n",
       "    <tr>\n",
       "      <th>6498</th>\n",
       "      <td>.</td>\n",
       "      <td>O</td>\n",
       "    </tr>\n",
       "    <tr>\n",
       "      <th>9243</th>\n",
       "      <td>.</td>\n",
       "      <td>O</td>\n",
       "    </tr>\n",
       "  </tbody>\n",
       "</table>\n",
       "</div>"
      ],
      "text/plain": [
       "     Abhishek Name\n",
       "928         .    O\n",
       "3063        .    O\n",
       "5746        .    O\n",
       "6498        .    O\n",
       "9243        .    O"
      ]
     },
     "execution_count": 9,
     "metadata": {
      "tags": []
     },
     "output_type": "execute_result"
    }
   ],
   "source": [
    "# data[data.Abhishek == '.'].head()"
   ]
  },
  {
   "cell_type": "code",
   "execution_count": null,
   "metadata": {
    "colab": {},
    "colab_type": "code",
    "id": "_kw3gGnCboOa"
   },
   "outputs": [],
   "source": [
    "# data = data[:5000]\n"
   ]
  },
  {
   "cell_type": "code",
   "execution_count": null,
   "metadata": {
    "colab": {},
    "colab_type": "code",
    "id": "lWCpHR9SsqsJ"
   },
   "outputs": [],
   "source": [
    "import pandas as pd\n",
    "data = pd.read_csv('/content/drive/My Drive/Ideas/Resume_Analyser/Engineering/CV_Dataset/bert_relabled_v2.csv')"
   ]
  },
  {
   "cell_type": "code",
   "execution_count": null,
   "metadata": {
    "colab": {},
    "colab_type": "code",
    "id": "NWzrVaSRJdIw"
   },
   "outputs": [],
   "source": [
    "train_df = data[0:int(len(data)*0.8)]\n",
    "test_df =  data[int(len(data)*0.8):int(len(data)*0.9)]\n",
    "dev_df = data[int(len(data)*0.9):]"
   ]
  },
  {
   "cell_type": "code",
   "execution_count": null,
   "metadata": {
    "colab": {
     "base_uri": "https://localhost:8080/",
     "height": 127
    },
    "colab_type": "code",
    "id": "392rpm1BSAd5",
    "outputId": "2c7c5969-ada0-489b-ac6c-fcc1275c6864"
   },
   "outputs": [
    {
     "name": "stdout",
     "output_type": "stream",
     "text": [
      "Go to this URL in a browser: https://accounts.google.com/o/oauth2/auth?client_id=947318989803-6bn6qk8qdgf4n4g3pfee6491hc0brc4i.apps.googleusercontent.com&redirect_uri=urn%3aietf%3awg%3aoauth%3a2.0%3aoob&response_type=code&scope=email%20https%3a%2f%2fwww.googleapis.com%2fauth%2fdocs.test%20https%3a%2f%2fwww.googleapis.com%2fauth%2fdrive%20https%3a%2f%2fwww.googleapis.com%2fauth%2fdrive.photos.readonly%20https%3a%2f%2fwww.googleapis.com%2fauth%2fpeopleapi.readonly\n",
      "\n",
      "Enter your authorization code:\n",
      "··········\n",
      "Mounted at /content/drive\n"
     ]
    }
   ],
   "source": [
    "from google.colab import drive\n",
    "drive.mount('/content/drive')"
   ]
  },
  {
   "cell_type": "code",
   "execution_count": null,
   "metadata": {
    "colab": {
     "base_uri": "https://localhost:8080/",
     "height": 35
    },
    "colab_type": "code",
    "id": "lltE_Ga5KEqa",
    "outputId": "46bbd532-6b5b-4639-a82e-da3aaca3111f"
   },
   "outputs": [
    {
     "data": {
      "text/plain": [
       "4263878"
      ]
     },
     "execution_count": 6,
     "metadata": {
      "tags": []
     },
     "output_type": "execute_result"
    }
   ],
   "source": [
    "int(len(data)*0.8)"
   ]
  },
  {
   "cell_type": "code",
   "execution_count": null,
   "metadata": {
    "colab": {
     "base_uri": "https://localhost:8080/",
     "height": 35
    },
    "colab_type": "code",
    "id": "EVkKg_kuJjT2",
    "outputId": "c981e099-eb0f-4d46-9359-94cf33adf97c"
   },
   "outputs": [
    {
     "data": {
      "text/plain": [
       "((4263878, 3), (532985, 3), (532985, 3))"
      ]
     },
     "execution_count": 7,
     "metadata": {
      "tags": []
     },
     "output_type": "execute_result"
    }
   ],
   "source": [
    "train_df.shape, test_df.shape, dev_df.shape"
   ]
  },
  {
   "cell_type": "code",
   "execution_count": null,
   "metadata": {
    "colab": {
     "base_uri": "https://localhost:8080/",
     "height": 204
    },
    "colab_type": "code",
    "id": "hgDQHoqetnxe",
    "outputId": "0f16db81-0ac3-4176-a5ee-b1a12e2229cd"
   },
   "outputs": [
    {
     "data": {
      "text/html": [
       "<div>\n",
       "<style scoped>\n",
       "    .dataframe tbody tr th:only-of-type {\n",
       "        vertical-align: middle;\n",
       "    }\n",
       "\n",
       "    .dataframe tbody tr th {\n",
       "        vertical-align: top;\n",
       "    }\n",
       "\n",
       "    .dataframe thead th {\n",
       "        text-align: right;\n",
       "    }\n",
       "</style>\n",
       "<table border=\"1\" class=\"dataframe\">\n",
       "  <thead>\n",
       "    <tr style=\"text-align: right;\">\n",
       "      <th></th>\n",
       "      <th>SenID</th>\n",
       "      <th>Tokens</th>\n",
       "      <th>Labels</th>\n",
       "    </tr>\n",
       "  </thead>\n",
       "  <tbody>\n",
       "    <tr>\n",
       "      <th>0</th>\n",
       "      <td>0</td>\n",
       "      <td>Jha</td>\n",
       "      <td>B-NAME</td>\n",
       "    </tr>\n",
       "    <tr>\n",
       "      <th>1</th>\n",
       "      <td>0</td>\n",
       "      <td>Application</td>\n",
       "      <td>B-DES</td>\n",
       "    </tr>\n",
       "    <tr>\n",
       "      <th>2</th>\n",
       "      <td>0</td>\n",
       "      <td>Development</td>\n",
       "      <td>I-DES</td>\n",
       "    </tr>\n",
       "    <tr>\n",
       "      <th>3</th>\n",
       "      <td>0</td>\n",
       "      <td>Associate</td>\n",
       "      <td>I-DES</td>\n",
       "    </tr>\n",
       "    <tr>\n",
       "      <th>4</th>\n",
       "      <td>0</td>\n",
       "      <td>-</td>\n",
       "      <td>O</td>\n",
       "    </tr>\n",
       "  </tbody>\n",
       "</table>\n",
       "</div>"
      ],
      "text/plain": [
       "   SenID       Tokens  Labels\n",
       "0      0          Jha  B-NAME\n",
       "1      0  Application   B-DES\n",
       "2      0  Development   I-DES\n",
       "3      0    Associate   I-DES\n",
       "4      0            -       O"
      ]
     },
     "execution_count": 8,
     "metadata": {
      "tags": []
     },
     "output_type": "execute_result"
    }
   ],
   "source": [
    "data.head()"
   ]
  },
  {
   "cell_type": "code",
   "execution_count": null,
   "metadata": {
    "colab": {},
    "colab_type": "code",
    "id": "nY2J67hntntE"
   },
   "outputs": [],
   "source": []
  },
  {
   "cell_type": "markdown",
   "metadata": {
    "colab_type": "text",
    "id": "h6SrLRRtEQZZ"
   },
   "source": [
    "#Prepare datasets"
   ]
  },
  {
   "cell_type": "code",
   "execution_count": null,
   "metadata": {
    "colab": {
     "base_uri": "https://localhost:8080/",
     "height": 67,
     "referenced_widgets": [
      "a7f0da9add42464a9eabd1b29766ccf9",
      "6d00ff4252734442bdc22d2400abc9eb",
      "38c3c797ad46448ebb61db515e8ba7eb",
      "25fd880f312b43ed881a6caaeb28f4ae",
      "b79e8723af40406d9fa00c57b4aae7bf",
      "6d43b49819c44d6e9d498bc30e8c03a3",
      "e739778089cb4867a7a801b9ba3a0a25",
      "91a36bf24c1249cd85119ce82ab929a5"
     ]
    },
    "colab_type": "code",
    "id": "6HPaO4STYuld",
    "outputId": "81574bd0-691f-4c11-a589-550516b850ec"
   },
   "outputs": [
    {
     "data": {
      "application/vnd.jupyter.widget-view+json": {
       "model_id": "a7f0da9add42464a9eabd1b29766ccf9",
       "version_major": 2,
       "version_minor": 0
      },
      "text/plain": [
       "HBox(children=(FloatProgress(value=0.0, max=532985.0), HTML(value='')))"
      ]
     },
     "metadata": {
      "tags": []
     },
     "output_type": "display_data"
    },
    {
     "name": "stdout",
     "output_type": "stream",
     "text": [
      "\n"
     ]
    }
   ],
   "source": [
    "from tqdm.notebook import tqdm\n",
    "\n",
    "\n",
    "tokens = []\n",
    "labels = []\n",
    "ids = []\n",
    "\n",
    "prev_label = \"\"\n",
    "\n",
    "count = 0\n",
    "sen_id = 0\n",
    "\n",
    "for i in tqdm(range(len(dev_df))):\n",
    "  row = dev_df.iloc[i]\n",
    "  token = row.Tokens\n",
    "  label = row.Labels\n",
    "\n",
    "  if count > 100:\n",
    "    if prev_label != label:\n",
    "      tokens.append(\" \")\n",
    "      labels.append(' ')\n",
    "      # sen_id += 1\n",
    "      count = 0\n",
    "    elif label == 'O':\n",
    "      tokens.append(\" \")\n",
    "      labels.append(' ')\n",
    "      count = 0\n",
    "      # sen_id += 1\n",
    "  \n",
    "  tokens.append(token)\n",
    "  labels.append(label)\n",
    "  # ids.append(sen_id)\n",
    "  prev_label = label\n",
    "  count += 1"
   ]
  },
  {
   "cell_type": "code",
   "execution_count": null,
   "metadata": {
    "colab": {
     "base_uri": "https://localhost:8080/",
     "height": 35
    },
    "colab_type": "code",
    "id": "SWNa04wj-Fge",
    "outputId": "f7416e4d-ceb0-444f-fe06-60805c25f2c2"
   },
   "outputs": [
    {
     "data": {
      "text/plain": [
       "(538207, 538207)"
      ]
     },
     "execution_count": 10,
     "metadata": {
      "tags": []
     },
     "output_type": "execute_result"
    }
   ],
   "source": [
    "len(tokens), len(labels)"
   ]
  },
  {
   "cell_type": "code",
   "execution_count": null,
   "metadata": {
    "colab": {},
    "colab_type": "code",
    "id": "K_Z-lO7j-LeI"
   },
   "outputs": [],
   "source": [
    "di = {\n",
    "    \n",
    "    \"Tokens\": tokens,\n",
    "    \"Labels\": labels\n",
    "}\n",
    "\n",
    "devd = pd.DataFrame(di)"
   ]
  },
  {
   "cell_type": "code",
   "execution_count": null,
   "metadata": {
    "colab": {
     "base_uri": "https://localhost:8080/",
     "height": 179
    },
    "colab_type": "code",
    "id": "ZuG1FohqqxCH",
    "outputId": "8b1d1ea3-ccc2-42ce-d3a0-5772f80d7a6e"
   },
   "outputs": [
    {
     "data": {
      "text/plain": [
       "array(['O', 'B-SKILL', 'B-DES', 'I-DES', 'B-COM', 'I-COM', ' ',\n",
       "       'B-College Name', 'I-College Name', 'I-SKILL', 'B-NAME', 'I-NAME',\n",
       "       'B-LOC', 'B-EMAIL', 'B-DEG', 'I-DEG', 'I-LOC', 'I-EMAIL', 'B-YOE',\n",
       "       'I-YOE', 'B-GRAD', 'I-GRAD', 'B-UNK', 'I-UNK', 'B-Can Relocate to',\n",
       "       'B-Links', 'I-Links', 'I-Can Relocate to', 'B-RAA', 'I-RAA',\n",
       "       'B-RLOC', 'I-RLOC', 'B-ADD', 'I-ADD', 'B-CER', 'I-CER', 'B-state',\n",
       "       'B-University', 'I-University', 'B-LINK', 'I-LINK', 'B-COL',\n",
       "       'I-COL', 'B-PRO', 'I-PRO', 'B-TRAIN', 'I-TRAIN', 'I-state',\n",
       "       'B-des', 'I-des', 'B-abc'], dtype=object)"
      ]
     },
     "execution_count": 12,
     "metadata": {
      "tags": []
     },
     "output_type": "execute_result"
    }
   ],
   "source": [
    "devd.Labels.unique()"
   ]
  },
  {
   "cell_type": "code",
   "execution_count": null,
   "metadata": {
    "colab": {},
    "colab_type": "code",
    "id": "x1650xsG-Xrc"
   },
   "outputs": [],
   "source": [
    "devd.to_csv(\"dev.txt\", sep='\\t', index=False)"
   ]
  },
  {
   "cell_type": "code",
   "execution_count": null,
   "metadata": {
    "colab": {
     "base_uri": "https://localhost:8080/",
     "height": 514
    },
    "colab_type": "code",
    "id": "g24j0ubWeYN-",
    "outputId": "3c843b1d-24ce-4f39-9130-d09a4bf1c75b"
   },
   "outputs": [
    {
     "data": {
      "text/html": [
       "<div>\n",
       "<style scoped>\n",
       "    .dataframe tbody tr th:only-of-type {\n",
       "        vertical-align: middle;\n",
       "    }\n",
       "\n",
       "    .dataframe tbody tr th {\n",
       "        vertical-align: top;\n",
       "    }\n",
       "\n",
       "    .dataframe thead th {\n",
       "        text-align: right;\n",
       "    }\n",
       "</style>\n",
       "<table border=\"1\" class=\"dataframe\">\n",
       "  <thead>\n",
       "    <tr style=\"text-align: right;\">\n",
       "      <th></th>\n",
       "      <th>Tokens</th>\n",
       "      <th>Labels</th>\n",
       "    </tr>\n",
       "  </thead>\n",
       "  <tbody>\n",
       "    <tr>\n",
       "      <th>95</th>\n",
       "      <td>divisional</td>\n",
       "      <td>O</td>\n",
       "    </tr>\n",
       "    <tr>\n",
       "      <th>96</th>\n",
       "      <td>and</td>\n",
       "      <td>O</td>\n",
       "    </tr>\n",
       "    <tr>\n",
       "      <th>97</th>\n",
       "      <td>Regional</td>\n",
       "      <td>O</td>\n",
       "    </tr>\n",
       "    <tr>\n",
       "      <th>98</th>\n",
       "      <td>target,</td>\n",
       "      <td>O</td>\n",
       "    </tr>\n",
       "    <tr>\n",
       "      <th>99</th>\n",
       "      <td>aligning</td>\n",
       "      <td>O</td>\n",
       "    </tr>\n",
       "    <tr>\n",
       "      <th>100</th>\n",
       "      <td>with</td>\n",
       "      <td>O</td>\n",
       "    </tr>\n",
       "    <tr>\n",
       "      <th>101</th>\n",
       "      <td></td>\n",
       "      <td></td>\n",
       "    </tr>\n",
       "    <tr>\n",
       "      <th>102</th>\n",
       "      <td>company</td>\n",
       "      <td>O</td>\n",
       "    </tr>\n",
       "    <tr>\n",
       "      <th>103</th>\n",
       "      <td>sales</td>\n",
       "      <td>O</td>\n",
       "    </tr>\n",
       "    <tr>\n",
       "      <th>104</th>\n",
       "      <td>policies</td>\n",
       "      <td>O</td>\n",
       "    </tr>\n",
       "    <tr>\n",
       "      <th>105</th>\n",
       "      <td>and</td>\n",
       "      <td>O</td>\n",
       "    </tr>\n",
       "    <tr>\n",
       "      <th>106</th>\n",
       "      <td>strategies</td>\n",
       "      <td>O</td>\n",
       "    </tr>\n",
       "    <tr>\n",
       "      <th>107</th>\n",
       "      <td>•</td>\n",
       "      <td>O</td>\n",
       "    </tr>\n",
       "    <tr>\n",
       "      <th>108</th>\n",
       "      <td>Achieving</td>\n",
       "      <td>O</td>\n",
       "    </tr>\n",
       "    <tr>\n",
       "      <th>109</th>\n",
       "      <td>growth</td>\n",
       "      <td>O</td>\n",
       "    </tr>\n",
       "  </tbody>\n",
       "</table>\n",
       "</div>"
      ],
      "text/plain": [
       "         Tokens Labels\n",
       "95   divisional      O\n",
       "96          and      O\n",
       "97     Regional      O\n",
       "98      target,      O\n",
       "99     aligning      O\n",
       "100        with      O\n",
       "101                   \n",
       "102     company      O\n",
       "103       sales      O\n",
       "104    policies      O\n",
       "105         and      O\n",
       "106  strategies      O\n",
       "107           •      O\n",
       "108   Achieving      O\n",
       "109      growth      O"
      ]
     },
     "execution_count": 17,
     "metadata": {
      "tags": []
     },
     "output_type": "execute_result"
    }
   ],
   "source": [
    "devd[95:110]"
   ]
  },
  {
   "cell_type": "markdown",
   "metadata": {
    "colab_type": "text",
    "id": "kW4LpLGnEOQ6"
   },
   "source": [
    "Prepare train and Test"
   ]
  },
  {
   "cell_type": "code",
   "execution_count": null,
   "metadata": {
    "colab": {},
    "colab_type": "code",
    "id": "zGDPgEDpEN0y"
   },
   "outputs": [],
   "source": [
    "def process(dev_df, name):\n",
    "\n",
    "  tokens = []\n",
    "  labels = []\n",
    "  ids = []\n",
    "\n",
    "  prev_label = \"\"\n",
    "\n",
    "  count = 0\n",
    "  sen_id = 0\n",
    "\n",
    "  for i in tqdm(range(len(dev_df))):\n",
    "    row = dev_df.iloc[i]\n",
    "    token = row.Tokens\n",
    "    label = row.Labels\n",
    "\n",
    "    if count > 100:\n",
    "      if prev_label != label:\n",
    "        tokens.append(\" \")\n",
    "        labels.append(' ')\n",
    "        # sen_id += 1\n",
    "        count = 0\n",
    "      elif label == 'O':\n",
    "        tokens.append(\" \")\n",
    "        labels.append(' ')\n",
    "        count = 0\n",
    "        # sen_id += 1\n",
    "    \n",
    "    tokens.append(token)\n",
    "    labels.append(label)\n",
    "    # ids.append(sen_id)\n",
    "    prev_label = label\n",
    "    count += 1\n",
    "  \n",
    "  print(len(tokens), len(labels))\n",
    "  \n",
    "  di = {\n",
    "      \"Tokens\": tokens,\n",
    "      \"Labels\": labels\n",
    "  }\n",
    "\n",
    "  devd = pd.DataFrame(di)\n",
    "  print(devd.Labels.unique())\n",
    "  devd.to_csv(name, sep='\\t', index=False)"
   ]
  },
  {
   "cell_type": "code",
   "execution_count": null,
   "metadata": {
    "colab": {
     "base_uri": "https://localhost:8080/",
     "height": 211,
     "referenced_widgets": [
      "80048359b656412ea37482543198442d",
      "84a488af823747bca7c22be375ee8f58",
      "ae7bc537355c4775a31c4a9c0c931742",
      "491a1f24b3f84825b93fa83fbfdd63f8",
      "e33bde8d73b244f7876e0b5edee22a86",
      "88dc77c6bf474c09af3ac4663282b2a6",
      "3c8ed2207105491fb7a9d9f7315ef2a4",
      "9007c321245b4345aa6d183b6376380c"
     ]
    },
    "colab_type": "code",
    "id": "3dqTIhrcFtKc",
    "outputId": "af931be0-7f75-4fbd-b9bb-8f944dc6dd3f"
   },
   "outputs": [
    {
     "data": {
      "application/vnd.jupyter.widget-view+json": {
       "model_id": "80048359b656412ea37482543198442d",
       "version_major": 2,
       "version_minor": 0
      },
      "text/plain": [
       "HBox(children=(FloatProgress(value=0.0, max=532985.0), HTML(value='')))"
      ]
     },
     "metadata": {
      "tags": []
     },
     "output_type": "display_data"
    },
    {
     "name": "stdout",
     "output_type": "stream",
     "text": [
      "\n",
      "538207 538207\n",
      "['O' 'B-SKILL' 'B-DES' 'I-DES' 'B-COM' 'I-COM' ' ' 'B-College Name'\n",
      " 'I-College Name' 'I-SKILL' 'B-NAME' 'I-NAME' 'B-LOC' 'B-EMAIL' 'B-DEG'\n",
      " 'I-DEG' 'I-LOC' 'I-EMAIL' 'B-YOE' 'I-YOE' 'B-GRAD' 'I-GRAD' 'B-UNK'\n",
      " 'I-UNK' 'B-Can Relocate to' 'B-Links' 'I-Links' 'I-Can Relocate to'\n",
      " 'B-RAA' 'I-RAA' 'B-RLOC' 'I-RLOC' 'B-ADD' 'I-ADD' 'B-CER' 'I-CER'\n",
      " 'B-state' 'B-University' 'I-University' 'B-LINK' 'I-LINK' 'B-COL' 'I-COL'\n",
      " 'B-PRO' 'I-PRO' 'B-TRAIN' 'I-TRAIN' 'I-state' 'B-des' 'I-des' 'B-abc']\n"
     ]
    }
   ],
   "source": [
    "process(train_df, 'train.txt')"
   ]
  },
  {
   "cell_type": "code",
   "execution_count": null,
   "metadata": {},
   "outputs": [],
   "source": [
    "process(test_df, 'test.txt')"
   ]
  },
  {
   "cell_type": "markdown",
   "metadata": {
    "colab_type": "text",
    "id": "dWPxipGQXFAU"
   },
   "source": [
    "### Copy files"
   ]
  },
  {
   "cell_type": "markdown",
   "metadata": {
    "colab_type": "text",
    "id": "GF1MVQ6tW_2F"
   },
   "source": [
    "### Lets clean up memory"
   ]
  },
  {
   "cell_type": "code",
   "execution_count": null,
   "metadata": {
    "colab": {},
    "colab_type": "code",
    "id": "tdoxpj1BN36Z"
   },
   "outputs": [],
   "source": [
    "del test_df\n",
    "del data\n",
    "del df\n",
    "del train_df\n",
    "del dev_df\n",
    "del tokens\n",
    "del labels"
   ]
  },
  {
   "cell_type": "markdown",
   "metadata": {
    "colab_type": "text",
    "id": "_YBRtdloGBfT"
   },
   "source": [
    "# Install Flair"
   ]
  },
  {
   "cell_type": "code",
   "execution_count": null,
   "metadata": {
    "colab": {
     "base_uri": "https://localhost:8080/",
     "height": 989
    },
    "colab_type": "code",
    "id": "cFewnCbMGDhS",
    "outputId": "772b05c4-4fe0-417f-f88b-e9749ad24ad5"
   },
   "outputs": [
    {
     "name": "stdout",
     "output_type": "stream",
     "text": [
      "Requirement already satisfied: flair in /usr/local/lib/python3.6/dist-packages (0.5)\n",
      "Requirement already satisfied: gensim>=3.4.0 in /usr/local/lib/python3.6/dist-packages (from flair) (3.6.0)\n",
      "Requirement already satisfied: pytest>=5.3.2 in /usr/local/lib/python3.6/dist-packages (from flair) (5.4.3)\n",
      "Requirement already satisfied: mpld3==0.3 in /usr/local/lib/python3.6/dist-packages (from flair) (0.3)\n",
      "Requirement already satisfied: bpemb>=0.2.9 in /usr/local/lib/python3.6/dist-packages (from flair) (0.3.0)\n",
      "Requirement already satisfied: sqlitedict>=1.6.0 in /usr/local/lib/python3.6/dist-packages (from flair) (1.6.0)\n",
      "Requirement already satisfied: tqdm>=4.26.0 in /usr/local/lib/python3.6/dist-packages (from flair) (4.41.1)\n",
      "Requirement already satisfied: transformers>=2.10.0 in /usr/local/lib/python3.6/dist-packages (from flair) (2.11.0)\n",
      "Requirement already satisfied: regex in /usr/local/lib/python3.6/dist-packages (from flair) (2019.12.20)\n",
      "Requirement already satisfied: matplotlib>=2.2.3 in /usr/local/lib/python3.6/dist-packages (from flair) (3.2.1)\n",
      "Requirement already satisfied: scikit-learn>=0.21.3 in /usr/local/lib/python3.6/dist-packages (from flair) (0.22.2.post1)\n",
      "Requirement already satisfied: torch>=1.1.0 in /usr/local/lib/python3.6/dist-packages (from flair) (1.5.0+cu101)\n",
      "Requirement already satisfied: tabulate in /usr/local/lib/python3.6/dist-packages (from flair) (0.8.7)\n",
      "Requirement already satisfied: langdetect in /usr/local/lib/python3.6/dist-packages (from flair) (1.0.8)\n",
      "Requirement already satisfied: hyperopt>=0.1.1 in /usr/local/lib/python3.6/dist-packages (from flair) (0.1.2)\n",
      "Requirement already satisfied: python-dateutil>=2.6.1 in /usr/local/lib/python3.6/dist-packages (from flair) (2.8.1)\n",
      "Requirement already satisfied: segtok>=1.5.7 in /usr/local/lib/python3.6/dist-packages (from flair) (1.5.10)\n",
      "Requirement already satisfied: deprecated>=1.2.4 in /usr/local/lib/python3.6/dist-packages (from flair) (1.2.10)\n",
      "Requirement already satisfied: six>=1.5.0 in /usr/local/lib/python3.6/dist-packages (from gensim>=3.4.0->flair) (1.12.0)\n",
      "Requirement already satisfied: numpy>=1.11.3 in /usr/local/lib/python3.6/dist-packages (from gensim>=3.4.0->flair) (1.18.5)\n",
      "Requirement already satisfied: smart-open>=1.2.1 in /usr/local/lib/python3.6/dist-packages (from gensim>=3.4.0->flair) (2.0.0)\n",
      "Requirement already satisfied: scipy>=0.18.1 in /usr/local/lib/python3.6/dist-packages (from gensim>=3.4.0->flair) (1.4.1)\n",
      "Requirement already satisfied: pluggy<1.0,>=0.12 in /usr/local/lib/python3.6/dist-packages (from pytest>=5.3.2->flair) (0.13.1)\n",
      "Requirement already satisfied: wcwidth in /usr/local/lib/python3.6/dist-packages (from pytest>=5.3.2->flair) (0.2.4)\n",
      "Requirement already satisfied: attrs>=17.4.0 in /usr/local/lib/python3.6/dist-packages (from pytest>=5.3.2->flair) (19.3.0)\n",
      "Requirement already satisfied: packaging in /usr/local/lib/python3.6/dist-packages (from pytest>=5.3.2->flair) (20.4)\n",
      "Requirement already satisfied: importlib-metadata>=0.12; python_version < \"3.8\" in /usr/local/lib/python3.6/dist-packages (from pytest>=5.3.2->flair) (1.6.1)\n",
      "Requirement already satisfied: more-itertools>=4.0.0 in /usr/local/lib/python3.6/dist-packages (from pytest>=5.3.2->flair) (8.4.0)\n",
      "Requirement already satisfied: py>=1.5.0 in /usr/local/lib/python3.6/dist-packages (from pytest>=5.3.2->flair) (1.8.1)\n",
      "Requirement already satisfied: requests in /usr/local/lib/python3.6/dist-packages (from bpemb>=0.2.9->flair) (2.23.0)\n",
      "Requirement already satisfied: sentencepiece in /usr/local/lib/python3.6/dist-packages (from bpemb>=0.2.9->flair) (0.1.91)\n",
      "Requirement already satisfied: tokenizers==0.7.0 in /usr/local/lib/python3.6/dist-packages (from transformers>=2.10.0->flair) (0.7.0)\n",
      "Requirement already satisfied: sacremoses in /usr/local/lib/python3.6/dist-packages (from transformers>=2.10.0->flair) (0.0.43)\n",
      "Requirement already satisfied: dataclasses; python_version < \"3.7\" in /usr/local/lib/python3.6/dist-packages (from transformers>=2.10.0->flair) (0.7)\n",
      "Requirement already satisfied: filelock in /usr/local/lib/python3.6/dist-packages (from transformers>=2.10.0->flair) (3.0.12)\n",
      "Requirement already satisfied: cycler>=0.10 in /usr/local/lib/python3.6/dist-packages (from matplotlib>=2.2.3->flair) (0.10.0)\n",
      "Requirement already satisfied: pyparsing!=2.0.4,!=2.1.2,!=2.1.6,>=2.0.1 in /usr/local/lib/python3.6/dist-packages (from matplotlib>=2.2.3->flair) (2.4.7)\n",
      "Requirement already satisfied: kiwisolver>=1.0.1 in /usr/local/lib/python3.6/dist-packages (from matplotlib>=2.2.3->flair) (1.2.0)\n",
      "Requirement already satisfied: joblib>=0.11 in /usr/local/lib/python3.6/dist-packages (from scikit-learn>=0.21.3->flair) (0.15.1)\n",
      "Requirement already satisfied: future in /usr/local/lib/python3.6/dist-packages (from torch>=1.1.0->flair) (0.16.0)\n",
      "Requirement already satisfied: pymongo in /usr/local/lib/python3.6/dist-packages (from hyperopt>=0.1.1->flair) (3.10.1)\n",
      "Requirement already satisfied: networkx in /usr/local/lib/python3.6/dist-packages (from hyperopt>=0.1.1->flair) (2.4)\n",
      "Requirement already satisfied: wrapt<2,>=1.10 in /usr/local/lib/python3.6/dist-packages (from deprecated>=1.2.4->flair) (1.12.1)\n",
      "Requirement already satisfied: boto3 in /usr/local/lib/python3.6/dist-packages (from smart-open>=1.2.1->gensim>=3.4.0->flair) (1.14.2)\n",
      "Requirement already satisfied: boto in /usr/local/lib/python3.6/dist-packages (from smart-open>=1.2.1->gensim>=3.4.0->flair) (2.49.0)\n",
      "Requirement already satisfied: zipp>=0.5 in /usr/local/lib/python3.6/dist-packages (from importlib-metadata>=0.12; python_version < \"3.8\"->pytest>=5.3.2->flair) (3.1.0)\n",
      "Requirement already satisfied: idna<3,>=2.5 in /usr/local/lib/python3.6/dist-packages (from requests->bpemb>=0.2.9->flair) (2.9)\n",
      "Requirement already satisfied: urllib3!=1.25.0,!=1.25.1,<1.26,>=1.21.1 in /usr/local/lib/python3.6/dist-packages (from requests->bpemb>=0.2.9->flair) (1.24.3)\n",
      "Requirement already satisfied: chardet<4,>=3.0.2 in /usr/local/lib/python3.6/dist-packages (from requests->bpemb>=0.2.9->flair) (3.0.4)\n",
      "Requirement already satisfied: certifi>=2017.4.17 in /usr/local/lib/python3.6/dist-packages (from requests->bpemb>=0.2.9->flair) (2020.4.5.2)\n",
      "Requirement already satisfied: click in /usr/local/lib/python3.6/dist-packages (from sacremoses->transformers>=2.10.0->flair) (7.1.2)\n",
      "Requirement already satisfied: decorator>=4.3.0 in /usr/local/lib/python3.6/dist-packages (from networkx->hyperopt>=0.1.1->flair) (4.4.2)\n",
      "Requirement already satisfied: s3transfer<0.4.0,>=0.3.0 in /usr/local/lib/python3.6/dist-packages (from boto3->smart-open>=1.2.1->gensim>=3.4.0->flair) (0.3.3)\n",
      "Requirement already satisfied: jmespath<1.0.0,>=0.7.1 in /usr/local/lib/python3.6/dist-packages (from boto3->smart-open>=1.2.1->gensim>=3.4.0->flair) (0.10.0)\n",
      "Requirement already satisfied: botocore<1.18.0,>=1.17.2 in /usr/local/lib/python3.6/dist-packages (from boto3->smart-open>=1.2.1->gensim>=3.4.0->flair) (1.17.2)\n",
      "Requirement already satisfied: docutils<0.16,>=0.10 in /usr/local/lib/python3.6/dist-packages (from botocore<1.18.0,>=1.17.2->boto3->smart-open>=1.2.1->gensim>=3.4.0->flair) (0.15.2)\n"
     ]
    }
   ],
   "source": [
    "!pip install flair"
   ]
  },
  {
   "cell_type": "code",
   "execution_count": null,
   "metadata": {
    "colab": {
     "base_uri": "https://localhost:8080/",
     "height": 85
    },
    "colab_type": "code",
    "id": "rf9TpljLGHzK",
    "outputId": "08188607-996a-43d1-dda2-f53d62990254"
   },
   "outputs": [
    {
     "name": "stdout",
     "output_type": "stream",
     "text": [
      "2020-06-19 21:55:28,604 Reading data from /content/drive/My Drive/flair/data\n",
      "2020-06-19 21:55:28,605 Train: /content/drive/My Drive/flair/data/train.txt\n",
      "2020-06-19 21:55:28,605 Dev: /content/drive/My Drive/flair/data/dev.txt\n",
      "2020-06-19 21:55:28,609 Test: /content/drive/My Drive/flair/data/test.txt\n"
     ]
    }
   ],
   "source": [
    "from flair.data import Corpus\n",
    "from flair.datasets import ColumnCorpus\n",
    "\n",
    "# define columns\n",
    "columns = {0: 'text', 1:'ner'}\n",
    "\n",
    "# this is the folder in which train, test and dev files reside\n",
    "data_folder = '/content/drive/My Drive/flair/data/'\n",
    "\n",
    "# init a corpus using column format, data folder and the names of the train, dev and test files\n",
    "corpus: Corpus = ColumnCorpus(data_folder, columns,\n",
    "                              train_file='train.txt',\n",
    "                              test_file='test.txt',\n",
    "                              dev_file='dev.txt', # column_delimiter='\\t', or use other reg pattern, use this parameters if tokens and labels not works as expected\n",
    "                              in_memory=False,\n",
    "                              column_delimiter='\\t') # use false then it will fix ram issues"
   ]
  },
  {
   "cell_type": "code",
   "execution_count": null,
   "metadata": {
    "colab": {},
    "colab_type": "code",
    "id": "zBUXRWZMq9n5"
   },
   "outputs": [],
   "source": [
    "!cp dev.txt '/content/drive/My Drive/flair/data/'"
   ]
  },
  {
   "cell_type": "code",
   "execution_count": null,
   "metadata": {
    "colab": {},
    "colab_type": "code",
    "id": "mLCiVZBFhE0n"
   },
   "outputs": [],
   "source": []
  },
  {
   "cell_type": "code",
   "execution_count": null,
   "metadata": {
    "colab": {},
    "colab_type": "code",
    "id": "Xu0ovx_hF0f6"
   },
   "outputs": [],
   "source": []
  },
  {
   "cell_type": "code",
   "execution_count": null,
   "metadata": {
    "colab": {
     "base_uri": "https://localhost:8080/",
     "height": 34
    },
    "colab_type": "code",
    "id": "MiOkBQyzdas0",
    "outputId": "67951f21-b729-41ab-90f0-258de1e40728"
   },
   "outputs": [
    {
     "data": {
      "text/plain": [
       "(5251, 5251, 5251)"
      ]
     },
     "execution_count": 17,
     "metadata": {
      "tags": []
     },
     "output_type": "execute_result"
    }
   ],
   "source": [
    "len(corpus.train), len(corpus.test), len(corpus.dev)"
   ]
  },
  {
   "cell_type": "code",
   "execution_count": null,
   "metadata": {
    "colab": {
     "base_uri": "https://localhost:8080/",
     "height": 54
    },
    "colab_type": "code",
    "id": "2NXpXSl8iof4",
    "outputId": "d77019fd-5e34-4217-c0ed-ef738d97a53f"
   },
   "outputs": [
    {
     "name": "stdout",
     "output_type": "stream",
     "text": [
      "Tokens <Labels> on Learning Management System ( LMS <Skills> ) for training purpose; preparing training quiz for pre & post test Assistant <Designation> Manager <Designation> (Sales Capability) PCI <Companies> Pest <Companies> Control <Companies> Pvt. <Companies> Ltd <Companies> - Mumbai, Maharashtra - June 2007 to March 2017 Mumbai, Maharashtra, India Growth Path: March 2017 to till Assistant <Designation> Manager <Designation> (Sales Capability) Senior <Designation> Associate <Designation> (Sales <Designation> Trainer) <Designation> PCI <Companies> Pest <Companies> Control <Companies> Pvt. <Companies> Ltd <Companies> - June 2012 to February 2017 Sales <Designation> Analyst <Designation> PCI <Companies> Pest <Companies> Control <Companies> Pvt. <Companies> Ltd <Companies> - June 2011 to May 2012 Sales <Designation> Capability <Designation> PCI <Companies> Pest <Companies> Control <Companies> Pvt. <Companies> Ltd <Companies> - July 2007 to May 2011 Plan to ensure achievement of divisional and Regional target, aligning with\n"
     ]
    }
   ],
   "source": [
    "print(corpus.train[0].to_tagged_string('ner'))"
   ]
  },
  {
   "cell_type": "code",
   "execution_count": null,
   "metadata": {
    "colab": {
     "base_uri": "https://localhost:8080/",
     "height": 34
    },
    "colab_type": "code",
    "id": "RofhMwDVjFil",
    "outputId": "128e74cd-857f-4ae1-89dc-69af7311de26"
   },
   "outputs": [
    {
     "data": {
      "text/plain": [
       "1038"
      ]
     },
     "execution_count": 19,
     "metadata": {
      "tags": []
     },
     "output_type": "execute_result"
    }
   ],
   "source": [
    "len((corpus.train[0].to_tagged_string('ner')))"
   ]
  },
  {
   "cell_type": "code",
   "execution_count": null,
   "metadata": {
    "colab": {
     "base_uri": "https://localhost:8080/",
     "height": 54
    },
    "colab_type": "code",
    "id": "t3r8WzrejHfR",
    "outputId": "f1f0ddd8-a6c2-47d9-c76d-4cf60a1088b1"
   },
   "outputs": [
    {
     "name": "stdout",
     "output_type": "stream",
     "text": [
      "Dictionary with 82 tags: <unk>, O, Labels, Skills, Designation, Companies, College, Name, Location, Email, Degree, Years, Graduation, UNKNOWN, Relocate, links, Rewards, Managing, Designed, Got, Implementation, Initiated, Preparing, Responsible, Addressing, Recruitment, Monitoring, Managed, Assist, Suggest\n"
     ]
    }
   ],
   "source": [
    "tag_type = 'ner'\n",
    "\n",
    "# 3. make the tag dictionary from the corpus\n",
    "tag_dictionary = corpus.make_tag_dictionary(tag_type=tag_type)\n",
    "# remember our total labels 24+ some internal labels\n",
    "print(tag_dictionary)"
   ]
  },
  {
   "cell_type": "markdown",
   "metadata": {
    "colab_type": "text",
    "id": "47rGiSLP3YgV"
   },
   "source": [
    "if size is huge, then reduce labels"
   ]
  },
  {
   "cell_type": "code",
   "execution_count": null,
   "metadata": {
    "colab": {},
    "colab_type": "code",
    "id": "fXmy0l60nQCd"
   },
   "outputs": [],
   "source": [
    "from flair.data import Dictionary\n",
    "\n",
    "tags = Dictionary()"
   ]
  },
  {
   "cell_type": "code",
   "execution_count": null,
   "metadata": {
    "colab": {},
    "colab_type": "code",
    "id": "vEs1oWNEnbDi"
   },
   "outputs": [],
   "source": [
    "top=tag_dictionary.get_items()[:17]\n",
    "bottom = tag_dictionary.get_items()[-2:]"
   ]
  },
  {
   "cell_type": "code",
   "execution_count": null,
   "metadata": {
    "colab": {},
    "colab_type": "code",
    "id": "4GjmKwELnsi7"
   },
   "outputs": [],
   "source": [
    "for i in top:\n",
    "  tags.add_item(i)\n",
    "tags.add_item('Address')\n",
    "tags.add_item('projects')\n",
    "for i in bottom:\n",
    "  tags.add_item(i)\n",
    "\n"
   ]
  },
  {
   "cell_type": "code",
   "execution_count": null,
   "metadata": {
    "colab": {},
    "colab_type": "code",
    "id": "QaPJsMallybT"
   },
   "outputs": [],
   "source": [
    "tag_dictionary.get_items()[:17]"
   ]
  },
  {
   "cell_type": "code",
   "execution_count": null,
   "metadata": {
    "colab": {
     "base_uri": "https://localhost:8080/",
     "height": 374
    },
    "colab_type": "code",
    "id": "tY6fFR3an3Od",
    "outputId": "627183e5-68a3-42a0-aadc-58808c6e5330"
   },
   "outputs": [
    {
     "data": {
      "text/plain": [
       "['<unk>',\n",
       " 'O',\n",
       " 'Labels',\n",
       " 'Skills',\n",
       " 'Designation',\n",
       " 'Companies',\n",
       " 'College',\n",
       " 'Name',\n",
       " 'Location',\n",
       " 'Email',\n",
       " 'Degree',\n",
       " 'Years',\n",
       " 'Graduation',\n",
       " 'UNKNOWN',\n",
       " 'Relocate',\n",
       " 'links',\n",
       " 'Rewards',\n",
       " '<START>',\n",
       " '<STOP>',\n",
       " 'Address',\n",
       " 'projects']"
      ]
     },
     "execution_count": 44,
     "metadata": {
      "tags": []
     },
     "output_type": "execute_result"
    }
   ],
   "source": [
    "tags.get_items()"
   ]
  },
  {
   "cell_type": "code",
   "execution_count": null,
   "metadata": {
    "colab": {},
    "colab_type": "code",
    "id": "y-7tZfIBjNEK"
   },
   "outputs": [],
   "source": [
    "from flair.data import Corpus\n",
    "from flair.datasets import UD_ENGLISH\n",
    "from flair.embeddings import TokenEmbeddings, WordEmbeddings, StackedEmbeddings, FlairEmbeddings, TransformerWordEmbeddings, CharacterEmbeddings"
   ]
  },
  {
   "cell_type": "code",
   "execution_count": null,
   "metadata": {
    "colab": {
     "base_uri": "https://localhost:8080/",
     "height": 207
    },
    "colab_type": "code",
    "id": "R6_3sexajO-I",
    "outputId": "738250f1-e698-44cb-8c02-9a8c89bac6c1"
   },
   "outputs": [
    {
     "name": "stdout",
     "output_type": "stream",
     "text": [
      "2020-06-19 22:04:55,537 https://s3.eu-central-1.amazonaws.com/alan-nlp/resources/embeddings/glove.gensim.vectors.npy not found in cache, downloading to /tmp/tmp50dh3r2z\n"
     ]
    },
    {
     "name": "stderr",
     "output_type": "stream",
     "text": [
      "100%|██████████| 160000128/160000128 [00:19<00:00, 8340373.47B/s]"
     ]
    },
    {
     "name": "stdout",
     "output_type": "stream",
     "text": [
      "2020-06-19 22:05:15,972 copying /tmp/tmp50dh3r2z to cache at /root/.flair/embeddings/glove.gensim.vectors.npy\n"
     ]
    },
    {
     "name": "stderr",
     "output_type": "stream",
     "text": [
      "\n"
     ]
    },
    {
     "name": "stdout",
     "output_type": "stream",
     "text": [
      "2020-06-19 22:05:16,227 removing temp file /tmp/tmp50dh3r2z\n",
      "2020-06-19 22:05:18,089 https://s3.eu-central-1.amazonaws.com/alan-nlp/resources/embeddings/glove.gensim not found in cache, downloading to /tmp/tmpjpxe8si_\n"
     ]
    },
    {
     "name": "stderr",
     "output_type": "stream",
     "text": [
      "100%|██████████| 21494764/21494764 [00:04<00:00, 5112994.42B/s]"
     ]
    },
    {
     "name": "stdout",
     "output_type": "stream",
     "text": [
      "2020-06-19 22:05:23,548 copying /tmp/tmpjpxe8si_ to cache at /root/.flair/embeddings/glove.gensim\n",
      "2020-06-19 22:05:23,571 removing temp file /tmp/tmpjpxe8si_\n"
     ]
    },
    {
     "name": "stderr",
     "output_type": "stream",
     "text": [
      "\n",
      "/usr/local/lib/python3.6/dist-packages/smart_open/smart_open_lib.py:253: UserWarning: This function is deprecated, use smart_open.open instead. See the migration notes for details: https://github.com/RaRe-Technologies/smart_open/blob/master/README.rst#migrating-to-the-new-open-function\n",
      "  'See the migration notes for details: %s' % _MIGRATION_NOTES_URL\n"
     ]
    }
   ],
   "source": [
    "embedding_types = [\n",
    "\n",
    "    WordEmbeddings('glove'),\n",
    "\n",
    "    # comment in this line to use character embeddings\n",
    "    # CharacterEmbeddings(), # must try\n",
    "\n",
    "    # comment in these lines to use flair embeddings\n",
    "    # FlairEmbeddings('news-forward'), # must try\n",
    "    # FlairEmbeddings('news-backward'), # must try\n",
    "    # TransformerWordEmbeddings('bert-base-multilingual-cased'),\n",
    "]\n",
    "\n",
    "embeddings: StackedEmbeddings = StackedEmbeddings(embeddings=embedding_types)"
   ]
  },
  {
   "cell_type": "code",
   "execution_count": null,
   "metadata": {
    "colab": {},
    "colab_type": "code",
    "id": "X8FTyciUjR3T"
   },
   "outputs": [],
   "source": [
    "from flair.models import SequenceTagger\n",
    "\n",
    "tagger: SequenceTagger = SequenceTagger(hidden_size=256,\n",
    "                                        embeddings=embeddings,\n",
    "                                        tag_dictionary=tags,\n",
    "                                        tag_type=tag_type,\n",
    "                                        use_crf=True) # use True, if gpu uses is too small"
   ]
  },
  {
   "cell_type": "code",
   "execution_count": null,
   "metadata": {
    "colab": {
     "base_uri": "https://localhost:8080/",
     "height": 1000
    },
    "colab_type": "code",
    "id": "eJ2tP13YjUl1",
    "outputId": "53d4f957-1686-45b7-bb5b-47b7e2c43e18"
   },
   "outputs": [
    {
     "name": "stdout",
     "output_type": "stream",
     "text": [
      "2020-06-19 22:39:50,454 ----------------------------------------------------------------------------------------------------\n",
      "2020-06-19 22:39:50,456 Model: \"SequenceTagger(\n",
      "  (embeddings): StackedEmbeddings(\n",
      "    (list_embedding_0): WordEmbeddings('glove')\n",
      "  )\n",
      "  (word_dropout): WordDropout(p=0.05)\n",
      "  (locked_dropout): LockedDropout(p=0.5)\n",
      "  (embedding2nn): Linear(in_features=100, out_features=100, bias=True)\n",
      "  (rnn): LSTM(100, 256, batch_first=True, bidirectional=True)\n",
      "  (linear): Linear(in_features=512, out_features=21, bias=True)\n",
      "  (beta): 1.0\n",
      "  (weights): None\n",
      "  (weight_tensor) None\n",
      ")\"\n",
      "2020-06-19 22:39:50,459 ----------------------------------------------------------------------------------------------------\n",
      "2020-06-19 22:39:50,461 Corpus: \"Corpus: 5251 train + 5251 dev + 5251 test sentences\"\n",
      "2020-06-19 22:39:50,463 ----------------------------------------------------------------------------------------------------\n",
      "2020-06-19 22:39:50,464 Parameters:\n",
      "2020-06-19 22:39:50,465  - learning_rate: \"0.1\"\n",
      "2020-06-19 22:39:50,468  - mini_batch_size: \"32\"\n",
      "2020-06-19 22:39:50,469  - patience: \"1\"\n",
      "2020-06-19 22:39:50,471  - anneal_factor: \"0.5\"\n",
      "2020-06-19 22:39:50,474  - max_epochs: \"30\"\n",
      "2020-06-19 22:39:50,475  - shuffle: \"True\"\n",
      "2020-06-19 22:39:50,476  - train_with_dev: \"False\"\n",
      "2020-06-19 22:39:50,477  - batch_growth_annealing: \"False\"\n",
      "2020-06-19 22:39:50,480 ----------------------------------------------------------------------------------------------------\n",
      "2020-06-19 22:39:50,481 Model training base path: \"/content/drive/My Drive/flair/model\"\n",
      "2020-06-19 22:39:50,482 ----------------------------------------------------------------------------------------------------\n",
      "2020-06-19 22:39:50,484 Device: cuda:0\n",
      "2020-06-19 22:39:50,489 ----------------------------------------------------------------------------------------------------\n",
      "2020-06-19 22:39:50,490 Embeddings storage mode: cpu\n",
      "2020-06-19 22:39:50,497 ----------------------------------------------------------------------------------------------------\n",
      "2020-06-19 22:39:59,348 epoch 1 - iter 16/165 - loss 18.29026884 - samples/sec: 73.62\n",
      "2020-06-19 22:40:08,027 epoch 1 - iter 32/165 - loss 17.19324633 - samples/sec: 71.49\n",
      "2020-06-19 22:40:16,341 epoch 1 - iter 48/165 - loss 16.36185342 - samples/sec: 75.29\n",
      "2020-06-19 22:40:27,418 epoch 1 - iter 64/165 - loss 16.37450339 - samples/sec: 53.86\n",
      "2020-06-19 22:40:39,857 epoch 1 - iter 80/165 - loss 16.12636372 - samples/sec: 49.90\n",
      "2020-06-19 22:40:48,703 epoch 1 - iter 96/165 - loss 16.02483566 - samples/sec: 68.60\n",
      "2020-06-19 22:40:58,152 epoch 1 - iter 112/165 - loss 16.20597857 - samples/sec: 65.12\n",
      "2020-06-19 22:41:08,769 epoch 1 - iter 128/165 - loss 16.06546240 - samples/sec: 59.77\n",
      "2020-06-19 22:41:18,103 epoch 1 - iter 144/165 - loss 16.18785713 - samples/sec: 64.15\n",
      "2020-06-19 22:41:27,449 epoch 1 - iter 160/165 - loss 16.01929222 - samples/sec: 71.34\n",
      "2020-06-19 22:41:31,095 ----------------------------------------------------------------------------------------------------\n",
      "2020-06-19 22:41:31,096 EPOCH 1 done: loss 15.9745 - lr 0.1000000\n",
      "2020-06-19 22:42:36,475 DEV : loss 12.68990707397461 - score 0.6709\n",
      "2020-06-19 22:42:55,634 BAD EPOCHS (no improvement): 0\n",
      "saving best model\n",
      "2020-06-19 22:42:58,731 ----------------------------------------------------------------------------------------------------\n",
      "2020-06-19 22:43:12,257 epoch 2 - iter 16/165 - loss 16.32655585 - samples/sec: 42.94\n",
      "2020-06-19 22:43:20,513 epoch 2 - iter 32/165 - loss 14.90476096 - samples/sec: 77.13\n",
      "2020-06-19 22:43:30,086 epoch 2 - iter 48/165 - loss 14.86199343 - samples/sec: 64.87\n",
      "2020-06-19 22:43:41,011 epoch 2 - iter 64/165 - loss 16.03559500 - samples/sec: 54.79\n",
      "2020-06-19 22:43:52,100 epoch 2 - iter 80/165 - loss 16.14286206 - samples/sec: 55.92\n",
      "2020-06-19 22:44:01,917 epoch 2 - iter 96/165 - loss 16.10412051 - samples/sec: 62.03\n",
      "2020-06-19 22:44:10,575 epoch 2 - iter 112/165 - loss 15.89581188 - samples/sec: 67.06\n",
      "2020-06-19 22:44:22,125 epoch 2 - iter 128/165 - loss 15.85436100 - samples/sec: 54.80\n",
      "2020-06-19 22:44:31,160 epoch 2 - iter 144/165 - loss 15.75759844 - samples/sec: 68.03\n",
      "2020-06-19 22:44:39,674 epoch 2 - iter 160/165 - loss 15.68632300 - samples/sec: 72.61\n",
      "2020-06-19 22:44:42,073 ----------------------------------------------------------------------------------------------------\n",
      "2020-06-19 22:44:42,075 EPOCH 2 done: loss 15.5427 - lr 0.1000000\n",
      "2020-06-19 22:45:49,684 DEV : loss 12.762068748474121 - score 0.6761\n",
      "2020-06-19 22:46:08,553 BAD EPOCHS (no improvement): 0\n",
      "saving best model\n",
      "2020-06-19 22:46:11,674 ----------------------------------------------------------------------------------------------------\n",
      "2020-06-19 22:46:23,273 epoch 3 - iter 16/165 - loss 15.17303061 - samples/sec: 55.75\n",
      "2020-06-19 22:46:32,721 epoch 3 - iter 32/165 - loss 15.41118455 - samples/sec: 66.12\n",
      "2020-06-19 22:46:41,643 epoch 3 - iter 48/165 - loss 15.00254536 - samples/sec: 70.60\n",
      "2020-06-19 22:46:50,904 epoch 3 - iter 64/165 - loss 14.57588017 - samples/sec: 62.22\n",
      "2020-06-19 22:47:01,037 epoch 3 - iter 80/165 - loss 14.59644358 - samples/sec: 56.16\n",
      "2020-06-19 22:47:09,291 epoch 3 - iter 96/165 - loss 14.98675748 - samples/sec: 77.10\n",
      "2020-06-19 22:47:19,574 epoch 3 - iter 112/165 - loss 15.22467657 - samples/sec: 60.06\n",
      "2020-06-19 22:47:30,278 epoch 3 - iter 128/165 - loss 15.18888447 - samples/sec: 59.96\n",
      "2020-06-19 22:47:40,289 epoch 3 - iter 144/165 - loss 15.26552033 - samples/sec: 60.81\n",
      "2020-06-19 22:47:52,697 epoch 3 - iter 160/165 - loss 15.26808988 - samples/sec: 47.15\n",
      "2020-06-19 22:47:56,007 ----------------------------------------------------------------------------------------------------\n",
      "2020-06-19 22:47:56,011 EPOCH 3 done: loss 15.3232 - lr 0.1000000\n",
      "2020-06-19 22:49:01,531 DEV : loss 13.223233222961426 - score 0.698\n",
      "2020-06-19 22:49:20,270 BAD EPOCHS (no improvement): 0\n",
      "saving best model\n",
      "2020-06-19 22:49:23,362 ----------------------------------------------------------------------------------------------------\n",
      "2020-06-19 22:49:38,102 epoch 4 - iter 16/165 - loss 16.65644062 - samples/sec: 49.01\n",
      "2020-06-19 22:49:49,342 epoch 4 - iter 32/165 - loss 15.19492966 - samples/sec: 56.45\n",
      "2020-06-19 22:49:57,256 epoch 4 - iter 48/165 - loss 15.35111588 - samples/sec: 81.20\n",
      "2020-06-19 22:50:08,481 epoch 4 - iter 64/165 - loss 15.33728160 - samples/sec: 52.34\n",
      "2020-06-19 22:50:18,898 epoch 4 - iter 80/165 - loss 14.99200016 - samples/sec: 63.06\n",
      "2020-06-19 22:50:27,757 epoch 4 - iter 96/165 - loss 14.97212926 - samples/sec: 70.25\n",
      "2020-06-19 22:50:36,386 epoch 4 - iter 112/165 - loss 14.77516584 - samples/sec: 75.12\n",
      "2020-06-19 22:50:46,284 epoch 4 - iter 128/165 - loss 14.68161243 - samples/sec: 61.23\n",
      "2020-06-19 22:50:56,851 epoch 4 - iter 144/165 - loss 14.68835194 - samples/sec: 53.04\n",
      "2020-06-19 22:51:06,042 epoch 4 - iter 160/165 - loss 14.57598853 - samples/sec: 73.09\n",
      "2020-06-19 22:51:09,877 ----------------------------------------------------------------------------------------------------\n",
      "2020-06-19 22:51:09,878 EPOCH 4 done: loss 14.5385 - lr 0.1000000\n",
      "2020-06-19 22:52:14,205 DEV : loss 12.150245666503906 - score 0.6474\n",
      "2020-06-19 22:52:33,079 BAD EPOCHS (no improvement): 1\n",
      "2020-06-19 22:52:33,085 ----------------------------------------------------------------------------------------------------\n",
      "2020-06-19 22:52:45,076 epoch 5 - iter 16/165 - loss 16.15480757 - samples/sec: 49.69\n",
      "2020-06-19 22:52:56,308 epoch 5 - iter 32/165 - loss 15.23573580 - samples/sec: 52.96\n",
      "2020-06-19 22:53:04,782 epoch 5 - iter 48/165 - loss 14.45351917 - samples/sec: 81.50\n",
      "2020-06-19 22:53:13,539 epoch 5 - iter 64/165 - loss 14.60505953 - samples/sec: 69.95\n",
      "2020-06-19 22:53:23,849 epoch 5 - iter 80/165 - loss 14.76092367 - samples/sec: 58.35\n",
      "2020-06-19 22:53:32,669 epoch 5 - iter 96/165 - loss 14.65755739 - samples/sec: 76.30\n",
      "2020-06-19 22:53:43,522 epoch 5 - iter 112/165 - loss 14.73884220 - samples/sec: 55.85\n",
      "2020-06-19 22:53:53,458 epoch 5 - iter 128/165 - loss 14.62294923 - samples/sec: 65.31\n",
      "2020-06-19 22:54:03,914 epoch 5 - iter 144/165 - loss 14.60229970 - samples/sec: 59.04\n",
      "2020-06-19 22:54:13,444 epoch 5 - iter 160/165 - loss 14.52359482 - samples/sec: 71.16\n",
      "2020-06-19 22:54:16,001 ----------------------------------------------------------------------------------------------------\n",
      "2020-06-19 22:54:16,004 EPOCH 5 done: loss 14.5368 - lr 0.1000000\n",
      "2020-06-19 22:55:20,390 DEV : loss 10.83665943145752 - score 0.7308\n",
      "2020-06-19 22:55:39,106 BAD EPOCHS (no improvement): 0\n",
      "saving best model\n",
      "2020-06-19 22:55:42,169 ----------------------------------------------------------------------------------------------------\n",
      "2020-06-19 22:55:53,303 epoch 6 - iter 16/165 - loss 13.71471214 - samples/sec: 54.87\n",
      "2020-06-19 22:56:02,436 epoch 6 - iter 32/165 - loss 13.98126370 - samples/sec: 68.35\n",
      "2020-06-19 22:56:11,532 epoch 6 - iter 48/165 - loss 13.73545555 - samples/sec: 67.99\n",
      "2020-06-19 22:56:21,084 epoch 6 - iter 64/165 - loss 13.90345818 - samples/sec: 71.40\n",
      "2020-06-19 22:56:29,727 epoch 6 - iter 80/165 - loss 13.80812380 - samples/sec: 77.83\n",
      "2020-06-19 22:56:40,033 epoch 6 - iter 96/165 - loss 14.12237404 - samples/sec: 54.00\n",
      "2020-06-19 22:56:51,963 epoch 6 - iter 112/165 - loss 14.19397272 - samples/sec: 51.01\n",
      "2020-06-19 22:57:03,205 epoch 6 - iter 128/165 - loss 14.33161481 - samples/sec: 53.22\n",
      "2020-06-19 22:57:13,046 epoch 6 - iter 144/165 - loss 14.41245588 - samples/sec: 60.63\n",
      "2020-06-19 22:57:22,362 epoch 6 - iter 160/165 - loss 14.35631569 - samples/sec: 66.20\n",
      "2020-06-19 22:57:24,823 ----------------------------------------------------------------------------------------------------\n",
      "2020-06-19 22:57:24,824 EPOCH 6 done: loss 14.3212 - lr 0.1000000\n",
      "2020-06-19 22:58:32,008 DEV : loss 10.82177448272705 - score 0.7118\n",
      "2020-06-19 22:58:50,802 BAD EPOCHS (no improvement): 1\n",
      "2020-06-19 22:58:50,809 ----------------------------------------------------------------------------------------------------\n",
      "2020-06-19 22:59:03,452 epoch 7 - iter 16/165 - loss 15.62771237 - samples/sec: 49.78\n",
      "2020-06-19 22:59:14,176 epoch 7 - iter 32/165 - loss 15.28515536 - samples/sec: 56.15\n",
      "2020-06-19 22:59:23,447 epoch 7 - iter 48/165 - loss 14.27167439 - samples/sec: 74.22\n",
      "2020-06-19 22:59:32,908 epoch 7 - iter 64/165 - loss 14.37188721 - samples/sec: 60.33\n",
      "2020-06-19 22:59:43,594 epoch 7 - iter 80/165 - loss 14.44982264 - samples/sec: 56.75\n",
      "2020-06-19 22:59:53,621 epoch 7 - iter 96/165 - loss 14.33022199 - samples/sec: 60.08\n",
      "2020-06-19 23:00:01,820 epoch 7 - iter 112/165 - loss 14.38508918 - samples/sec: 71.81\n",
      "2020-06-19 23:00:12,875 epoch 7 - iter 128/165 - loss 14.16249326 - samples/sec: 58.07\n",
      "2020-06-19 23:00:22,999 epoch 7 - iter 144/165 - loss 14.09880465 - samples/sec: 58.70\n",
      "2020-06-19 23:00:31,908 epoch 7 - iter 160/165 - loss 14.05088263 - samples/sec: 74.25\n",
      "2020-06-19 23:00:34,445 ----------------------------------------------------------------------------------------------------\n",
      "2020-06-19 23:00:34,446 EPOCH 7 done: loss 13.9637 - lr 0.1000000\n",
      "2020-06-19 23:01:39,643 DEV : loss 11.454019546508789 - score 0.7127\n",
      "Epoch     7: reducing learning rate of group 0 to 5.0000e-02.\n",
      "2020-06-19 23:01:58,205 BAD EPOCHS (no improvement): 2\n",
      "2020-06-19 23:01:58,212 ----------------------------------------------------------------------------------------------------\n",
      "2020-06-19 23:02:08,910 epoch 8 - iter 16/165 - loss 14.16862977 - samples/sec: 56.78\n",
      "2020-06-19 23:02:18,805 epoch 8 - iter 32/165 - loss 13.51741692 - samples/sec: 65.74\n",
      "2020-06-19 23:02:26,902 epoch 8 - iter 48/165 - loss 13.22125771 - samples/sec: 77.76\n",
      "2020-06-19 23:02:37,843 epoch 8 - iter 64/165 - loss 13.08476584 - samples/sec: 58.65\n",
      "2020-06-19 23:02:47,641 epoch 8 - iter 80/165 - loss 13.13935740 - samples/sec: 62.78\n",
      "2020-06-19 23:02:57,914 epoch 8 - iter 96/165 - loss 13.11474509 - samples/sec: 59.93\n",
      "2020-06-19 23:03:08,395 epoch 8 - iter 112/165 - loss 13.17239488 - samples/sec: 57.10\n",
      "2020-06-19 23:03:17,807 epoch 8 - iter 128/165 - loss 13.09584173 - samples/sec: 64.89\n",
      "2020-06-19 23:03:27,977 epoch 8 - iter 144/165 - loss 13.07703123 - samples/sec: 55.79\n",
      "2020-06-19 23:03:36,413 epoch 8 - iter 160/165 - loss 12.88562226 - samples/sec: 68.29\n",
      "2020-06-19 23:03:39,451 ----------------------------------------------------------------------------------------------------\n",
      "2020-06-19 23:03:39,452 EPOCH 8 done: loss 12.9785 - lr 0.0500000\n",
      "2020-06-19 23:04:44,322 DEV : loss 9.982909202575684 - score 0.7511\n",
      "2020-06-19 23:05:03,510 BAD EPOCHS (no improvement): 0\n",
      "saving best model\n",
      "2020-06-19 23:05:06,532 ----------------------------------------------------------------------------------------------------\n",
      "2020-06-19 23:05:16,310 epoch 9 - iter 16/165 - loss 12.59079731 - samples/sec: 64.20\n",
      "2020-06-19 23:05:26,357 epoch 9 - iter 32/165 - loss 12.71327782 - samples/sec: 56.14\n",
      "2020-06-19 23:05:35,310 epoch 9 - iter 48/165 - loss 13.17929725 - samples/sec: 69.08\n",
      "2020-06-19 23:05:48,387 epoch 9 - iter 64/165 - loss 13.09305009 - samples/sec: 47.84\n",
      "2020-06-19 23:05:57,269 epoch 9 - iter 80/165 - loss 12.76208143 - samples/sec: 70.51\n",
      "2020-06-19 23:06:07,302 epoch 9 - iter 96/165 - loss 12.77993240 - samples/sec: 60.53\n",
      "2020-06-19 23:06:15,722 epoch 9 - iter 112/165 - loss 12.64074366 - samples/sec: 81.66\n",
      "2020-06-19 23:06:25,987 epoch 9 - iter 128/165 - loss 12.71755506 - samples/sec: 58.43\n",
      "2020-06-19 23:06:35,969 epoch 9 - iter 144/165 - loss 12.73624867 - samples/sec: 61.04\n",
      "2020-06-19 23:06:46,173 epoch 9 - iter 160/165 - loss 12.73691821 - samples/sec: 59.43\n",
      "2020-06-19 23:06:49,847 ----------------------------------------------------------------------------------------------------\n",
      "2020-06-19 23:06:49,849 EPOCH 9 done: loss 12.6982 - lr 0.0500000\n",
      "2020-06-19 23:07:57,452 DEV : loss 9.931621551513672 - score 0.7531\n",
      "2020-06-19 23:08:16,454 BAD EPOCHS (no improvement): 0\n",
      "saving best model\n",
      "2020-06-19 23:08:19,575 ----------------------------------------------------------------------------------------------------\n",
      "2020-06-19 23:08:30,461 epoch 10 - iter 16/165 - loss 12.20762771 - samples/sec: 52.07\n",
      "2020-06-19 23:08:40,976 epoch 10 - iter 32/165 - loss 12.36185727 - samples/sec: 61.18\n",
      "2020-06-19 23:08:51,093 epoch 10 - iter 48/165 - loss 12.27975589 - samples/sec: 56.21\n",
      "2020-06-19 23:09:00,495 epoch 10 - iter 64/165 - loss 12.28615905 - samples/sec: 65.45\n",
      "2020-06-19 23:09:09,962 epoch 10 - iter 80/165 - loss 12.52394658 - samples/sec: 65.11\n",
      "2020-06-19 23:09:21,981 epoch 10 - iter 96/165 - loss 12.59437118 - samples/sec: 50.56\n",
      "2020-06-19 23:09:32,418 epoch 10 - iter 112/165 - loss 12.68289406 - samples/sec: 64.16\n",
      "2020-06-19 23:09:41,317 epoch 10 - iter 128/165 - loss 12.60903525 - samples/sec: 71.42\n",
      "2020-06-19 23:09:50,446 epoch 10 - iter 144/165 - loss 12.50020742 - samples/sec: 67.12\n",
      "2020-06-19 23:09:59,653 epoch 10 - iter 160/165 - loss 12.49694709 - samples/sec: 72.63\n",
      "2020-06-19 23:10:03,552 ----------------------------------------------------------------------------------------------------\n",
      "2020-06-19 23:10:03,555 EPOCH 10 done: loss 12.6913 - lr 0.0500000\n",
      "2020-06-19 23:11:09,846 DEV : loss 9.751537322998047 - score 0.7349\n",
      "2020-06-19 23:11:28,620 BAD EPOCHS (no improvement): 1\n",
      "2020-06-19 23:11:28,626 ----------------------------------------------------------------------------------------------------\n",
      "2020-06-19 23:11:38,877 epoch 11 - iter 16/165 - loss 12.08725357 - samples/sec: 60.43\n",
      "2020-06-19 23:11:47,442 epoch 11 - iter 32/165 - loss 11.79300362 - samples/sec: 78.48\n",
      "2020-06-19 23:11:56,698 epoch 11 - iter 48/165 - loss 11.59153803 - samples/sec: 65.71\n",
      "2020-06-19 23:12:09,982 epoch 11 - iter 64/165 - loss 11.74511915 - samples/sec: 46.65\n",
      "2020-06-19 23:12:19,092 epoch 11 - iter 80/165 - loss 11.75875618 - samples/sec: 67.96\n",
      "2020-06-19 23:12:29,469 epoch 11 - iter 96/165 - loss 11.85285207 - samples/sec: 61.84\n",
      "2020-06-19 23:12:39,302 epoch 11 - iter 112/165 - loss 11.98985648 - samples/sec: 61.50\n",
      "2020-06-19 23:12:49,142 epoch 11 - iter 128/165 - loss 12.03021421 - samples/sec: 67.35\n",
      "2020-06-19 23:13:00,997 epoch 11 - iter 144/165 - loss 12.40109926 - samples/sec: 49.88\n",
      "2020-06-19 23:13:08,905 epoch 11 - iter 160/165 - loss 12.31026266 - samples/sec: 80.23\n",
      "2020-06-19 23:13:12,173 ----------------------------------------------------------------------------------------------------\n",
      "2020-06-19 23:13:12,174 EPOCH 11 done: loss 12.3371 - lr 0.0500000\n",
      "2020-06-19 23:14:17,820 DEV : loss 11.463189125061035 - score 0.7129\n",
      "Epoch    11: reducing learning rate of group 0 to 2.5000e-02.\n",
      "2020-06-19 23:14:36,715 BAD EPOCHS (no improvement): 2\n",
      "2020-06-19 23:14:36,721 ----------------------------------------------------------------------------------------------------\n",
      "2020-06-19 23:14:49,832 epoch 12 - iter 16/165 - loss 12.01550817 - samples/sec: 45.44\n",
      "2020-06-19 23:14:58,940 epoch 12 - iter 32/165 - loss 11.75701043 - samples/sec: 74.48\n",
      "2020-06-19 23:15:07,696 epoch 12 - iter 48/165 - loss 12.17980707 - samples/sec: 71.81\n",
      "2020-06-19 23:15:18,719 epoch 12 - iter 64/165 - loss 12.17405668 - samples/sec: 55.52\n",
      "2020-06-19 23:15:30,098 epoch 12 - iter 80/165 - loss 12.27786827 - samples/sec: 53.72\n",
      "2020-06-19 23:15:38,578 epoch 12 - iter 96/165 - loss 12.07255010 - samples/sec: 74.43\n",
      "2020-06-19 23:15:49,674 epoch 12 - iter 112/165 - loss 12.01773604 - samples/sec: 58.88\n",
      "2020-06-19 23:16:00,140 epoch 12 - iter 128/165 - loss 11.99132899 - samples/sec: 58.24\n",
      "2020-06-19 23:16:09,295 epoch 12 - iter 144/165 - loss 12.03095993 - samples/sec: 71.70\n",
      "2020-06-19 23:16:19,785 epoch 12 - iter 160/165 - loss 12.01801657 - samples/sec: 57.47\n",
      "2020-06-19 23:16:22,467 ----------------------------------------------------------------------------------------------------\n",
      "2020-06-19 23:16:22,470 EPOCH 12 done: loss 11.9787 - lr 0.0250000\n",
      "2020-06-19 23:17:32,078 DEV : loss 9.664899826049805 - score 0.7465\n",
      "2020-06-19 23:17:51,569 BAD EPOCHS (no improvement): 1\n",
      "2020-06-19 23:17:51,576 ----------------------------------------------------------------------------------------------------\n",
      "2020-06-19 23:18:02,425 epoch 13 - iter 16/165 - loss 10.76503074 - samples/sec: 56.44\n",
      "2020-06-19 23:18:12,581 epoch 13 - iter 32/165 - loss 12.04035044 - samples/sec: 63.88\n",
      "2020-06-19 23:18:21,902 epoch 13 - iter 48/165 - loss 11.85433390 - samples/sec: 65.81\n",
      "2020-06-19 23:18:34,471 epoch 13 - iter 64/165 - loss 11.82154760 - samples/sec: 50.36\n",
      "2020-06-19 23:18:44,611 epoch 13 - iter 80/165 - loss 11.94055824 - samples/sec: 60.57\n",
      "2020-06-19 23:18:55,696 epoch 13 - iter 96/165 - loss 11.92836054 - samples/sec: 54.53\n",
      "2020-06-19 23:19:05,267 epoch 13 - iter 112/165 - loss 11.87429675 - samples/sec: 71.53\n",
      "2020-06-19 23:19:13,812 epoch 13 - iter 128/165 - loss 11.88770166 - samples/sec: 72.08\n",
      "2020-06-19 23:19:25,193 epoch 13 - iter 144/165 - loss 11.86489271 - samples/sec: 56.47\n",
      "2020-06-19 23:19:34,609 epoch 13 - iter 160/165 - loss 11.79948406 - samples/sec: 67.03\n",
      "2020-06-19 23:19:37,884 ----------------------------------------------------------------------------------------------------\n",
      "2020-06-19 23:19:37,886 EPOCH 13 done: loss 11.9534 - lr 0.0250000\n",
      "2020-06-19 23:20:43,822 DEV : loss 9.454414367675781 - score 0.7615\n",
      "2020-06-19 23:21:02,487 BAD EPOCHS (no improvement): 0\n",
      "saving best model\n",
      "2020-06-19 23:21:05,597 ----------------------------------------------------------------------------------------------------\n",
      "2020-06-19 23:21:15,823 epoch 14 - iter 16/165 - loss 10.89568114 - samples/sec: 61.84\n",
      "2020-06-19 23:21:24,577 epoch 14 - iter 32/165 - loss 10.96587420 - samples/sec: 75.43\n",
      "2020-06-19 23:21:33,925 epoch 14 - iter 48/165 - loss 11.88887441 - samples/sec: 65.92\n",
      "2020-06-19 23:21:42,970 epoch 14 - iter 64/165 - loss 11.74479824 - samples/sec: 68.41\n",
      "2020-06-19 23:21:53,415 epoch 14 - iter 80/165 - loss 11.81661863 - samples/sec: 62.71\n",
      "2020-06-19 23:22:04,192 epoch 14 - iter 96/165 - loss 11.70552525 - samples/sec: 55.74\n",
      "2020-06-19 23:22:15,961 epoch 14 - iter 112/165 - loss 11.67320266 - samples/sec: 52.91\n",
      "2020-06-19 23:22:25,421 epoch 14 - iter 128/165 - loss 11.60397164 - samples/sec: 64.88\n",
      "2020-06-19 23:22:36,263 epoch 14 - iter 144/165 - loss 11.67989094 - samples/sec: 55.20\n",
      "2020-06-19 23:22:45,657 epoch 14 - iter 160/165 - loss 11.65912249 - samples/sec: 72.30\n",
      "2020-06-19 23:22:48,312 ----------------------------------------------------------------------------------------------------\n",
      "2020-06-19 23:22:48,313 EPOCH 14 done: loss 11.7240 - lr 0.0250000\n",
      "2020-06-19 23:23:53,902 DEV : loss 9.333439826965332 - score 0.7668\n",
      "2020-06-19 23:24:12,818 BAD EPOCHS (no improvement): 0\n",
      "saving best model\n",
      "2020-06-19 23:24:15,837 ----------------------------------------------------------------------------------------------------\n",
      "2020-06-19 23:24:26,409 epoch 15 - iter 16/165 - loss 10.83372438 - samples/sec: 54.10\n",
      "2020-06-19 23:24:35,703 epoch 15 - iter 32/165 - loss 11.70584691 - samples/sec: 66.61\n",
      "2020-06-19 23:24:48,039 epoch 15 - iter 48/165 - loss 11.47790484 - samples/sec: 48.39\n",
      "2020-06-19 23:24:56,523 epoch 15 - iter 64/165 - loss 11.63273379 - samples/sec: 80.61\n",
      "2020-06-19 23:25:06,371 epoch 15 - iter 80/165 - loss 11.56889089 - samples/sec: 62.78\n",
      "2020-06-19 23:25:17,570 epoch 15 - iter 96/165 - loss 11.56583195 - samples/sec: 53.57\n",
      "2020-06-19 23:25:27,743 epoch 15 - iter 112/165 - loss 11.63185688 - samples/sec: 61.17\n",
      "2020-06-19 23:25:38,036 epoch 15 - iter 128/165 - loss 11.65892303 - samples/sec: 62.56\n",
      "2020-06-19 23:25:47,191 epoch 15 - iter 144/165 - loss 11.62622318 - samples/sec: 68.69\n",
      "2020-06-19 23:25:55,455 epoch 15 - iter 160/165 - loss 11.59244170 - samples/sec: 77.47\n",
      "2020-06-19 23:26:00,797 ----------------------------------------------------------------------------------------------------\n",
      "2020-06-19 23:26:00,799 EPOCH 15 done: loss 11.6195 - lr 0.0250000\n",
      "2020-06-19 23:27:05,431 DEV : loss 9.283682823181152 - score 0.7684\n",
      "2020-06-19 23:27:24,024 BAD EPOCHS (no improvement): 0\n",
      "saving best model\n",
      "2020-06-19 23:27:27,056 ----------------------------------------------------------------------------------------------------\n",
      "2020-06-19 23:27:39,772 epoch 16 - iter 16/165 - loss 10.96130383 - samples/sec: 61.08\n",
      "2020-06-19 23:27:47,620 epoch 16 - iter 32/165 - loss 10.79510748 - samples/sec: 78.73\n",
      "2020-06-19 23:27:59,567 epoch 16 - iter 48/165 - loss 11.12396332 - samples/sec: 52.10\n",
      "2020-06-19 23:28:10,054 epoch 16 - iter 64/165 - loss 11.46165365 - samples/sec: 57.06\n",
      "2020-06-19 23:28:19,888 epoch 16 - iter 80/165 - loss 11.48207953 - samples/sec: 67.43\n",
      "2020-06-19 23:28:30,574 epoch 16 - iter 96/165 - loss 11.54652594 - samples/sec: 53.31\n",
      "2020-06-19 23:28:40,669 epoch 16 - iter 112/165 - loss 11.44757092 - samples/sec: 64.56\n",
      "2020-06-19 23:28:49,218 epoch 16 - iter 128/165 - loss 11.44547144 - samples/sec: 73.93\n",
      "2020-06-19 23:28:57,893 epoch 16 - iter 144/165 - loss 11.41966293 - samples/sec: 73.12\n",
      "2020-06-19 23:29:07,547 epoch 16 - iter 160/165 - loss 11.57673373 - samples/sec: 69.55\n",
      "2020-06-19 23:29:11,604 ----------------------------------------------------------------------------------------------------\n",
      "2020-06-19 23:29:11,607 EPOCH 16 done: loss 11.6619 - lr 0.0250000\n",
      "2020-06-19 23:30:17,694 DEV : loss 9.161954879760742 - score 0.7669\n",
      "2020-06-19 23:30:37,495 BAD EPOCHS (no improvement): 1\n",
      "2020-06-19 23:30:37,502 ----------------------------------------------------------------------------------------------------\n",
      "2020-06-19 23:30:46,758 epoch 17 - iter 16/165 - loss 11.84879768 - samples/sec: 66.76\n",
      "2020-06-19 23:30:57,674 epoch 17 - iter 32/165 - loss 11.41492969 - samples/sec: 55.91\n",
      "2020-06-19 23:31:08,256 epoch 17 - iter 48/165 - loss 11.63670146 - samples/sec: 53.81\n",
      "2020-06-19 23:31:16,605 epoch 17 - iter 64/165 - loss 11.64397559 - samples/sec: 81.80\n",
      "2020-06-19 23:31:28,930 epoch 17 - iter 80/165 - loss 11.73738900 - samples/sec: 47.54\n",
      "2020-06-19 23:31:37,727 epoch 17 - iter 96/165 - loss 11.62865753 - samples/sec: 75.85\n",
      "2020-06-19 23:31:47,321 epoch 17 - iter 112/165 - loss 11.64728315 - samples/sec: 63.70\n",
      "2020-06-19 23:31:57,989 epoch 17 - iter 128/165 - loss 11.46397806 - samples/sec: 60.55\n",
      "2020-06-19 23:32:08,374 epoch 17 - iter 144/165 - loss 11.51072390 - samples/sec: 57.37\n",
      "2020-06-19 23:32:18,158 epoch 17 - iter 160/165 - loss 11.50061500 - samples/sec: 63.57\n",
      "2020-06-19 23:32:21,241 ----------------------------------------------------------------------------------------------------\n",
      "2020-06-19 23:32:21,244 EPOCH 17 done: loss 11.5673 - lr 0.0250000\n",
      "2020-06-19 23:33:25,553 DEV : loss 9.279170989990234 - score 0.7642\n",
      "Epoch    17: reducing learning rate of group 0 to 1.2500e-02.\n",
      "2020-06-19 23:33:44,417 BAD EPOCHS (no improvement): 2\n",
      "2020-06-19 23:33:44,424 ----------------------------------------------------------------------------------------------------\n",
      "2020-06-19 23:33:53,116 epoch 18 - iter 16/165 - loss 11.34944105 - samples/sec: 78.71\n",
      "2020-06-19 23:34:04,506 epoch 18 - iter 32/165 - loss 11.51810628 - samples/sec: 51.83\n",
      "2020-06-19 23:34:15,661 epoch 18 - iter 48/165 - loss 11.73982612 - samples/sec: 54.44\n",
      "2020-06-19 23:34:24,712 epoch 18 - iter 64/165 - loss 11.43043545 - samples/sec: 64.59\n",
      "2020-06-19 23:34:35,045 epoch 18 - iter 80/165 - loss 11.32005446 - samples/sec: 55.35\n",
      "2020-06-19 23:34:44,827 epoch 18 - iter 96/165 - loss 11.27600447 - samples/sec: 67.20\n",
      "2020-06-19 23:34:55,117 epoch 18 - iter 112/165 - loss 11.25722131 - samples/sec: 58.58\n",
      "2020-06-19 23:35:05,640 epoch 18 - iter 128/165 - loss 11.31460146 - samples/sec: 57.65\n",
      "2020-06-19 23:35:13,967 epoch 18 - iter 144/165 - loss 11.22459684 - samples/sec: 81.80\n",
      "2020-06-19 23:35:24,591 epoch 18 - iter 160/165 - loss 11.35950639 - samples/sec: 56.61\n",
      "2020-06-19 23:35:27,296 ----------------------------------------------------------------------------------------------------\n",
      "2020-06-19 23:35:27,298 EPOCH 18 done: loss 11.3451 - lr 0.0125000\n",
      "2020-06-19 23:36:34,615 DEV : loss 8.863602638244629 - score 0.7676\n",
      "2020-06-19 23:36:53,228 BAD EPOCHS (no improvement): 1\n",
      "2020-06-19 23:36:53,233 ----------------------------------------------------------------------------------------------------\n",
      "2020-06-19 23:37:02,065 epoch 19 - iter 16/165 - loss 11.00807768 - samples/sec: 71.74\n",
      "2020-06-19 23:37:11,000 epoch 19 - iter 32/165 - loss 11.65873611 - samples/sec: 73.05\n",
      "2020-06-19 23:37:18,485 epoch 19 - iter 48/165 - loss 11.12512251 - samples/sec: 77.72\n",
      "2020-06-19 23:37:27,965 epoch 19 - iter 64/165 - loss 11.02816944 - samples/sec: 69.58\n",
      "2020-06-19 23:37:39,684 epoch 19 - iter 80/165 - loss 11.17397350 - samples/sec: 50.79\n",
      "2020-06-19 23:37:49,285 epoch 19 - iter 96/165 - loss 11.17055950 - samples/sec: 63.25\n",
      "2020-06-19 23:37:58,812 epoch 19 - iter 112/165 - loss 11.13980892 - samples/sec: 68.58\n",
      "2020-06-19 23:38:08,765 epoch 19 - iter 128/165 - loss 11.19349467 - samples/sec: 61.09\n",
      "2020-06-19 23:38:22,087 epoch 19 - iter 144/165 - loss 11.29829058 - samples/sec: 45.39\n",
      "2020-06-19 23:38:31,891 epoch 19 - iter 160/165 - loss 11.31019532 - samples/sec: 62.63\n",
      "2020-06-19 23:38:34,995 ----------------------------------------------------------------------------------------------------\n",
      "2020-06-19 23:38:34,997 EPOCH 19 done: loss 11.2364 - lr 0.0125000\n",
      "2020-06-19 23:39:39,847 DEV : loss 8.821120262145996 - score 0.776\n",
      "2020-06-19 23:39:58,446 BAD EPOCHS (no improvement): 0\n",
      "saving best model\n",
      "2020-06-19 23:40:01,469 ----------------------------------------------------------------------------------------------------\n",
      "2020-06-19 23:40:11,883 epoch 20 - iter 16/165 - loss 9.99947333 - samples/sec: 59.76\n",
      "2020-06-19 23:40:20,142 epoch 20 - iter 32/165 - loss 10.20889068 - samples/sec: 84.66\n",
      "2020-06-19 23:40:29,483 epoch 20 - iter 48/165 - loss 10.63801907 - samples/sec: 65.59\n",
      "2020-06-19 23:40:39,179 epoch 20 - iter 64/165 - loss 10.67075402 - samples/sec: 64.36\n",
      "2020-06-19 23:40:48,547 epoch 20 - iter 80/165 - loss 10.78257811 - samples/sec: 71.84\n",
      "2020-06-19 23:40:58,307 epoch 20 - iter 96/165 - loss 10.99997882 - samples/sec: 61.72\n",
      "2020-06-19 23:41:13,311 epoch 20 - iter 112/165 - loss 11.13634683 - samples/sec: 38.82\n",
      "2020-06-19 23:41:21,636 epoch 20 - iter 128/165 - loss 11.15044138 - samples/sec: 69.18\n",
      "2020-06-19 23:41:30,831 epoch 20 - iter 144/165 - loss 11.16618945 - samples/sec: 67.37\n",
      "2020-06-19 23:41:41,742 epoch 20 - iter 160/165 - loss 11.20474619 - samples/sec: 59.71\n",
      "2020-06-19 23:41:44,611 ----------------------------------------------------------------------------------------------------\n",
      "2020-06-19 23:41:44,612 EPOCH 20 done: loss 11.2412 - lr 0.0125000\n",
      "2020-06-19 23:42:49,385 DEV : loss 8.812321662902832 - score 0.7698\n",
      "2020-06-19 23:43:08,158 BAD EPOCHS (no improvement): 1\n",
      "2020-06-19 23:43:08,163 ----------------------------------------------------------------------------------------------------\n",
      "2020-06-19 23:43:16,831 epoch 21 - iter 16/165 - loss 10.55176759 - samples/sec: 73.45\n",
      "2020-06-19 23:43:26,366 epoch 21 - iter 32/165 - loss 9.98815385 - samples/sec: 67.23\n",
      "2020-06-19 23:43:38,500 epoch 21 - iter 48/165 - loss 10.32902221 - samples/sec: 46.47\n",
      "2020-06-19 23:43:51,259 epoch 21 - iter 64/165 - loss 10.78562492 - samples/sec: 46.00\n",
      "2020-06-19 23:43:59,075 epoch 21 - iter 80/165 - loss 11.05095297 - samples/sec: 80.47\n",
      "2020-06-19 23:44:11,215 epoch 21 - iter 96/165 - loss 11.17321753 - samples/sec: 48.30\n",
      "2020-06-19 23:44:19,069 epoch 21 - iter 112/165 - loss 11.35786679 - samples/sec: 82.62\n",
      "2020-06-19 23:44:28,819 epoch 21 - iter 128/165 - loss 11.33970430 - samples/sec: 66.02\n",
      "2020-06-19 23:44:37,309 epoch 21 - iter 144/165 - loss 11.32397742 - samples/sec: 74.68\n",
      "2020-06-19 23:44:47,038 epoch 21 - iter 160/165 - loss 11.29837024 - samples/sec: 68.11\n",
      "2020-06-19 23:44:49,726 ----------------------------------------------------------------------------------------------------\n",
      "2020-06-19 23:44:49,730 EPOCH 21 done: loss 11.3100 - lr 0.0125000\n",
      "2020-06-19 23:45:56,269 DEV : loss 8.744757652282715 - score 0.7788\n",
      "2020-06-19 23:46:15,142 BAD EPOCHS (no improvement): 0\n",
      "saving best model\n",
      "2020-06-19 23:46:18,220 ----------------------------------------------------------------------------------------------------\n",
      "2020-06-19 23:46:31,595 epoch 22 - iter 16/165 - loss 12.92509401 - samples/sec: 46.23\n",
      "2020-06-19 23:46:40,424 epoch 22 - iter 32/165 - loss 11.73682678 - samples/sec: 71.68\n",
      "2020-06-19 23:46:53,003 epoch 22 - iter 48/165 - loss 11.57721315 - samples/sec: 47.21\n",
      "2020-06-19 23:47:01,925 epoch 22 - iter 64/165 - loss 11.65238260 - samples/sec: 76.28\n",
      "2020-06-19 23:47:11,342 epoch 22 - iter 80/165 - loss 11.56880950 - samples/sec: 65.65\n",
      "2020-06-19 23:47:21,217 epoch 22 - iter 96/165 - loss 11.48391544 - samples/sec: 67.45\n",
      "2020-06-19 23:47:29,423 epoch 22 - iter 112/165 - loss 11.44405138 - samples/sec: 78.52\n",
      "2020-06-19 23:47:40,948 epoch 22 - iter 128/165 - loss 11.42018027 - samples/sec: 54.49\n",
      "2020-06-19 23:47:50,404 epoch 22 - iter 144/165 - loss 11.29732582 - samples/sec: 65.66\n",
      "2020-06-19 23:47:57,834 epoch 22 - iter 160/165 - loss 11.26105979 - samples/sec: 87.20\n",
      "2020-06-19 23:48:00,907 ----------------------------------------------------------------------------------------------------\n",
      "2020-06-19 23:48:00,910 EPOCH 22 done: loss 11.2769 - lr 0.0125000\n",
      "2020-06-19 23:49:07,428 DEV : loss 8.743744850158691 - score 0.7725\n",
      "2020-06-19 23:49:26,283 BAD EPOCHS (no improvement): 1\n",
      "2020-06-19 23:49:26,289 ----------------------------------------------------------------------------------------------------\n",
      "2020-06-19 23:49:34,967 epoch 23 - iter 16/165 - loss 10.82375145 - samples/sec: 73.28\n",
      "2020-06-19 23:49:43,895 epoch 23 - iter 32/165 - loss 10.91514662 - samples/sec: 76.01\n",
      "2020-06-19 23:49:53,489 epoch 23 - iter 48/165 - loss 10.97613593 - samples/sec: 64.89\n",
      "2020-06-19 23:50:04,399 epoch 23 - iter 64/165 - loss 10.87441605 - samples/sec: 55.33\n",
      "2020-06-19 23:50:14,605 epoch 23 - iter 80/165 - loss 10.65677776 - samples/sec: 63.09\n",
      "2020-06-19 23:50:26,180 epoch 23 - iter 96/165 - loss 10.96605748 - samples/sec: 48.03\n",
      "2020-06-19 23:50:38,470 epoch 23 - iter 112/165 - loss 10.99582463 - samples/sec: 52.83\n",
      "2020-06-19 23:50:49,248 epoch 23 - iter 128/165 - loss 11.21459526 - samples/sec: 55.59\n",
      "2020-06-19 23:50:58,487 epoch 23 - iter 144/165 - loss 11.14165968 - samples/sec: 65.98\n",
      "2020-06-19 23:51:06,893 epoch 23 - iter 160/165 - loss 11.08988398 - samples/sec: 84.96\n",
      "2020-06-19 23:51:09,685 ----------------------------------------------------------------------------------------------------\n",
      "2020-06-19 23:51:09,686 EPOCH 23 done: loss 11.0551 - lr 0.0125000\n",
      "2020-06-19 23:52:16,275 DEV : loss 8.782814979553223 - score 0.7793\n",
      "2020-06-19 23:52:35,755 BAD EPOCHS (no improvement): 0\n",
      "saving best model\n",
      "2020-06-19 23:52:38,827 ----------------------------------------------------------------------------------------------------\n",
      "2020-06-19 23:52:48,539 epoch 24 - iter 16/165 - loss 10.50107169 - samples/sec: 64.36\n",
      "2020-06-19 23:53:00,243 epoch 24 - iter 32/165 - loss 10.82042521 - samples/sec: 53.40\n",
      "2020-06-19 23:53:09,452 epoch 24 - iter 48/165 - loss 10.86706402 - samples/sec: 67.79\n",
      "2020-06-19 23:53:18,790 epoch 24 - iter 64/165 - loss 10.70832826 - samples/sec: 67.66\n",
      "2020-06-19 23:53:29,882 epoch 24 - iter 80/165 - loss 10.95513579 - samples/sec: 54.01\n",
      "2020-06-19 23:53:38,863 epoch 24 - iter 96/165 - loss 10.88860870 - samples/sec: 69.25\n",
      "2020-06-19 23:53:50,312 epoch 24 - iter 112/165 - loss 10.93956544 - samples/sec: 57.00\n",
      "2020-06-19 23:53:59,831 epoch 24 - iter 128/165 - loss 10.94659225 - samples/sec: 65.31\n",
      "2020-06-19 23:54:09,421 epoch 24 - iter 144/165 - loss 11.01925815 - samples/sec: 64.26\n",
      "2020-06-19 23:54:17,900 epoch 24 - iter 160/165 - loss 11.01695796 - samples/sec: 74.06\n",
      "2020-06-19 23:54:22,229 ----------------------------------------------------------------------------------------------------\n",
      "2020-06-19 23:54:22,232 EPOCH 24 done: loss 11.0927 - lr 0.0125000\n",
      "2020-06-19 23:55:28,256 DEV : loss 8.65934944152832 - score 0.7745\n",
      "2020-06-19 23:55:46,883 BAD EPOCHS (no improvement): 1\n",
      "2020-06-19 23:55:46,890 ----------------------------------------------------------------------------------------------------\n",
      "2020-06-19 23:55:57,896 epoch 25 - iter 16/165 - loss 11.50857395 - samples/sec: 54.90\n",
      "2020-06-19 23:56:08,947 epoch 25 - iter 32/165 - loss 11.74029544 - samples/sec: 57.26\n",
      "2020-06-19 23:56:17,647 epoch 25 - iter 48/165 - loss 11.38647825 - samples/sec: 71.37\n",
      "2020-06-19 23:56:27,508 epoch 25 - iter 64/165 - loss 11.35690473 - samples/sec: 62.11\n",
      "2020-06-19 23:56:37,611 epoch 25 - iter 80/165 - loss 11.22850198 - samples/sec: 60.59\n",
      "2020-06-19 23:56:48,107 epoch 25 - iter 96/165 - loss 11.29594458 - samples/sec: 57.80\n",
      "2020-06-19 23:56:59,172 epoch 25 - iter 112/165 - loss 11.12241647 - samples/sec: 57.43\n",
      "2020-06-19 23:57:08,318 epoch 25 - iter 128/165 - loss 11.08356583 - samples/sec: 68.92\n",
      "2020-06-19 23:57:17,761 epoch 25 - iter 144/165 - loss 11.08000729 - samples/sec: 65.11\n",
      "2020-06-19 23:57:26,523 epoch 25 - iter 160/165 - loss 10.98768955 - samples/sec: 72.60\n",
      "2020-06-19 23:57:28,883 ----------------------------------------------------------------------------------------------------\n",
      "2020-06-19 23:57:28,886 EPOCH 25 done: loss 10.9613 - lr 0.0125000\n",
      "2020-06-19 23:58:33,569 DEV : loss 8.720311164855957 - score 0.7705\n",
      "Epoch    25: reducing learning rate of group 0 to 6.2500e-03.\n",
      "2020-06-19 23:58:52,319 BAD EPOCHS (no improvement): 2\n",
      "2020-06-19 23:58:52,325 ----------------------------------------------------------------------------------------------------\n",
      "2020-06-19 23:59:03,347 epoch 26 - iter 16/165 - loss 11.66254151 - samples/sec: 59.38\n",
      "2020-06-19 23:59:16,385 epoch 26 - iter 32/165 - loss 11.34829104 - samples/sec: 44.56\n",
      "2020-06-19 23:59:25,998 epoch 26 - iter 48/165 - loss 11.15317265 - samples/sec: 64.19\n",
      "2020-06-19 23:59:35,579 epoch 26 - iter 64/165 - loss 11.21598478 - samples/sec: 63.02\n",
      "2020-06-19 23:59:45,604 epoch 26 - iter 80/165 - loss 11.05610286 - samples/sec: 61.02\n",
      "2020-06-19 23:59:54,608 epoch 26 - iter 96/165 - loss 11.01714058 - samples/sec: 69.44\n",
      "2020-06-20 00:00:04,530 epoch 26 - iter 112/165 - loss 10.93090575 - samples/sec: 61.89\n",
      "2020-06-20 00:00:13,786 epoch 26 - iter 128/165 - loss 10.94310256 - samples/sec: 71.83\n",
      "2020-06-20 00:00:24,235 epoch 26 - iter 144/165 - loss 10.99518659 - samples/sec: 55.61\n",
      "2020-06-20 00:00:34,726 epoch 26 - iter 160/165 - loss 11.04086415 - samples/sec: 61.39\n",
      "2020-06-20 00:00:37,612 ----------------------------------------------------------------------------------------------------\n",
      "2020-06-20 00:00:37,615 EPOCH 26 done: loss 11.0259 - lr 0.0062500\n",
      "2020-06-20 00:01:43,203 DEV : loss 8.725383758544922 - score 0.7775\n",
      "2020-06-20 00:02:02,191 BAD EPOCHS (no improvement): 1\n",
      "2020-06-20 00:02:02,198 ----------------------------------------------------------------------------------------------------\n",
      "2020-06-20 00:02:12,238 epoch 27 - iter 16/165 - loss 10.85683990 - samples/sec: 57.91\n",
      "2020-06-20 00:02:24,954 epoch 27 - iter 32/165 - loss 11.52115786 - samples/sec: 46.03\n",
      "2020-06-20 00:02:35,593 epoch 27 - iter 48/165 - loss 11.11076128 - samples/sec: 56.64\n",
      "2020-06-20 00:02:45,482 epoch 27 - iter 64/165 - loss 11.01835825 - samples/sec: 68.05\n",
      "2020-06-20 00:02:54,723 epoch 27 - iter 80/165 - loss 11.17732655 - samples/sec: 68.20\n",
      "2020-06-20 00:03:05,888 epoch 27 - iter 96/165 - loss 11.27939301 - samples/sec: 52.46\n",
      "2020-06-20 00:03:14,409 epoch 27 - iter 112/165 - loss 11.19344833 - samples/sec: 81.17\n",
      "2020-06-20 00:03:25,604 epoch 27 - iter 128/165 - loss 11.14636518 - samples/sec: 51.47\n",
      "2020-06-20 00:03:35,129 epoch 27 - iter 144/165 - loss 11.15705186 - samples/sec: 64.56\n",
      "2020-06-20 00:03:42,836 epoch 27 - iter 160/165 - loss 11.05803435 - samples/sec: 76.05\n",
      "2020-06-20 00:03:45,501 ----------------------------------------------------------------------------------------------------\n",
      "2020-06-20 00:03:45,502 EPOCH 27 done: loss 11.1115 - lr 0.0062500\n",
      "2020-06-20 00:04:52,745 DEV : loss 8.620712280273438 - score 0.7723\n",
      "Epoch    27: reducing learning rate of group 0 to 3.1250e-03.\n",
      "2020-06-20 00:05:11,490 BAD EPOCHS (no improvement): 2\n",
      "2020-06-20 00:05:11,496 ----------------------------------------------------------------------------------------------------\n",
      "2020-06-20 00:05:24,658 epoch 28 - iter 16/165 - loss 11.20552969 - samples/sec: 47.75\n",
      "2020-06-20 00:05:34,225 epoch 28 - iter 32/165 - loss 11.30917829 - samples/sec: 63.59\n",
      "2020-06-20 00:05:45,567 epoch 28 - iter 48/165 - loss 11.30282370 - samples/sec: 49.20\n",
      "2020-06-20 00:05:54,306 epoch 28 - iter 64/165 - loss 11.07986590 - samples/sec: 72.85\n",
      "2020-06-20 00:06:04,627 epoch 28 - iter 80/165 - loss 10.84321315 - samples/sec: 62.79\n",
      "2020-06-20 00:06:13,051 epoch 28 - iter 96/165 - loss 10.91005923 - samples/sec: 74.13\n",
      "2020-06-20 00:06:25,485 epoch 28 - iter 112/165 - loss 10.96902846 - samples/sec: 47.79\n",
      "2020-06-20 00:06:35,849 epoch 28 - iter 128/165 - loss 10.98147261 - samples/sec: 63.36\n",
      "2020-06-20 00:06:44,918 epoch 28 - iter 144/165 - loss 10.96224508 - samples/sec: 68.11\n",
      "2020-06-20 00:06:53,032 epoch 28 - iter 160/165 - loss 10.93968689 - samples/sec: 86.30\n",
      "2020-06-20 00:06:55,549 ----------------------------------------------------------------------------------------------------\n",
      "2020-06-20 00:06:55,552 EPOCH 28 done: loss 10.8945 - lr 0.0031250\n",
      "2020-06-20 00:07:59,846 DEV : loss 8.601466178894043 - score 0.7768\n",
      "2020-06-20 00:08:18,072 BAD EPOCHS (no improvement): 1\n",
      "2020-06-20 00:08:18,079 ----------------------------------------------------------------------------------------------------\n",
      "2020-06-20 00:08:30,078 epoch 29 - iter 16/165 - loss 12.24604899 - samples/sec: 49.89\n",
      "2020-06-20 00:08:39,862 epoch 29 - iter 32/165 - loss 11.40381703 - samples/sec: 65.95\n",
      "2020-06-20 00:08:49,926 epoch 29 - iter 48/165 - loss 11.22374588 - samples/sec: 56.52\n",
      "2020-06-20 00:08:59,704 epoch 29 - iter 64/165 - loss 11.21206178 - samples/sec: 67.48\n",
      "2020-06-20 00:09:09,575 epoch 29 - iter 80/165 - loss 11.11974535 - samples/sec: 64.02\n",
      "2020-06-20 00:09:17,736 epoch 29 - iter 96/165 - loss 11.15801618 - samples/sec: 77.50\n",
      "2020-06-20 00:09:26,443 epoch 29 - iter 112/165 - loss 11.05194913 - samples/sec: 79.35\n",
      "2020-06-20 00:09:37,579 epoch 29 - iter 128/165 - loss 10.96616505 - samples/sec: 53.57\n",
      "2020-06-20 00:09:46,256 epoch 29 - iter 144/165 - loss 10.90335373 - samples/sec: 65.91\n",
      "2020-06-20 00:09:55,433 epoch 29 - iter 160/165 - loss 10.83220475 - samples/sec: 67.84\n",
      "2020-06-20 00:09:57,797 ----------------------------------------------------------------------------------------------------\n",
      "2020-06-20 00:09:57,801 EPOCH 29 done: loss 10.9336 - lr 0.0031250\n",
      "2020-06-20 00:11:01,968 DEV : loss 8.573299407958984 - score 0.7755\n",
      "Epoch    29: reducing learning rate of group 0 to 1.5625e-03.\n",
      "2020-06-20 00:11:21,002 BAD EPOCHS (no improvement): 2\n",
      "2020-06-20 00:11:21,008 ----------------------------------------------------------------------------------------------------\n",
      "2020-06-20 00:11:30,875 epoch 30 - iter 16/165 - loss 10.39852524 - samples/sec: 62.97\n",
      "2020-06-20 00:11:39,450 epoch 30 - iter 32/165 - loss 10.73942477 - samples/sec: 73.03\n",
      "2020-06-20 00:11:50,890 epoch 30 - iter 48/165 - loss 10.91308542 - samples/sec: 52.36\n",
      "2020-06-20 00:12:00,416 epoch 30 - iter 64/165 - loss 11.03117016 - samples/sec: 65.03\n",
      "2020-06-20 00:12:10,213 epoch 30 - iter 80/165 - loss 10.91359065 - samples/sec: 61.21\n",
      "2020-06-20 00:12:19,502 epoch 30 - iter 96/165 - loss 10.84508703 - samples/sec: 70.15\n",
      "2020-06-20 00:12:29,778 epoch 30 - iter 112/165 - loss 10.90053956 - samples/sec: 63.74\n",
      "2020-06-20 00:12:39,302 epoch 30 - iter 128/165 - loss 10.77731543 - samples/sec: 64.56\n",
      "2020-06-20 00:12:49,329 epoch 30 - iter 144/165 - loss 10.84663731 - samples/sec: 60.50\n",
      "2020-06-20 00:12:58,075 epoch 30 - iter 160/165 - loss 10.82499265 - samples/sec: 71.50\n",
      "2020-06-20 00:13:00,934 ----------------------------------------------------------------------------------------------------\n",
      "2020-06-20 00:13:00,935 EPOCH 30 done: loss 10.7535 - lr 0.0015625\n",
      "2020-06-20 00:14:04,923 DEV : loss 8.577670097351074 - score 0.7752\n",
      "2020-06-20 00:14:23,254 BAD EPOCHS (no improvement): 1\n",
      "2020-06-20 00:14:26,200 ----------------------------------------------------------------------------------------------------\n",
      "2020-06-20 00:14:26,205 Testing using best model ...\n",
      "2020-06-20 00:14:26,209 loading file /content/drive/My Drive/flair/model/best-model.pt\n",
      "2020-06-20 00:15:14,480 0.7792\t0.7794\t0.7793\n",
      "2020-06-20 00:15:14,483 \n",
      "MICRO_AVG: acc 0.7811 - f1-score 0.7793\n",
      "MACRO_AVG: acc 0.0931 - f1-score 0.0926\n",
      "1999       tp: 0 - fp: 0 - fn: 2 - tn: 0 - precision: 0.0000 - recall: 0.0000 - accuracy: 0.0000 - f1-score: 0.0000\n",
      "2.5        tp: 0 - fp: 0 - fn: 1 - tn: 0 - precision: 0.0000 - recall: 0.0000 - accuracy: 0.0000 - f1-score: 0.0000\n",
      "2001       tp: 0 - fp: 0 - fn: 2 - tn: 0 - precision: 0.0000 - recall: 0.0000 - accuracy: 0.0000 - f1-score: 0.0000\n",
      "2004       tp: 0 - fp: 0 - fn: 2 - tn: 0 - precision: 0.0000 - recall: 0.0000 - accuracy: 0.0000 - f1-score: 0.0000\n",
      "2007       tp: 0 - fp: 0 - fn: 2 - tn: 0 - precision: 0.0000 - recall: 0.0000 - accuracy: 0.0000 - f1-score: 0.0000\n",
      "2016       tp: 0 - fp: 0 - fn: 2 - tn: 0 - precision: 0.0000 - recall: 0.0000 - accuracy: 0.0000 - f1-score: 0.0000\n",
      "<unk>      tp: 0 - fp: 94 - fn: 0 - tn: 0 - precision: 0.0000 - recall: 0.0000 - accuracy: 0.0000 - f1-score: 0.0000\n",
      "Accountable tp: 0 - fp: 0 - fn: 2 - tn: 0 - precision: 0.0000 - recall: 0.0000 - accuracy: 0.0000 - f1-score: 0.0000\n",
      "Address    tp: 0 - fp: 3 - fn: 127 - tn: 0 - precision: 0.0000 - recall: 0.0000 - accuracy: 0.0000 - f1-score: 0.0000\n",
      "Addressing tp: 0 - fp: 0 - fn: 2 - tn: 0 - precision: 0.0000 - recall: 0.0000 - accuracy: 0.0000 - f1-score: 0.0000\n",
      "Administered tp: 0 - fp: 0 - fn: 2 - tn: 0 - precision: 0.0000 - recall: 0.0000 - accuracy: 0.0000 - f1-score: 0.0000\n",
      "Analyzing  tp: 0 - fp: 0 - fn: 2 - tn: 0 - precision: 0.0000 - recall: 0.0000 - accuracy: 0.0000 - f1-score: 0.0000\n",
      "Appointing tp: 0 - fp: 0 - fn: 2 - tn: 0 - precision: 0.0000 - recall: 0.0000 - accuracy: 0.0000 - f1-score: 0.0000\n",
      "Assist     tp: 0 - fp: 0 - fn: 2 - tn: 0 - precision: 0.0000 - recall: 0.0000 - accuracy: 0.0000 - f1-score: 0.0000\n",
      "Assisted   tp: 0 - fp: 0 - fn: 2 - tn: 0 - precision: 0.0000 - recall: 0.0000 - accuracy: 0.0000 - f1-score: 0.0000\n",
      "Bagged     tp: 0 - fp: 0 - fn: 2 - tn: 0 - precision: 0.0000 - recall: 0.0000 - accuracy: 0.0000 - f1-score: 0.0000\n",
      "Can        tp: 0 - fp: 0 - fn: 12 - tn: 0 - precision: 0.0000 - recall: 0.0000 - accuracy: 0.0000 - f1-score: 0.0000\n",
      "Certifications tp: 0 - fp: 0 - fn: 44 - tn: 0 - precision: 0.0000 - recall: 0.0000 - accuracy: 0.0000 - f1-score: 0.0000\n",
      "Co-ordinating tp: 0 - fp: 0 - fn: 2 - tn: 0 - precision: 0.0000 - recall: 0.0000 - accuracy: 0.0000 - f1-score: 0.0000\n",
      "College    tp: 4450 - fp: 902 - fn: 600 - tn: 4448 - precision: 0.8315 - recall: 0.8812 - accuracy: 0.8556 - f1-score: 0.8556\n",
      "Companies  tp: 9407 - fp: 1776 - fn: 1645 - tn: 9813 - precision: 0.8412 - recall: 0.8512 - accuracy: 0.8489 - f1-score: 0.8461\n",
      "Coordinating tp: 0 - fp: 0 - fn: 2 - tn: 0 - precision: 0.0000 - recall: 0.0000 - accuracy: 0.0000 - f1-score: 0.0000\n",
      "Degree     tp: 4495 - fp: 966 - fn: 447 - tn: 4413 - precision: 0.8231 - recall: 0.9096 - accuracy: 0.8631 - f1-score: 0.8642\n",
      "Designation tp: 8283 - fp: 1605 - fn: 1669 - tn: 8521 - precision: 0.8377 - recall: 0.8323 - accuracy: 0.8369 - f1-score: 0.8350\n",
      "Designed   tp: 0 - fp: 0 - fn: 8 - tn: 0 - precision: 0.0000 - recall: 0.0000 - accuracy: 0.0000 - f1-score: 0.0000\n",
      "Developed  tp: 0 - fp: 0 - fn: 4 - tn: 0 - precision: 0.0000 - recall: 0.0000 - accuracy: 0.0000 - f1-score: 0.0000\n",
      "Distinctively tp: 0 - fp: 0 - fn: 2 - tn: 0 - precision: 0.0000 - recall: 0.0000 - accuracy: 0.0000 - f1-score: 0.0000\n",
      "Email      tp: 1219 - fp: 233 - fn: 459 - tn: 1244 - precision: 0.8395 - recall: 0.7265 - accuracy: 0.7807 - f1-score: 0.7789\n",
      "Ensure     tp: 0 - fp: 0 - fn: 2 - tn: 0 - precision: 0.0000 - recall: 0.0000 - accuracy: 0.0000 - f1-score: 0.0000\n",
      "Ensuring   tp: 0 - fp: 0 - fn: 2 - tn: 0 - precision: 0.0000 - recall: 0.0000 - accuracy: 0.0000 - f1-score: 0.0000\n",
      "Executed   tp: 0 - fp: 0 - fn: 2 - tn: 0 - precision: 0.0000 - recall: 0.0000 - accuracy: 0.0000 - f1-score: 0.0000\n",
      "FY         tp: 0 - fp: 0 - fn: 1 - tn: 0 - precision: 0.0000 - recall: 0.0000 - accuracy: 0.0000 - f1-score: 0.0000\n",
      "Focusing   tp: 0 - fp: 0 - fn: 2 - tn: 0 - precision: 0.0000 - recall: 0.0000 - accuracy: 0.0000 - f1-score: 0.0000\n",
      "Formulation tp: 0 - fp: 0 - fn: 2 - tn: 0 - precision: 0.0000 - recall: 0.0000 - accuracy: 0.0000 - f1-score: 0.0000\n",
      "Got        tp: 0 - fp: 0 - fn: 2 - tn: 0 - precision: 0.0000 - recall: 0.0000 - accuracy: 0.0000 - f1-score: 0.0000\n",
      "Graduation tp: 300 - fp: 296 - fn: 495 - tn: 348 - precision: 0.5034 - recall: 0.3774 - accuracy: 0.4503 - f1-score: 0.4313\n",
      "Handling   tp: 0 - fp: 0 - fn: 2 - tn: 0 - precision: 0.0000 - recall: 0.0000 - accuracy: 0.0000 - f1-score: 0.0000\n",
      "Holds      tp: 0 - fp: 0 - fn: 4 - tn: 0 - precision: 0.0000 - recall: 0.0000 - accuracy: 0.0000 - f1-score: 0.0000\n",
      "Implementation tp: 0 - fp: 0 - fn: 2 - tn: 0 - precision: 0.0000 - recall: 0.0000 - accuracy: 0.0000 - f1-score: 0.0000\n",
      "Increased  tp: 0 - fp: 0 - fn: 2 - tn: 0 - precision: 0.0000 - recall: 0.0000 - accuracy: 0.0000 - f1-score: 0.0000\n",
      "Initiated  tp: 0 - fp: 0 - fn: 2 - tn: 0 - precision: 0.0000 - recall: 0.0000 - accuracy: 0.0000 - f1-score: 0.0000\n",
      "Labels     tp: 0 - fp: 0 - fn: 1 - tn: 0 - precision: 0.0000 - recall: 0.0000 - accuracy: 0.0000 - f1-score: 0.0000\n",
      "Led        tp: 0 - fp: 0 - fn: 2 - tn: 0 - precision: 0.0000 - recall: 0.0000 - accuracy: 0.0000 - f1-score: 0.0000\n",
      "Links      tp: 0 - fp: 0 - fn: 4 - tn: 0 - precision: 0.0000 - recall: 0.0000 - accuracy: 0.0000 - f1-score: 0.0000\n",
      "Location   tp: 2553 - fp: 255 - fn: 348 - tn: 2693 - precision: 0.9092 - recall: 0.8800 - accuracy: 0.8969 - f1-score: 0.8944\n",
      "Logistic   tp: 0 - fp: 0 - fn: 2 - tn: 0 - precision: 0.0000 - recall: 0.0000 - accuracy: 0.0000 - f1-score: 0.0000\n",
      "Maintained tp: 0 - fp: 0 - fn: 2 - tn: 0 - precision: 0.0000 - recall: 0.0000 - accuracy: 0.0000 - f1-score: 0.0000\n",
      "Maintaining tp: 0 - fp: 0 - fn: 2 - tn: 0 - precision: 0.0000 - recall: 0.0000 - accuracy: 0.0000 - f1-score: 0.0000\n",
      "Managed    tp: 0 - fp: 0 - fn: 2 - tn: 0 - precision: 0.0000 - recall: 0.0000 - accuracy: 0.0000 - f1-score: 0.0000\n",
      "Managing   tp: 0 - fp: 0 - fn: 2 - tn: 0 - precision: 0.0000 - recall: 0.0000 - accuracy: 0.0000 - f1-score: 0.0000\n",
      "Modern     tp: 0 - fp: 0 - fn: 2 - tn: 0 - precision: 0.0000 - recall: 0.0000 - accuracy: 0.0000 - f1-score: 0.0000\n",
      "Monitoring tp: 0 - fp: 0 - fn: 2 - tn: 0 - precision: 0.0000 - recall: 0.0000 - accuracy: 0.0000 - f1-score: 0.0000\n",
      "Monthly,   tp: 0 - fp: 0 - fn: 2 - tn: 0 - precision: 0.0000 - recall: 0.0000 - accuracy: 0.0000 - f1-score: 0.0000\n",
      "Name       tp: 1941 - fp: 232 - fn: 178 - tn: 1943 - precision: 0.8932 - recall: 0.9160 - accuracy: 0.9045 - f1-score: 0.9045\n",
      "Path       tp: 0 - fp: 0 - fn: 2 - tn: 0 - precision: 0.0000 - recall: 0.0000 - accuracy: 0.0000 - f1-score: 0.0000\n",
      "Preparing  tp: 0 - fp: 0 - fn: 4 - tn: 0 - precision: 0.0000 - recall: 0.0000 - accuracy: 0.0000 - f1-score: 0.0000\n",
      "Price      tp: 0 - fp: 0 - fn: 2 - tn: 0 - precision: 0.0000 - recall: 0.0000 - accuracy: 0.0000 - f1-score: 0.0000\n",
      "Processing tp: 0 - fp: 0 - fn: 2 - tn: 0 - precision: 0.0000 - recall: 0.0000 - accuracy: 0.0000 - f1-score: 0.0000\n",
      "Ranked     tp: 0 - fp: 0 - fn: 2 - tn: 0 - precision: 0.0000 - recall: 0.0000 - accuracy: 0.0000 - f1-score: 0.0000\n",
      "Recruitment tp: 0 - fp: 0 - fn: 2 - tn: 0 - precision: 0.0000 - recall: 0.0000 - accuracy: 0.0000 - f1-score: 0.0000\n",
      "Relocate   tp: 2 - fp: 2 - fn: 388 - tn: 2 - precision: 0.5000 - recall: 0.0051 - accuracy: 0.0102 - f1-score: 0.0102\n",
      "Responsible tp: 0 - fp: 0 - fn: 6 - tn: 0 - precision: 0.0000 - recall: 0.0000 - accuracy: 0.0000 - f1-score: 0.0000\n",
      "Rewards    tp: 0 - fp: 0 - fn: 464 - tn: 0 - precision: 0.0000 - recall: 0.0000 - accuracy: 0.0000 - f1-score: 0.0000\n",
      "Screening  tp: 0 - fp: 0 - fn: 2 - tn: 0 - precision: 0.0000 - recall: 0.0000 - accuracy: 0.0000 - f1-score: 0.0000\n",
      "Skills     tp: 18613 - fp: 7964 - fn: 3836 - tn: 18919 - precision: 0.7003 - recall: 0.8291 - accuracy: 0.7608 - f1-score: 0.7593\n",
      "Suggest    tp: 0 - fp: 0 - fn: 2 - tn: 0 - precision: 0.0000 - recall: 0.0000 - accuracy: 0.0000 - f1-score: 0.0000\n",
      "Trend      tp: 0 - fp: 0 - fn: 2 - tn: 0 - precision: 0.0000 - recall: 0.0000 - accuracy: 0.0000 - f1-score: 0.0000\n",
      "UNKNOWN    tp: 0 - fp: 0 - fn: 259 - tn: 0 - precision: 0.0000 - recall: 0.0000 - accuracy: 0.0000 - f1-score: 0.0000\n",
      "Worked     tp: 0 - fp: 0 - fn: 2 - tn: 0 - precision: 0.0000 - recall: 0.0000 - accuracy: 0.0000 - f1-score: 0.0000\n",
      "Years      tp: 273 - fp: 272 - fn: 3151 - tn: 311 - precision: 0.5009 - recall: 0.0797 - accuracy: 0.1457 - f1-score: 0.1376\n",
      "insurance  tp: 0 - fp: 0 - fn: 1 - tn: 0 - precision: 0.0000 - recall: 0.0000 - accuracy: 0.0000 - f1-score: 0.0000\n",
      "leads      tp: 0 - fp: 0 - fn: 1 - tn: 0 - precision: 0.0000 - recall: 0.0000 - accuracy: 0.0000 - f1-score: 0.0000\n",
      "links      tp: 0 - fp: 2 - fn: 180 - tn: 0 - precision: 0.0000 - recall: 0.0000 - accuracy: 0.0000 - f1-score: 0.0000\n",
      "market     tp: 0 - fp: 0 - fn: 2 - tn: 0 - precision: 0.0000 - recall: 0.0000 - accuracy: 0.0000 - f1-score: 0.0000\n",
      "projects   tp: 0 - fp: 0 - fn: 142 - tn: 0 - precision: 0.0000 - recall: 0.0000 - accuracy: 0.0000 - f1-score: 0.0000\n",
      "the        tp: 0 - fp: 0 - fn: 2 - tn: 0 - precision: 0.0000 - recall: 0.0000 - accuracy: 0.0000 - f1-score: 0.0000\n",
      "to         tp: 0 - fp: 0 - fn: 1 - tn: 0 - precision: 0.0000 - recall: 0.0000 - accuracy: 0.0000 - f1-score: 0.0000\n",
      "training   tp: 0 - fp: 0 - fn: 16 - tn: 0 - precision: 0.0000 - recall: 0.0000 - accuracy: 0.0000 - f1-score: 0.0000\n",
      "which      tp: 0 - fp: 0 - fn: 1 - tn: 0 - precision: 0.0000 - recall: 0.0000 - accuracy: 0.0000 - f1-score: 0.0000\n",
      "2020-06-20 00:15:14,484 ----------------------------------------------------------------------------------------------------\n"
     ]
    }
   ],
   "source": [
    "# 6. initialize trainer\n",
    "from flair.trainers import ModelTrainer\n",
    "\n",
    "trainer: ModelTrainer = ModelTrainer(tagger, corpus)\n",
    "\n",
    "# accuracy lr hidden_size embd\n",
    "# 0.21 1 256 (globe, bert)\n",
    "# \n",
    "\n",
    "# 7. start training\n",
    "history = trainer.train('/content/drive/My Drive/flair/model', # saved on drive\n",
    "              learning_rate=0.1,\n",
    "              mini_batch_size=32,\n",
    "              patience=1,\n",
    "              max_epochs=30)\n",
    "\n",
    "# check other parameters and use more epochs"
   ]
  },
  {
   "cell_type": "code",
   "execution_count": null,
   "metadata": {
    "colab": {
     "base_uri": "https://localhost:8080/",
     "height": 320
    },
    "colab_type": "code",
    "id": "1IEFFs6rjuPc",
    "outputId": "3a4dfb8e-88c7-49b0-bd7c-7eac7de4ad8a"
   },
   "outputs": [
    {
     "data": {
      "image/png": "[encoded data removed]",
      "text/plain": [
       "<Figure size 720x360 with 1 Axes>"
      ]
     },
     "metadata": {
      "needs_background": "light",
      "tags": []
     },
     "output_type": "display_data"
    }
   ],
   "source": [
    "from matplotlib import pyplot as plt\n",
    "\n",
    "plt.figure(figsize=(10,5))\n",
    "\n",
    "plt.plot(history['train_loss_history'], label=\"train_loss_history\")\n",
    "plt.plot(history['dev_loss_history'], label='dev_loss_history')\n",
    "plt.legend(loc=\"upper right\")\n",
    "plt.show()"
   ]
  },
  {
   "cell_type": "code",
   "execution_count": null,
   "metadata": {
    "colab": {
     "base_uri": "https://localhost:8080/",
     "height": 320
    },
    "colab_type": "code",
    "id": "aULPvwMtjzKZ",
    "outputId": "705676bd-68cc-4fc5-a1dc-d51eae400c59"
   },
   "outputs": [
    {
     "data": {
      "image/png": "[encoded data removed]",
      "text/plain": [
       "<Figure size 720x360 with 1 Axes>"
      ]
     },
     "metadata": {
      "needs_background": "light",
      "tags": []
     },
     "output_type": "display_data"
    }
   ],
   "source": [
    "plt.figure(figsize=(10,5))\n",
    "plt.plot(history['dev_score_history'])\n",
    "plt.show()"
   ]
  },
  {
   "cell_type": "markdown",
   "metadata": {
    "colab_type": "text",
    "id": "HfD00HwckRwC"
   },
   "source": [
    "# Test"
   ]
  },
  {
   "cell_type": "code",
   "execution_count": null,
   "metadata": {
    "colab": {},
    "colab_type": "code",
    "id": "NiVnBhQDkQZu"
   },
   "outputs": [],
   "source": [
    "st = \"\"\"\n",
    "Abhishek Jain  \n",
    "Phone: +91 8359838129  \n",
    "+91 7987116381  \n",
    "Data Scientist  \n",
    "E-Mail: abhishek33200jain@gmail.com  \n",
    "Career Objective:  Seeking a position in a fast-paced, \n",
    "growth-oriented organization that enables me to utilize my skills and  grow as a professional and provides me the opportunity to acquire new skills through which I can prove  myself to be an asset to the company.  \n",
    "Career Summary: Passionate, focused and confident professional with 2.5 Years of experience as Data Scientist.  Currently working as a Data Science Consultant with Tiarion Software since March 2018. Before the  current Role I have worked as Senior Analyst at Capgemini India Pvt Ldt.  \n",
    "\n",
    "Expertise in Python libraries NumPy, Pandas, Matplotlib, Seaborn, SciKit-Learn, TensorFlow, Keras,  NLTK  \n",
    "Perform exploratory data analysis to understand the problem on finance Data.  Used machine learning, data mining, predictive modelling & statistical techniques to create new  scalable models for business requirements.  \n",
    "Responsible for creating actuals vs. forecast report for finance product.  \n",
    "Research and implement data mining machine learning algorithms in supervised and unsupervised  learning areas along with that I have experience with CNN and ANN algorithms.  Understating of Hadoop ecosystem and exposure to work on Pyspark.  \n",
    "\n",
    "Technical Skills:  Languages  :Python, SQL  Machine Learning : Regression, SVM, KNN, Ensemble Learning, XGBoost, K-Means Cluster,  ANN, CNN, LSTM, Text mining, Word2Vec.  Tools  :Jupyter, Spyder, PGAdmin, Tableau, IBM Watson(chatbot),  MS Excel, Salesforce (Reporting)  \n",
    "\n",
    "Projects:  Client  Morgan Stanly Capital International ( MSCI)  Industry  Role  Finance  Analysis of data and build ML model  Predict the future cancellation for finance product and developed the model that  can predict cancellation either product will cancel or not and predict the amount of  cancellation.  \n",
    "Description  - Analyze the data set and other strategies that optimize statistical efficiency and  quality.  Responsibilities  - Identify, analyze, and interpret trends or patterns in complex data sets.  - Filter and “clean” data by reviewing visualization reports.  - Work with management to prioritize business and information needs.  \n",
    "\n",
    "- When the dataset was ready, divide the data into Train and Test dataset with the  ratio 70 and 30.  - Implement the algorithm on Train dataset to train the model and test it with Test  dataset.  -Find out the confusion matrix and performance by measuring Accuracy, recall and  Precision  Project Name  Industry  Auto Ticket Tagging System.\n",
    "  ITSM  Language  Python, NLTK , Word2vec  Description  In this project, goal was to create the model that can automatically assignment the  ticket to respective team as per the issue on email.  Responsibilities - Importing the data and aggregate subject and body of the email.  - Clean the text, remove the unwanted punctuation, stopwrods, extra spaces.  - Implement MultiLabelBinarizer to convert the tags to one hot encoder.\n",
    "    - Feature extraction using word2vec model.\n",
    "    - When the dataset was ready, divide the data into Train and Test dataset  - -  Implement the algorithm on Train dataset to train the model and test it with Test  dataset. Find out the performance by measuring Recall, Precision and F1 score.  Work Experience :  Capgemini – Senior Analyst  May 2017 – March 2019  Tiarion Software- Data Scientist  March 2019- Present  Professional Qualification:  ••••Data Science training from DataMites Bangalore  Certification from International Association of Business Analytics Certification (IABAC).  \n",
    "    Deep Learning training and Certification from Edureka.  Natural Language Processing (NLP) training and certification from Analytics Vidhya.  Academic Qualification:  Course  College/School  CGPA/%  7.6 CGPA  70%  Year of Passing  2016  B.E.(E.C)  Intermediate Saraswathi Higher secondary School Jabalpur  High School Deepak Memorial School Jabalpur  Gyan Ganga Collage of Technology Jabalpur  2012  2010  77%  Hobbies:  Excursion, Cricket, Music  Self-Declaration:  I hereby declare that the above-mentioned information is correct up to my knowledge and I bear the  responsibility for the correctness of the above-mentioned.  Abhishek Jain\n",
    "\"\"\""
   ]
  },
  {
   "cell_type": "code",
   "execution_count": null,
   "metadata": {
    "colab": {},
    "colab_type": "code",
    "id": "HFoSG4mNj4Uu"
   },
   "outputs": [],
   "source": [
    "from flair.data import Sentence\n",
    "\n",
    "sentence = Sentence(st)"
   ]
  },
  {
   "cell_type": "code",
   "execution_count": null,
   "metadata": {
    "colab": {
     "base_uri": "https://localhost:8080/",
     "height": 34
    },
    "colab_type": "code",
    "id": "UEGGIrYxj79N",
    "outputId": "9b232ed7-63dc-44f5-938b-451b1ba36714"
   },
   "outputs": [
    {
     "name": "stdout",
     "output_type": "stream",
     "text": [
      "2020-06-20 00:16:05,126 loading file /content/drive/My Drive/flair/model/best-model.pt\n"
     ]
    }
   ],
   "source": [
    "from flair.models import SequenceTagger\n",
    "model = SequenceTagger.load('/content/drive/My Drive/flair/model/best-model.pt')"
   ]
  },
  {
   "cell_type": "code",
   "execution_count": null,
   "metadata": {
    "colab": {
     "base_uri": "https://localhost:8080/",
     "height": 870
    },
    "colab_type": "code",
    "id": "vl0F9H30j9eD",
    "outputId": "e1b67153-5dcf-4c85-aafd-1e1208c3131b"
   },
   "outputs": [
    {
     "data": {
      "text/plain": [
       "[Sentence: \"\n",
       " Abhishek Jain \n",
       " Phone: +91 8359838129 \n",
       " +91 7987116381 \n",
       " Data Scientist \n",
       " E-Mail: abhishek33200jain@gmail.com \n",
       " Career Objective: Seeking a position in a fast-paced, \n",
       " growth-oriented organization that enables me to utilize my skills and grow as a professional and provides me the opportunity to acquire new skills through which I can prove myself to be an asset to the company. \n",
       " Career Summary: Passionate, focused and confident professional with 2.5 Years of experience as Data Scientist. Currently working as a Data Science Consultant with Tiarion Software since March 2018. Before the current Role I have worked as Senior Analyst at Capgemini India Pvt Ldt. \n",
       " \n",
       " Expertise in Python libraries NumPy, Pandas, Matplotlib, Seaborn, SciKit-Learn, TensorFlow, Keras, NLTK \n",
       " Perform exploratory data analysis to understand the problem on finance Data. Used machine learning, data mining, predictive modelling & statistical techniques to create new scalable models for business requirements. \n",
       " Responsible for creating actuals vs. forecast report for finance product. \n",
       " Research and implement data mining machine learning algorithms in supervised and unsupervised learning areas along with that I have experience with CNN and ANN algorithms. Understating of Hadoop ecosystem and exposure to work on Pyspark. \n",
       " \n",
       " Technical Skills: Languages :Python, SQL Machine Learning : Regression, SVM, KNN, Ensemble Learning, XGBoost, K-Means Cluster, ANN, CNN, LSTM, Text mining, Word2Vec. Tools :Jupyter, Spyder, PGAdmin, Tableau, IBM Watson(chatbot), MS Excel, Salesforce (Reporting) \n",
       " \n",
       " Projects: Client Morgan Stanly Capital International ( MSCI) Industry Role Finance Analysis of data and build ML model Predict the future cancellation for finance product and developed the model that can predict cancellation either product will cancel or not and predict the amount of cancellation. \n",
       " Description - Analyze the data set and other strategies that optimize statistical efficiency and quality. Responsibilities - Identify, analyze, and interpret trends or patterns in complex data sets. - Filter and “clean” data by reviewing visualization reports. - Work with management to prioritize business and information needs. \n",
       " \n",
       " - When the dataset was ready, divide the data into Train and Test dataset with the ratio 70 and 30. - Implement the algorithm on Train dataset to train the model and test it with Test dataset. -Find out the confusion matrix and performance by measuring Accuracy, recall and Precision Project Name Industry Auto Ticket Tagging System.\n",
       "  ITSM Language Python, NLTK , Word2vec Description In this project, goal was to create the model that can automatically assignment the ticket to respective team as per the issue on email. Responsibilities - Importing the data and aggregate subject and body of the email. - Clean the text, remove the unwanted punctuation, stopwrods, extra spaces. - Implement MultiLabelBinarizer to convert the tags to one hot encoder.\n",
       "  - Feature extraction using word2vec model.\n",
       "  - When the dataset was ready, divide the data into Train and Test dataset - - Implement the algorithm on Train dataset to train the model and test it with Test dataset. Find out the performance by measuring Recall, Precision and F1 score. Work Experience : Capgemini – Senior Analyst May 2017 – March 2019 Tiarion Software- Data Scientist March 2019- Present Professional Qualification: ••••Data Science training from DataMites Bangalore Certification from International Association of Business Analytics Certification (IABAC). Deep Learning training and Certification from Edureka. Natural Language Processing (NLP) training and certification from Analytics Vidhya. Academic Qualification: Course College/School CGPA/% 7.6 CGPA 70% Year of Passing 2016 B.E.(E.C) Intermediate Saraswathi Higher secondary School Jabalpur High School Deepak Memorial School Jabalpur Gyan Ganga Collage of Technology Jabalpur 2012 2010 77% Hobbies: Excursion, Cricket, Music Self-Declaration: I hereby declare that the above-mentioned information is correct up to my knowledge and I bear the responsibility for the correctness of the above-mentioned. Abhishek Jain\n",
       " \"   [− Tokens: 599  − Token-Labels: \"\n",
       " Abhishek Jain \n",
       " Phone: +91 8359838129 \n",
       " +91 7987116381 \n",
       " Data Scientist \n",
       " E-Mail: abhishek33200jain@gmail.com \n",
       " Career Objective: Seeking a position in a fast-paced, \n",
       " growth-oriented organization that enables me to utilize my skills and grow as a professional and provides me the opportunity to acquire new skills through which I can prove myself to be an asset to the company. \n",
       " Career Summary: Passionate, focused and confident professional with 2.5 Years of experience as Data Scientist. Currently working as a Data Science Consultant with Tiarion Software since March 2018. Before the current Role I have worked as Senior <Designation> Analyst <Designation> at Capgemini India Pvt Ldt. \n",
       " \n",
       " Expertise in Python libraries NumPy, Pandas, Matplotlib, Seaborn, SciKit-Learn, TensorFlow, Keras, NLTK \n",
       " Perform exploratory data analysis to understand the problem on finance Data. Used machine learning, data mining, predictive modelling & statistical techniques to create new scalable models for business requirements. \n",
       " Responsible for creating actuals vs. forecast report for finance product. \n",
       " Research and implement data mining machine learning algorithms in supervised and unsupervised learning areas along with that I have experience with CNN and ANN algorithms. Understating of Hadoop ecosystem and exposure to work on Pyspark. \n",
       " \n",
       " Technical Skills: Languages :Python, SQL Machine Learning : Regression, SVM, KNN, Ensemble Learning, XGBoost, K-Means Cluster, ANN, CNN, LSTM, Text mining, Word2Vec. Tools :Jupyter, Spyder, PGAdmin, Tableau, IBM Watson(chatbot), MS Excel, Salesforce (Reporting) \n",
       " \n",
       " Projects: Client Morgan Stanly Capital International ( MSCI) Industry Role Finance Analysis of data and build ML model Predict the future cancellation for finance product and developed the model that can predict cancellation either product will cancel or not and predict the amount of cancellation. \n",
       " Description - Analyze the data set and other strategies that optimize statistical efficiency and quality. Responsibilities - Identify, analyze, and interpret trends or patterns in complex data sets. - Filter and “clean” data by reviewing visualization reports. - Work with management to prioritize business and information needs. \n",
       " \n",
       " - When the dataset was ready, divide the data into Train and Test dataset with the ratio 70 and 30. - Implement the algorithm on Train dataset to train the model and test it with Test dataset. -Find out the confusion matrix and performance by measuring Accuracy, recall and Precision Project Name Industry Auto Ticket Tagging System.\n",
       "  ITSM Language Python, NLTK , Word2vec Description In this project, goal was to create the model that can automatically assignment the ticket to respective team as per the issue on email. Responsibilities - Importing the data and aggregate subject and body of the email. - Clean the text, remove the unwanted punctuation, stopwrods, extra spaces. - Implement MultiLabelBinarizer to convert the tags to one hot encoder.\n",
       "  - Feature extraction using word2vec model.\n",
       "  - When the dataset was ready, divide the data into Train and Test dataset - - Implement the algorithm on Train dataset to train the model and test it with Test dataset. Find out the performance by measuring Recall, Precision and F1 score. Work Experience : Capgemini – Senior Analyst May 2017 – March 2019 Tiarion Software- Data Scientist March 2019- Present Professional Qualification: ••••Data Science training from DataMites Bangalore Certification from International Association of Business Analytics Certification (IABAC). Deep Learning training and Certification from Edureka. Natural Language Processing (NLP) training and certification from Analytics Vidhya. Academic Qualification: Course College/School CGPA/% 7.6 CGPA 70% Year of Passing 2016 B.E.(E.C) Intermediate Saraswathi <College> Higher <College> secondary <College> School <College> Jabalpur <College> High <College> School <College> Deepak <College> Memorial <College> School <College> Jabalpur <College> Gyan <College> Ganga <College> Collage <College> of <College> Technology <College> Jabalpur <College> 2012 2010 77% Hobbies: Excursion, Cricket, Music Self-Declaration: I hereby declare that the above-mentioned information is correct up to my knowledge and I bear the responsibility for the correctness of the above-mentioned. Abhishek <Name> Jain\n",
       "  <Name>\"]]"
      ]
     },
     "execution_count": 62,
     "metadata": {
      "tags": []
     },
     "output_type": "execute_result"
    }
   ],
   "source": [
    "model.predict(sentence)"
   ]
  },
  {
   "cell_type": "code",
   "execution_count": null,
   "metadata": {
    "colab": {
     "base_uri": "https://localhost:8080/",
     "height": 391
    },
    "colab_type": "code",
    "id": "43AmtVJsj_OX",
    "outputId": "fc57fd5f-744a-474b-bdc1-58caa45f371b"
   },
   "outputs": [
    {
     "name": "stdout",
     "output_type": "stream",
     "text": [
      "Span [92]: \"Senior\"   [− Labels: Designation (0.6044)]\n",
      "Span [93]: \"Analyst\"   [− Labels: Designation (0.9685)]\n",
      "Span [549]: \"Saraswathi\"   [− Labels: College (0.4473)]\n",
      "Span [550]: \"Higher\"   [− Labels: College (0.7658)]\n",
      "Span [551]: \"secondary\"   [− Labels: College (0.8552)]\n",
      "Span [552]: \"School\"   [− Labels: College (0.9066)]\n",
      "Span [553]: \"Jabalpur\"   [− Labels: College (0.5264)]\n",
      "Span [554]: \"High\"   [− Labels: College (0.7023)]\n",
      "Span [555]: \"School\"   [− Labels: College (0.8792)]\n",
      "Span [556]: \"Deepak\"   [− Labels: College (0.4018)]\n",
      "Span [557]: \"Memorial\"   [− Labels: College (0.8893)]\n",
      "Span [558]: \"School\"   [− Labels: College (0.8646)]\n",
      "Span [559]: \"Jabalpur\"   [− Labels: College (0.6974)]\n",
      "Span [560]: \"Gyan\"   [− Labels: College (0.6024)]\n",
      "Span [561]: \"Ganga\"   [− Labels: College (0.7251)]\n",
      "Span [562]: \"Collage\"   [− Labels: College (0.7876)]\n",
      "Span [563]: \"of\"   [− Labels: College (0.9195)]\n",
      "Span [564]: \"Technology\"   [− Labels: College (0.8515)]\n",
      "Span [565]: \"Jabalpur\"   [− Labels: College (0.9846)]\n",
      "Span [598]: \"Abhishek\"   [− Labels: Name (0.9406)]\n",
      "Span [599]: \"Jain\n",
      "\"   [− Labels: Name (0.6939)]\n"
     ]
    }
   ],
   "source": [
    "for entity in sentence.get_spans('ner'):\n",
    "    print(entity)"
   ]
  },
  {
   "cell_type": "code",
   "execution_count": null,
   "metadata": {
    "colab": {},
    "colab_type": "code",
    "id": "q9CMuWjcABOJ"
   },
   "outputs": [],
   "source": []
  }
 ],
 "metadata": {
  "accelerator": "GPU",
  "colab": {
   "collapsed_sections": [
    "dWPxipGQXFAU"
   ],
   "name": "Flair_with_5M_token.ipynb",
   "provenance": [],
   "toc_visible": true
  },
  "kernelspec": {
   "display_name": "Python 3",
   "language": "python",
   "name": "python3"
  },
  "language_info": {
   "codemirror_mode": {
    "name": "ipython",
    "version": 3
   },
   "file_extension": ".py",
   "mimetype": "text/x-python",
   "name": "python",
   "nbconvert_exporter": "python",
   "pygments_lexer": "ipython3",
   "version": "3.7.3"
  },
  "widgets": {
   "application/vnd.jupyter.widget-state+json": {
    "01dadcc1074541f09a23c5049df55a41": {
     "model_module": "@jupyter-widgets/controls",
     "model_name": "FloatProgressModel",
     "state": {
      "_dom_classes": [],
      "_model_module": "@jupyter-widgets/controls",
      "_model_module_version": "1.5.0",
      "_model_name": "FloatProgressModel",
      "_view_count": null,
      "_view_module": "@jupyter-widgets/controls",
      "_view_module_version": "1.5.0",
      "_view_name": "ProgressView",
      "bar_style": "danger",
      "description": " 75%",
      "description_tooltip": null,
      "layout": "IPY_MODEL_eeb3583bf09843e68174c3993494c626",
      "max": 532985,
      "min": 0,
      "orientation": "horizontal",
      "style": "IPY_MODEL_264f53f524e64beaa98743a869ef5f08",
      "value": 401243
     }
    },
    "14a872a5204244ea94584f6ffb4fb445": {
     "model_module": "@jupyter-widgets/controls",
     "model_name": "DescriptionStyleModel",
     "state": {
      "_model_module": "@jupyter-widgets/controls",
      "_model_module_version": "1.5.0",
      "_model_name": "DescriptionStyleModel",
      "_view_count": null,
      "_view_module": "@jupyter-widgets/base",
      "_view_module_version": "1.2.0",
      "_view_name": "StyleView",
      "description_width": ""
     }
    },
    "1fa05fb1555640ddba04a716fb52156c": {
     "model_module": "@jupyter-widgets/controls",
     "model_name": "ProgressStyleModel",
     "state": {
      "_model_module": "@jupyter-widgets/controls",
      "_model_module_version": "1.5.0",
      "_model_name": "ProgressStyleModel",
      "_view_count": null,
      "_view_module": "@jupyter-widgets/base",
      "_view_module_version": "1.2.0",
      "_view_name": "StyleView",
      "bar_color": null,
      "description_width": "initial"
     }
    },
    "24db4c170be54426834e5a7a46157305": {
     "model_module": "@jupyter-widgets/controls",
     "model_name": "HTMLModel",
     "state": {
      "_dom_classes": [],
      "_model_module": "@jupyter-widgets/controls",
      "_model_module_version": "1.5.0",
      "_model_name": "HTMLModel",
      "_view_count": null,
      "_view_module": "@jupyter-widgets/controls",
      "_view_module_version": "1.5.0",
      "_view_name": "HTMLView",
      "description": "",
      "description_tooltip": null,
      "layout": "IPY_MODEL_49f0df09abf44cc196d3c76e6f0c24c3",
      "placeholder": "​",
      "style": "IPY_MODEL_14a872a5204244ea94584f6ffb4fb445",
      "value": " 5329922/? [03:07&lt;00:00, 28437.90it/s]"
     }
    },
    "25fd880f312b43ed881a6caaeb28f4ae": {
     "model_module": "@jupyter-widgets/controls",
     "model_name": "HTMLModel",
     "state": {
      "_dom_classes": [],
      "_model_module": "@jupyter-widgets/controls",
      "_model_module_version": "1.5.0",
      "_model_name": "HTMLModel",
      "_view_count": null,
      "_view_module": "@jupyter-widgets/controls",
      "_view_module_version": "1.5.0",
      "_view_name": "HTMLView",
      "description": "",
      "description_tooltip": null,
      "layout": "IPY_MODEL_91a36bf24c1249cd85119ce82ab929a5",
      "placeholder": "​",
      "style": "IPY_MODEL_e739778089cb4867a7a801b9ba3a0a25",
      "value": " 532985/532985 [03:29&lt;00:00, 2542.89it/s]"
     }
    },
    "264f53f524e64beaa98743a869ef5f08": {
     "model_module": "@jupyter-widgets/controls",
     "model_name": "ProgressStyleModel",
     "state": {
      "_model_module": "@jupyter-widgets/controls",
      "_model_module_version": "1.5.0",
      "_model_name": "ProgressStyleModel",
      "_view_count": null,
      "_view_module": "@jupyter-widgets/base",
      "_view_module_version": "1.2.0",
      "_view_name": "StyleView",
      "bar_color": null,
      "description_width": "initial"
     }
    },
    "2db6ff7b052d4a0aa8cc65968995acc8": {
     "model_module": "@jupyter-widgets/controls",
     "model_name": "HTMLModel",
     "state": {
      "_dom_classes": [],
      "_model_module": "@jupyter-widgets/controls",
      "_model_module_version": "1.5.0",
      "_model_name": "HTMLModel",
      "_view_count": null,
      "_view_module": "@jupyter-widgets/controls",
      "_view_module_version": "1.5.0",
      "_view_name": "HTMLView",
      "description": "",
      "description_tooltip": null,
      "layout": "IPY_MODEL_a9959070beda418eba3e3e96c21a378f",
      "placeholder": "​",
      "style": "IPY_MODEL_ccdd20d54daa4f519073e3b36c9cdfc9",
      "value": " 401243/532985 [01:54&lt;00:37, 3514.40it/s]"
     }
    },
    "2e20c91aeb77405c917c976472d39433": {
     "model_module": "@jupyter-widgets/controls",
     "model_name": "FloatProgressModel",
     "state": {
      "_dom_classes": [],
      "_model_module": "@jupyter-widgets/controls",
      "_model_module_version": "1.5.0",
      "_model_name": "FloatProgressModel",
      "_view_count": null,
      "_view_module": "@jupyter-widgets/controls",
      "_view_module_version": "1.5.0",
      "_view_name": "ProgressView",
      "bar_style": "success",
      "description": "",
      "description_tooltip": null,
      "layout": "IPY_MODEL_bc4ed92277a64343aa42ea0a9f1ef749",
      "max": 1,
      "min": 0,
      "orientation": "horizontal",
      "style": "IPY_MODEL_1fa05fb1555640ddba04a716fb52156c",
      "value": 1
     }
    },
    "38c3c797ad46448ebb61db515e8ba7eb": {
     "model_module": "@jupyter-widgets/controls",
     "model_name": "FloatProgressModel",
     "state": {
      "_dom_classes": [],
      "_model_module": "@jupyter-widgets/controls",
      "_model_module_version": "1.5.0",
      "_model_name": "FloatProgressModel",
      "_view_count": null,
      "_view_module": "@jupyter-widgets/controls",
      "_view_module_version": "1.5.0",
      "_view_name": "ProgressView",
      "bar_style": "success",
      "description": "100%",
      "description_tooltip": null,
      "layout": "IPY_MODEL_6d43b49819c44d6e9d498bc30e8c03a3",
      "max": 532985,
      "min": 0,
      "orientation": "horizontal",
      "style": "IPY_MODEL_b79e8723af40406d9fa00c57b4aae7bf",
      "value": 532985
     }
    },
    "39528432694e42d68292583042d321c6": {
     "model_module": "@jupyter-widgets/controls",
     "model_name": "HBoxModel",
     "state": {
      "_dom_classes": [],
      "_model_module": "@jupyter-widgets/controls",
      "_model_module_version": "1.5.0",
      "_model_name": "HBoxModel",
      "_view_count": null,
      "_view_module": "@jupyter-widgets/controls",
      "_view_module_version": "1.5.0",
      "_view_name": "HBoxView",
      "box_style": "",
      "children": [
       "IPY_MODEL_01dadcc1074541f09a23c5049df55a41",
       "IPY_MODEL_2db6ff7b052d4a0aa8cc65968995acc8"
      ],
      "layout": "IPY_MODEL_dbf20dce7b3b4f2599fd459cce883a1f"
     }
    },
    "3c8ed2207105491fb7a9d9f7315ef2a4": {
     "model_module": "@jupyter-widgets/controls",
     "model_name": "DescriptionStyleModel",
     "state": {
      "_model_module": "@jupyter-widgets/controls",
      "_model_module_version": "1.5.0",
      "_model_name": "DescriptionStyleModel",
      "_view_count": null,
      "_view_module": "@jupyter-widgets/base",
      "_view_module_version": "1.2.0",
      "_view_name": "StyleView",
      "description_width": ""
     }
    },
    "491a1f24b3f84825b93fa83fbfdd63f8": {
     "model_module": "@jupyter-widgets/controls",
     "model_name": "HTMLModel",
     "state": {
      "_dom_classes": [],
      "_model_module": "@jupyter-widgets/controls",
      "_model_module_version": "1.5.0",
      "_model_name": "HTMLModel",
      "_view_count": null,
      "_view_module": "@jupyter-widgets/controls",
      "_view_module_version": "1.5.0",
      "_view_name": "HTMLView",
      "description": "",
      "description_tooltip": null,
      "layout": "IPY_MODEL_9007c321245b4345aa6d183b6376380c",
      "placeholder": "​",
      "style": "IPY_MODEL_3c8ed2207105491fb7a9d9f7315ef2a4",
      "value": " 532985/532985 [02:33&lt;00:00, 3467.48it/s]"
     }
    },
    "49f0df09abf44cc196d3c76e6f0c24c3": {
     "model_module": "@jupyter-widgets/base",
     "model_name": "LayoutModel",
     "state": {
      "_model_module": "@jupyter-widgets/base",
      "_model_module_version": "1.2.0",
      "_model_name": "LayoutModel",
      "_view_count": null,
      "_view_module": "@jupyter-widgets/base",
      "_view_module_version": "1.2.0",
      "_view_name": "LayoutView",
      "align_content": null,
      "align_items": null,
      "align_self": null,
      "border": null,
      "bottom": null,
      "display": null,
      "flex": null,
      "flex_flow": null,
      "grid_area": null,
      "grid_auto_columns": null,
      "grid_auto_flow": null,
      "grid_auto_rows": null,
      "grid_column": null,
      "grid_gap": null,
      "grid_row": null,
      "grid_template_areas": null,
      "grid_template_columns": null,
      "grid_template_rows": null,
      "height": null,
      "justify_content": null,
      "justify_items": null,
      "left": null,
      "margin": null,
      "max_height": null,
      "max_width": null,
      "min_height": null,
      "min_width": null,
      "object_fit": null,
      "object_position": null,
      "order": null,
      "overflow": null,
      "overflow_x": null,
      "overflow_y": null,
      "padding": null,
      "right": null,
      "top": null,
      "visibility": null,
      "width": null
     }
    },
    "6d00ff4252734442bdc22d2400abc9eb": {
     "model_module": "@jupyter-widgets/base",
     "model_name": "LayoutModel",
     "state": {
      "_model_module": "@jupyter-widgets/base",
      "_model_module_version": "1.2.0",
      "_model_name": "LayoutModel",
      "_view_count": null,
      "_view_module": "@jupyter-widgets/base",
      "_view_module_version": "1.2.0",
      "_view_name": "LayoutView",
      "align_content": null,
      "align_items": null,
      "align_self": null,
      "border": null,
      "bottom": null,
      "display": null,
      "flex": null,
      "flex_flow": null,
      "grid_area": null,
      "grid_auto_columns": null,
      "grid_auto_flow": null,
      "grid_auto_rows": null,
      "grid_column": null,
      "grid_gap": null,
      "grid_row": null,
      "grid_template_areas": null,
      "grid_template_columns": null,
      "grid_template_rows": null,
      "height": null,
      "justify_content": null,
      "justify_items": null,
      "left": null,
      "margin": null,
      "max_height": null,
      "max_width": null,
      "min_height": null,
      "min_width": null,
      "object_fit": null,
      "object_position": null,
      "order": null,
      "overflow": null,
      "overflow_x": null,
      "overflow_y": null,
      "padding": null,
      "right": null,
      "top": null,
      "visibility": null,
      "width": null
     }
    },
    "6d43b49819c44d6e9d498bc30e8c03a3": {
     "model_module": "@jupyter-widgets/base",
     "model_name": "LayoutModel",
     "state": {
      "_model_module": "@jupyter-widgets/base",
      "_model_module_version": "1.2.0",
      "_model_name": "LayoutModel",
      "_view_count": null,
      "_view_module": "@jupyter-widgets/base",
      "_view_module_version": "1.2.0",
      "_view_name": "LayoutView",
      "align_content": null,
      "align_items": null,
      "align_self": null,
      "border": null,
      "bottom": null,
      "display": null,
      "flex": null,
      "flex_flow": null,
      "grid_area": null,
      "grid_auto_columns": null,
      "grid_auto_flow": null,
      "grid_auto_rows": null,
      "grid_column": null,
      "grid_gap": null,
      "grid_row": null,
      "grid_template_areas": null,
      "grid_template_columns": null,
      "grid_template_rows": null,
      "height": null,
      "justify_content": null,
      "justify_items": null,
      "left": null,
      "margin": null,
      "max_height": null,
      "max_width": null,
      "min_height": null,
      "min_width": null,
      "object_fit": null,
      "object_position": null,
      "order": null,
      "overflow": null,
      "overflow_x": null,
      "overflow_y": null,
      "padding": null,
      "right": null,
      "top": null,
      "visibility": null,
      "width": null
     }
    },
    "75d5ddf216b249078ef866d4dc3972c5": {
     "model_module": "@jupyter-widgets/base",
     "model_name": "LayoutModel",
     "state": {
      "_model_module": "@jupyter-widgets/base",
      "_model_module_version": "1.2.0",
      "_model_name": "LayoutModel",
      "_view_count": null,
      "_view_module": "@jupyter-widgets/base",
      "_view_module_version": "1.2.0",
      "_view_name": "LayoutView",
      "align_content": null,
      "align_items": null,
      "align_self": null,
      "border": null,
      "bottom": null,
      "display": null,
      "flex": null,
      "flex_flow": null,
      "grid_area": null,
      "grid_auto_columns": null,
      "grid_auto_flow": null,
      "grid_auto_rows": null,
      "grid_column": null,
      "grid_gap": null,
      "grid_row": null,
      "grid_template_areas": null,
      "grid_template_columns": null,
      "grid_template_rows": null,
      "height": null,
      "justify_content": null,
      "justify_items": null,
      "left": null,
      "margin": null,
      "max_height": null,
      "max_width": null,
      "min_height": null,
      "min_width": null,
      "object_fit": null,
      "object_position": null,
      "order": null,
      "overflow": null,
      "overflow_x": null,
      "overflow_y": null,
      "padding": null,
      "right": null,
      "top": null,
      "visibility": null,
      "width": null
     }
    },
    "80048359b656412ea37482543198442d": {
     "model_module": "@jupyter-widgets/controls",
     "model_name": "HBoxModel",
     "state": {
      "_dom_classes": [],
      "_model_module": "@jupyter-widgets/controls",
      "_model_module_version": "1.5.0",
      "_model_name": "HBoxModel",
      "_view_count": null,
      "_view_module": "@jupyter-widgets/controls",
      "_view_module_version": "1.5.0",
      "_view_name": "HBoxView",
      "box_style": "",
      "children": [
       "IPY_MODEL_ae7bc537355c4775a31c4a9c0c931742",
       "IPY_MODEL_491a1f24b3f84825b93fa83fbfdd63f8"
      ],
      "layout": "IPY_MODEL_84a488af823747bca7c22be375ee8f58"
     }
    },
    "84a488af823747bca7c22be375ee8f58": {
     "model_module": "@jupyter-widgets/base",
     "model_name": "LayoutModel",
     "state": {
      "_model_module": "@jupyter-widgets/base",
      "_model_module_version": "1.2.0",
      "_model_name": "LayoutModel",
      "_view_count": null,
      "_view_module": "@jupyter-widgets/base",
      "_view_module_version": "1.2.0",
      "_view_name": "LayoutView",
      "align_content": null,
      "align_items": null,
      "align_self": null,
      "border": null,
      "bottom": null,
      "display": null,
      "flex": null,
      "flex_flow": null,
      "grid_area": null,
      "grid_auto_columns": null,
      "grid_auto_flow": null,
      "grid_auto_rows": null,
      "grid_column": null,
      "grid_gap": null,
      "grid_row": null,
      "grid_template_areas": null,
      "grid_template_columns": null,
      "grid_template_rows": null,
      "height": null,
      "justify_content": null,
      "justify_items": null,
      "left": null,
      "margin": null,
      "max_height": null,
      "max_width": null,
      "min_height": null,
      "min_width": null,
      "object_fit": null,
      "object_position": null,
      "order": null,
      "overflow": null,
      "overflow_x": null,
      "overflow_y": null,
      "padding": null,
      "right": null,
      "top": null,
      "visibility": null,
      "width": null
     }
    },
    "88dc77c6bf474c09af3ac4663282b2a6": {
     "model_module": "@jupyter-widgets/base",
     "model_name": "LayoutModel",
     "state": {
      "_model_module": "@jupyter-widgets/base",
      "_model_module_version": "1.2.0",
      "_model_name": "LayoutModel",
      "_view_count": null,
      "_view_module": "@jupyter-widgets/base",
      "_view_module_version": "1.2.0",
      "_view_name": "LayoutView",
      "align_content": null,
      "align_items": null,
      "align_self": null,
      "border": null,
      "bottom": null,
      "display": null,
      "flex": null,
      "flex_flow": null,
      "grid_area": null,
      "grid_auto_columns": null,
      "grid_auto_flow": null,
      "grid_auto_rows": null,
      "grid_column": null,
      "grid_gap": null,
      "grid_row": null,
      "grid_template_areas": null,
      "grid_template_columns": null,
      "grid_template_rows": null,
      "height": null,
      "justify_content": null,
      "justify_items": null,
      "left": null,
      "margin": null,
      "max_height": null,
      "max_width": null,
      "min_height": null,
      "min_width": null,
      "object_fit": null,
      "object_position": null,
      "order": null,
      "overflow": null,
      "overflow_x": null,
      "overflow_y": null,
      "padding": null,
      "right": null,
      "top": null,
      "visibility": null,
      "width": null
     }
    },
    "9007c321245b4345aa6d183b6376380c": {
     "model_module": "@jupyter-widgets/base",
     "model_name": "LayoutModel",
     "state": {
      "_model_module": "@jupyter-widgets/base",
      "_model_module_version": "1.2.0",
      "_model_name": "LayoutModel",
      "_view_count": null,
      "_view_module": "@jupyter-widgets/base",
      "_view_module_version": "1.2.0",
      "_view_name": "LayoutView",
      "align_content": null,
      "align_items": null,
      "align_self": null,
      "border": null,
      "bottom": null,
      "display": null,
      "flex": null,
      "flex_flow": null,
      "grid_area": null,
      "grid_auto_columns": null,
      "grid_auto_flow": null,
      "grid_auto_rows": null,
      "grid_column": null,
      "grid_gap": null,
      "grid_row": null,
      "grid_template_areas": null,
      "grid_template_columns": null,
      "grid_template_rows": null,
      "height": null,
      "justify_content": null,
      "justify_items": null,
      "left": null,
      "margin": null,
      "max_height": null,
      "max_width": null,
      "min_height": null,
      "min_width": null,
      "object_fit": null,
      "object_position": null,
      "order": null,
      "overflow": null,
      "overflow_x": null,
      "overflow_y": null,
      "padding": null,
      "right": null,
      "top": null,
      "visibility": null,
      "width": null
     }
    },
    "91a36bf24c1249cd85119ce82ab929a5": {
     "model_module": "@jupyter-widgets/base",
     "model_name": "LayoutModel",
     "state": {
      "_model_module": "@jupyter-widgets/base",
      "_model_module_version": "1.2.0",
      "_model_name": "LayoutModel",
      "_view_count": null,
      "_view_module": "@jupyter-widgets/base",
      "_view_module_version": "1.2.0",
      "_view_name": "LayoutView",
      "align_content": null,
      "align_items": null,
      "align_self": null,
      "border": null,
      "bottom": null,
      "display": null,
      "flex": null,
      "flex_flow": null,
      "grid_area": null,
      "grid_auto_columns": null,
      "grid_auto_flow": null,
      "grid_auto_rows": null,
      "grid_column": null,
      "grid_gap": null,
      "grid_row": null,
      "grid_template_areas": null,
      "grid_template_columns": null,
      "grid_template_rows": null,
      "height": null,
      "justify_content": null,
      "justify_items": null,
      "left": null,
      "margin": null,
      "max_height": null,
      "max_width": null,
      "min_height": null,
      "min_width": null,
      "object_fit": null,
      "object_position": null,
      "order": null,
      "overflow": null,
      "overflow_x": null,
      "overflow_y": null,
      "padding": null,
      "right": null,
      "top": null,
      "visibility": null,
      "width": null
     }
    },
    "a7f0da9add42464a9eabd1b29766ccf9": {
     "model_module": "@jupyter-widgets/controls",
     "model_name": "HBoxModel",
     "state": {
      "_dom_classes": [],
      "_model_module": "@jupyter-widgets/controls",
      "_model_module_version": "1.5.0",
      "_model_name": "HBoxModel",
      "_view_count": null,
      "_view_module": "@jupyter-widgets/controls",
      "_view_module_version": "1.5.0",
      "_view_name": "HBoxView",
      "box_style": "",
      "children": [
       "IPY_MODEL_38c3c797ad46448ebb61db515e8ba7eb",
       "IPY_MODEL_25fd880f312b43ed881a6caaeb28f4ae"
      ],
      "layout": "IPY_MODEL_6d00ff4252734442bdc22d2400abc9eb"
     }
    },
    "a9959070beda418eba3e3e96c21a378f": {
     "model_module": "@jupyter-widgets/base",
     "model_name": "LayoutModel",
     "state": {
      "_model_module": "@jupyter-widgets/base",
      "_model_module_version": "1.2.0",
      "_model_name": "LayoutModel",
      "_view_count": null,
      "_view_module": "@jupyter-widgets/base",
      "_view_module_version": "1.2.0",
      "_view_name": "LayoutView",
      "align_content": null,
      "align_items": null,
      "align_self": null,
      "border": null,
      "bottom": null,
      "display": null,
      "flex": null,
      "flex_flow": null,
      "grid_area": null,
      "grid_auto_columns": null,
      "grid_auto_flow": null,
      "grid_auto_rows": null,
      "grid_column": null,
      "grid_gap": null,
      "grid_row": null,
      "grid_template_areas": null,
      "grid_template_columns": null,
      "grid_template_rows": null,
      "height": null,
      "justify_content": null,
      "justify_items": null,
      "left": null,
      "margin": null,
      "max_height": null,
      "max_width": null,
      "min_height": null,
      "min_width": null,
      "object_fit": null,
      "object_position": null,
      "order": null,
      "overflow": null,
      "overflow_x": null,
      "overflow_y": null,
      "padding": null,
      "right": null,
      "top": null,
      "visibility": null,
      "width": null
     }
    },
    "ae7bc537355c4775a31c4a9c0c931742": {
     "model_module": "@jupyter-widgets/controls",
     "model_name": "FloatProgressModel",
     "state": {
      "_dom_classes": [],
      "_model_module": "@jupyter-widgets/controls",
      "_model_module_version": "1.5.0",
      "_model_name": "FloatProgressModel",
      "_view_count": null,
      "_view_module": "@jupyter-widgets/controls",
      "_view_module_version": "1.5.0",
      "_view_name": "ProgressView",
      "bar_style": "success",
      "description": "100%",
      "description_tooltip": null,
      "layout": "IPY_MODEL_88dc77c6bf474c09af3ac4663282b2a6",
      "max": 532985,
      "min": 0,
      "orientation": "horizontal",
      "style": "IPY_MODEL_e33bde8d73b244f7876e0b5edee22a86",
      "value": 532985
     }
    },
    "b79e8723af40406d9fa00c57b4aae7bf": {
     "model_module": "@jupyter-widgets/controls",
     "model_name": "ProgressStyleModel",
     "state": {
      "_model_module": "@jupyter-widgets/controls",
      "_model_module_version": "1.5.0",
      "_model_name": "ProgressStyleModel",
      "_view_count": null,
      "_view_module": "@jupyter-widgets/base",
      "_view_module_version": "1.2.0",
      "_view_name": "StyleView",
      "bar_color": null,
      "description_width": "initial"
     }
    },
    "bc4ed92277a64343aa42ea0a9f1ef749": {
     "model_module": "@jupyter-widgets/base",
     "model_name": "LayoutModel",
     "state": {
      "_model_module": "@jupyter-widgets/base",
      "_model_module_version": "1.2.0",
      "_model_name": "LayoutModel",
      "_view_count": null,
      "_view_module": "@jupyter-widgets/base",
      "_view_module_version": "1.2.0",
      "_view_name": "LayoutView",
      "align_content": null,
      "align_items": null,
      "align_self": null,
      "border": null,
      "bottom": null,
      "display": null,
      "flex": null,
      "flex_flow": null,
      "grid_area": null,
      "grid_auto_columns": null,
      "grid_auto_flow": null,
      "grid_auto_rows": null,
      "grid_column": null,
      "grid_gap": null,
      "grid_row": null,
      "grid_template_areas": null,
      "grid_template_columns": null,
      "grid_template_rows": null,
      "height": null,
      "justify_content": null,
      "justify_items": null,
      "left": null,
      "margin": null,
      "max_height": null,
      "max_width": null,
      "min_height": null,
      "min_width": null,
      "object_fit": null,
      "object_position": null,
      "order": null,
      "overflow": null,
      "overflow_x": null,
      "overflow_y": null,
      "padding": null,
      "right": null,
      "top": null,
      "visibility": null,
      "width": null
     }
    },
    "c4615bd468924704ba62b77551fba9a8": {
     "model_module": "@jupyter-widgets/controls",
     "model_name": "HBoxModel",
     "state": {
      "_dom_classes": [],
      "_model_module": "@jupyter-widgets/controls",
      "_model_module_version": "1.5.0",
      "_model_name": "HBoxModel",
      "_view_count": null,
      "_view_module": "@jupyter-widgets/controls",
      "_view_module_version": "1.5.0",
      "_view_name": "HBoxView",
      "box_style": "",
      "children": [
       "IPY_MODEL_2e20c91aeb77405c917c976472d39433",
       "IPY_MODEL_24db4c170be54426834e5a7a46157305"
      ],
      "layout": "IPY_MODEL_75d5ddf216b249078ef866d4dc3972c5"
     }
    },
    "ccdd20d54daa4f519073e3b36c9cdfc9": {
     "model_module": "@jupyter-widgets/controls",
     "model_name": "DescriptionStyleModel",
     "state": {
      "_model_module": "@jupyter-widgets/controls",
      "_model_module_version": "1.5.0",
      "_model_name": "DescriptionStyleModel",
      "_view_count": null,
      "_view_module": "@jupyter-widgets/base",
      "_view_module_version": "1.2.0",
      "_view_name": "StyleView",
      "description_width": ""
     }
    },
    "dbf20dce7b3b4f2599fd459cce883a1f": {
     "model_module": "@jupyter-widgets/base",
     "model_name": "LayoutModel",
     "state": {
      "_model_module": "@jupyter-widgets/base",
      "_model_module_version": "1.2.0",
      "_model_name": "LayoutModel",
      "_view_count": null,
      "_view_module": "@jupyter-widgets/base",
      "_view_module_version": "1.2.0",
      "_view_name": "LayoutView",
      "align_content": null,
      "align_items": null,
      "align_self": null,
      "border": null,
      "bottom": null,
      "display": null,
      "flex": null,
      "flex_flow": null,
      "grid_area": null,
      "grid_auto_columns": null,
      "grid_auto_flow": null,
      "grid_auto_rows": null,
      "grid_column": null,
      "grid_gap": null,
      "grid_row": null,
      "grid_template_areas": null,
      "grid_template_columns": null,
      "grid_template_rows": null,
      "height": null,
      "justify_content": null,
      "justify_items": null,
      "left": null,
      "margin": null,
      "max_height": null,
      "max_width": null,
      "min_height": null,
      "min_width": null,
      "object_fit": null,
      "object_position": null,
      "order": null,
      "overflow": null,
      "overflow_x": null,
      "overflow_y": null,
      "padding": null,
      "right": null,
      "top": null,
      "visibility": null,
      "width": null
     }
    },
    "e33bde8d73b244f7876e0b5edee22a86": {
     "model_module": "@jupyter-widgets/controls",
     "model_name": "ProgressStyleModel",
     "state": {
      "_model_module": "@jupyter-widgets/controls",
      "_model_module_version": "1.5.0",
      "_model_name": "ProgressStyleModel",
      "_view_count": null,
      "_view_module": "@jupyter-widgets/base",
      "_view_module_version": "1.2.0",
      "_view_name": "StyleView",
      "bar_color": null,
      "description_width": "initial"
     }
    },
    "e739778089cb4867a7a801b9ba3a0a25": {
     "model_module": "@jupyter-widgets/controls",
     "model_name": "DescriptionStyleModel",
     "state": {
      "_model_module": "@jupyter-widgets/controls",
      "_model_module_version": "1.5.0",
      "_model_name": "DescriptionStyleModel",
      "_view_count": null,
      "_view_module": "@jupyter-widgets/base",
      "_view_module_version": "1.2.0",
      "_view_name": "StyleView",
      "description_width": ""
     }
    },
    "eeb3583bf09843e68174c3993494c626": {
     "model_module": "@jupyter-widgets/base",
     "model_name": "LayoutModel",
     "state": {
      "_model_module": "@jupyter-widgets/base",
      "_model_module_version": "1.2.0",
      "_model_name": "LayoutModel",
      "_view_count": null,
      "_view_module": "@jupyter-widgets/base",
      "_view_module_version": "1.2.0",
      "_view_name": "LayoutView",
      "align_content": null,
      "align_items": null,
      "align_self": null,
      "border": null,
      "bottom": null,
      "display": null,
      "flex": null,
      "flex_flow": null,
      "grid_area": null,
      "grid_auto_columns": null,
      "grid_auto_flow": null,
      "grid_auto_rows": null,
      "grid_column": null,
      "grid_gap": null,
      "grid_row": null,
      "grid_template_areas": null,
      "grid_template_columns": null,
      "grid_template_rows": null,
      "height": null,
      "justify_content": null,
      "justify_items": null,
      "left": null,
      "margin": null,
      "max_height": null,
      "max_width": null,
      "min_height": null,
      "min_width": null,
      "object_fit": null,
      "object_position": null,
      "order": null,
      "overflow": null,
      "overflow_x": null,
      "overflow_y": null,
      "padding": null,
      "right": null,
      "top": null,
      "visibility": null,
      "width": null
     }
    }
   }
  }
 },
 "nbformat": 4,
 "nbformat_minor": 1
}
